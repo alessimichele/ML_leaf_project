{
 "cells": [
  {
   "cell_type": "markdown",
   "id": "bf5eaed3",
   "metadata": {},
   "source": [
    "## Preparing the dataset\n",
    "- load the data\n",
    "- rename the columns\n",
    "- split the dataset into train and test (test will be used only at the very final step)\n",
    "- separate the independent variables from the target variables"
   ]
  },
  {
   "cell_type": "code",
   "execution_count": 1,
   "id": "dde6e234",
   "metadata": {},
   "outputs": [],
   "source": [
    "import pandas as pd\n",
    "import numpy as np\n",
    "\n",
    "# load the data\n",
    "leaf = pd.read_csv(\"leaf.csv\" , header = None)\n",
    "\n",
    "# rename the columns\n",
    "names = np.array([\"Class\", \"Specimen\", \"Eccentricity\", \"Aspect Ratio\", \"Elongation\",\n",
    "                  \"Solidity\", \"Stochastic Convexity\", \"Isoperimetric Factor\",\n",
    "                  \"Maximal Indentation Depth \",\"Lobedness\",\"Average Intensity\",\n",
    "                  \"Average Contrast\",\"Smoothness\",\"Third moment\",\"Uniformity\",\"Entropy\"])\n",
    "leaf.columns = names\n",
    "\n",
    "data = leaf.loc[:, leaf.columns != 'Specimen']\n",
    "\n",
    "\n",
    "\"\"\"\n",
    "# split the dataset into train and test\n",
    "from sklearn.model_selection import train_test_split\n",
    "train, test = train_test_split(data, random_state = 5, test_size = 0.2, stratify = data['Class'])\n",
    "train.index = np.linspace(0, len(train)-1, len(train), dtype = 'int')\n",
    "test.index = np.linspace(0, len(test)-1, len(test), dtype = 'int')\n",
    "\n",
    "\n",
    "# separate the independent variables from the target variables\n",
    "X = train.loc[:, train.columns != 'Class']\n",
    "y = train['Class']\n",
    "# X = X_train\n",
    "# y = y_train\n",
    "\"\"\"\n",
    "X = data.loc[:, data.columns != 'Class']\n",
    "y = data['Class']"
   ]
  },
  {
   "cell_type": "code",
   "execution_count": 2,
   "id": "a5158826",
   "metadata": {},
   "outputs": [
    {
     "data": {
      "image/png": "[encoded data removed]",
      "text/plain": [
       "<Figure size 1800x800 with 1 Axes>"
      ]
     },
     "metadata": {},
     "output_type": "display_data"
    }
   ],
   "source": [
    "import matplotlib.pyplot as plt \n",
    "plt.figure(figsize = (18,8))\n",
    "y.value_counts().plot(kind = \"bar\")\n",
    "plt.xlabel('Classes')\n",
    "plt.ylabel('Observations per class')\n",
    "\n",
    "plt.savefig('unbalanced_classes.png', dpi=1500)\n",
    "plt.show()"
   ]
  },
  {
   "cell_type": "markdown",
   "id": "cc36c998",
   "metadata": {},
   "source": [
    "## Building some useful tools\n",
    "- declaring two cross-validation loop: \n",
    "    - outer stratified cv-loop\n",
    "    - inner non-stratified cv-loop\n",
    "- set the scoring we'd like to compute (this tuple will be used inside 'do_cross_validation')\n",
    "- definition of do_cross_validation: it evaluate metric(s) by cross-validation and also record fit/score times, then print result(s)."
   ]
  },
  {
   "cell_type": "markdown",
   "id": "2d147e5f",
   "metadata": {},
   "source": [
    "### Decide the metric to use\n",
    "Micro average F1 score performs worse on imbalanced datasets than macro average F1 score. The reason for this is because micro F1 gives equal importance to each observation, whilst macro F1 gives each class equal importance.\n",
    "When micro F1 score gives equal importance to each observation this means that when the classes are imbalanced, those classes with more observations will have a larger impact on the final score. Resulting in a final score which hides the performance of the minority classes and amplifies the majority.\n",
    "On the other hand, macro F1 score gives equal importance to each class. This means that a majority class will contribute equally along with the minority, allowing macro f1 to still return objective results on imbalanced datasets."
   ]
  },
  {
   "cell_type": "markdown",
   "id": "89c0306c",
   "metadata": {},
   "source": [
    "## Stratified?\n",
    "- Paper: https://arxiv.org/pdf/1811.12808.pdf\n",
    "- Code: https://github.com/rasbt/model-eval-article-supplementary/blob/master/code/nested_cv_code.ipynb\n",
    "\n",
    "Here he uses stratified K Fold both for inner and outer CV"
   ]
  },
  {
   "cell_type": "code",
   "execution_count": 3,
   "id": "0e0e6c39",
   "metadata": {},
   "outputs": [],
   "source": [
    "from sklearn.model_selection import GridSearchCV, StratifiedKFold, cross_val_score, KFold, LeaveOneOut, cross_validate\n",
    "\n",
    "# declaring two cross-validation loop\n",
    "inner_cv = StratifiedKFold(n_splits = 5) # random_state = 10)\n",
    "outer_cv = StratifiedKFold(n_splits = 5, shuffle = True, random_state=10)\n",
    "\n",
    "# set the scoring\n",
    "scoring = ('f1_macro', 'balanced_accuracy')\n",
    "# definition of do_cross_validation\n",
    "def do_cross_validation(clf,X=X, y=y, print_model=True, scoring = scoring):\n",
    "    cv = cross_validate(clf, X, y, scoring=scoring, cv= outer_cv, return_train_score=False)\n",
    "\n",
    "    for i in range(len(scoring)):\n",
    "        scores = ' + '.join(f'{s:.2f}' for s in cv['test_' + scoring[i]])\n",
    "        mean_ = cv['test_' + scoring[i]].mean()\n",
    "        msg = f'Cross-validated {scoring[i]}: ({scores}) / {outer_cv.n_splits} = {mean_:.2f}'\n",
    "        if print_model:\n",
    "            msg = f'{clf}:\\n\\t{msg}\\n'\n",
    "        print(msg)"
   ]
  },
  {
   "cell_type": "markdown",
   "id": "32580686",
   "metadata": {},
   "source": [
    "## Train Single tree \n",
    "Use 'min_samples_leaf' and impurity measures ('criterion').\n",
    "\n",
    "The paper, \"An empirical study on hyperparameter tuning of decision trees\" states that the ideal min_samples_leaf values tend to be between 1 to 20 (https://arxiv.org/pdf/1812.02207.pdf)\n",
    "\n",
    "\" I think one exception to this is when you have an imbalanced class problem because then the regions in which the minority class will be in majority will be very small so you should go with a lower value.\" (https://towardsdatascience.com/how-to-tune-a-decision-tree-f03721801680#:~:text=further%20in%20min_impurity_decrease.-,The%20paper%2C%20An%20empirical%20study%20on%20hyperparameter%20tuning%20of%20decision,20%20for%20the%20CART%20algorithm.)\n",
    "\n",
    "Our dataset is not so large so I suggest to use not so big values for 'min_samples_leaf'.\n",
    "\n",
    "https://scikit-learn.org/stable/modules/tree.html"
   ]
  },
  {
   "cell_type": "code",
   "execution_count": 4,
   "id": "687b29be",
   "metadata": {},
   "outputs": [
    {
     "name": "stdout",
     "output_type": "stream",
     "text": [
      "GridSearchCV(cv=StratifiedKFold(n_splits=5, random_state=None, shuffle=False),\n",
      "             estimator=DecisionTreeClassifier(random_state=0), n_jobs=4,\n",
      "             param_grid={'criterion': ['gini', 'entropy'],\n",
      "                         'min_samples_leaf': [1, 2, 5, 10, 15]},\n",
      "             scoring='balanced_accuracy'):\n",
      "\tCross-validated f1_macro: (0.69 + 0.61 + 0.47 + 0.67 + 0.57) / 5 = 0.60\n",
      "\n",
      "GridSearchCV(cv=StratifiedKFold(n_splits=5, random_state=None, shuffle=False),\n",
      "             estimator=DecisionTreeClassifier(random_state=0), n_jobs=4,\n",
      "             param_grid={'criterion': ['gini', 'entropy'],\n",
      "                         'min_samples_leaf': [1, 2, 5, 10, 15]},\n",
      "             scoring='balanced_accuracy'):\n",
      "\tCross-validated balanced_accuracy: (0.71 + 0.63 + 0.53 + 0.68 + 0.61) / 5 = 0.63\n",
      "\n"
     ]
    }
   ],
   "source": [
    "from sklearn.tree import DecisionTreeClassifier\n",
    "# tree inner loop\n",
    "param_grid={'min_samples_leaf': [1, 2, 5, 10, 15] , 'criterion': [\"gini\", \"entropy\"]}\n",
    "clf_grid = GridSearchCV(DecisionTreeClassifier(random_state = 0), scoring = 'balanced_accuracy', param_grid=param_grid, cv = inner_cv, n_jobs=4)\n",
    "# tree outer loop\n",
    "do_cross_validation(clf_grid)"
   ]
  },
  {
   "cell_type": "code",
   "execution_count": 19,
   "id": "78478151",
   "metadata": {},
   "outputs": [
    {
     "data": {
      "text/plain": [
       "0.06209669878504009"
      ]
     },
     "execution_count": 19,
     "metadata": {},
     "output_type": "execute_result"
    }
   ],
   "source": [
    "np.std([0.71 , 0.63 , 0.53 , 0.68 , 0.61])"
   ]
  },
  {
   "cell_type": "markdown",
   "id": "4001a0b7",
   "metadata": {},
   "source": [
    "## Train RandomForest\n",
    "- train a RandomForest by a two nested CV loop. \n",
    "    - in the outer loop we estimate the score indexes using 'do_cross_validation'\n",
    "    - in the inner loop we to GridSearch\n",
    "\n",
    "The main parameters to adjust when using Random Forest method is n_estimators and max_features.\n",
    "\n",
    "Sklearn documentation (https://scikit-learn.org/stable/modules/ensemble.html#parameters) suggests that the option 'sqrt' (this option will take square root of the total number of features in individual each split) for 'max_features' is generally good for classification problems ('sqrt' should be the default value).\n",
    "For 'n_estimators' the larger the better, but also the longer it will take to compute so we can choose some random  high values."
   ]
  },
  {
   "cell_type": "code",
   "execution_count": 6,
   "id": "673d580c",
   "metadata": {},
   "outputs": [
    {
     "name": "stdout",
     "output_type": "stream",
     "text": [
      "GridSearchCV(cv=StratifiedKFold(n_splits=5, random_state=None, shuffle=False),\n",
      "             estimator=RandomForestClassifier(random_state=0), n_jobs=4,\n",
      "             param_grid={'max_features': ['sqrt'],\n",
      "                         'n_estimators': [100, 200, 500, 750, 1000]},\n",
      "             scoring='balanced_accuracy'):\n",
      "\tCross-validated f1_macro: (0.79 + 0.72 + 0.74 + 0.85 + 0.77) / 5 = 0.77\n",
      "\n",
      "GridSearchCV(cv=StratifiedKFold(n_splits=5, random_state=None, shuffle=False),\n",
      "             estimator=RandomForestClassifier(random_state=0), n_jobs=4,\n",
      "             param_grid={'max_features': ['sqrt'],\n",
      "                         'n_estimators': [100, 200, 500, 750, 1000]},\n",
      "             scoring='balanced_accuracy'):\n",
      "\tCross-validated balanced_accuracy: (0.81 + 0.74 + 0.77 + 0.85 + 0.79) / 5 = 0.79\n",
      "\n"
     ]
    }
   ],
   "source": [
    "from sklearn.ensemble import RandomForestClassifier\n",
    "# random forest inner loop\n",
    "param_grid={'max_features': ['sqrt'], 'n_estimators':[ 100, 200, 500, 750 ,1000]}\n",
    "clf_grid = GridSearchCV(RandomForestClassifier(random_state=0), scoring = 'balanced_accuracy', param_grid=param_grid, cv = inner_cv, n_jobs=4)\n",
    "# random forest outer loop\n",
    "do_cross_validation(clf_grid)"
   ]
  },
  {
   "cell_type": "code",
   "execution_count": 7,
   "id": "aa384a6e",
   "metadata": {},
   "outputs": [
    {
     "data": {
      "text/plain": [
       "0.03709447398198282"
      ]
     },
     "execution_count": 7,
     "metadata": {},
     "output_type": "execute_result"
    }
   ],
   "source": [
    "np.std([0.81 , 0.74 , 0.77 , 0.85 , 0.79])"
   ]
  },
  {
   "cell_type": "markdown",
   "id": "d113ba18",
   "metadata": {},
   "source": [
    "## Standardization\n",
    "\n",
    "before moving to SVM and kNN, we need to standardize our independent variable. Since we are using cross validation also to assess our final performance metric we need to ensure that standardization is performed in each fold and not on the whole dataset.\\\n",
    "In order to do this we need to use the sklearn `pipeline` in conjunction with nested cross validation as before.\\\n",
    "**Performing standardization on the whole set would be wrong as we'd have information leakage from the data we use to perform our cross validation**\\\n",
    "\n",
    "When you use parameter_grid remember that the parameters must have the name of the classifier"
   ]
  },
  {
   "cell_type": "code",
   "execution_count": 8,
   "id": "72c9773b",
   "metadata": {},
   "outputs": [],
   "source": [
    "from sklearn.preprocessing import StandardScaler\n",
    "from sklearn.pipeline import Pipeline"
   ]
  },
  {
   "cell_type": "markdown",
   "id": "04b226f4",
   "metadata": {},
   "source": [
    "## Train SVM with Gaussian Kernel \n",
    "- train a SVM by a two nested CV loop. \n",
    "    - in the outer loop we estimate the score indexes using 'do_cross_validation'\n",
    "    - in the inner loop we to GridSearch\n",
    "\n",
    "Hyper-paramters to consider in the grid search:\n",
    " - `gamma`: use a set of float values, sklearn documentation suggests using exponentially spaced ones (and so do other tutorials).\n",
    " - `C`: use a set of float values, sklearn documentation suggests using exponentially spaced ones (and so do other tutorials)."
   ]
  },
  {
   "cell_type": "code",
   "execution_count": 9,
   "id": "7cf38c2f",
   "metadata": {},
   "outputs": [],
   "source": [
    "from sklearn.svm import SVC\n",
    "pipeline_SVC = Pipeline([('scaler', StandardScaler()),\n",
    "                        ('classifier', SVC(kernel='rbf', probability = True))]) #If we choose some scoring without probability set probability to FALSE\n",
    "param_grid = {'classifier__C': np.logspace(-2, 5, 8), 'classifier__gamma' : np.logspace(-4, 3, 8)}\n",
    "grid_search = GridSearchCV(pipeline_SVC, param_grid=param_grid, scoring = 'balanced_accuracy', cv = inner_cv, n_jobs=4)"
   ]
  },
  {
   "cell_type": "code",
   "execution_count": 10,
   "id": "454ff202",
   "metadata": {},
   "outputs": [
    {
     "name": "stdout",
     "output_type": "stream",
     "text": [
      "GridSearchCV(cv=StratifiedKFold(n_splits=5, random_state=None, shuffle=False),\n",
      "             estimator=Pipeline(steps=[('scaler', StandardScaler()),\n",
      "                                       ('classifier', SVC(probability=True))]),\n",
      "             n_jobs=4,\n",
      "             param_grid={'classifier__C': array([1.e-02, 1.e-01, 1.e+00, 1.e+01, 1.e+02, 1.e+03, 1.e+04, 1.e+05]),\n",
      "                         'classifier__gamma': array([1.e-04, 1.e-03, 1.e-02, 1.e-01, 1.e+00, 1.e+01, 1.e+02, 1.e+03])},\n",
      "             scoring='balanced_accuracy'):\n",
      "\tCross-validated f1_macro: (0.86 + 0.68 + 0.85 + 0.76 + 0.74) / 5 = 0.78\n",
      "\n",
      "GridSearchCV(cv=StratifiedKFold(n_splits=5, random_state=None, shuffle=False),\n",
      "             estimator=Pipeline(steps=[('scaler', StandardScaler()),\n",
      "                                       ('classifier', SVC(probability=True))]),\n",
      "             n_jobs=4,\n",
      "             param_grid={'classifier__C': array([1.e-02, 1.e-01, 1.e+00, 1.e+01, 1.e+02, 1.e+03, 1.e+04, 1.e+05]),\n",
      "                         'classifier__gamma': array([1.e-04, 1.e-03, 1.e-02, 1.e-01, 1.e+00, 1.e+01, 1.e+02, 1.e+03])},\n",
      "             scoring='balanced_accuracy'):\n",
      "\tCross-validated balanced_accuracy: (0.87 + 0.72 + 0.85 + 0.76 + 0.76) / 5 = 0.79\n",
      "\n"
     ]
    }
   ],
   "source": [
    "do_cross_validation(grid_search)"
   ]
  },
  {
   "cell_type": "code",
   "execution_count": 11,
   "id": "e8160115",
   "metadata": {},
   "outputs": [
    {
     "data": {
      "text/plain": [
       "0.0577581163127746"
      ]
     },
     "execution_count": 11,
     "metadata": {},
     "output_type": "execute_result"
    }
   ],
   "source": [
    "np.std([0.87 , 0.72 , 0.85 , 0.76 , 0.76])"
   ]
  },
  {
   "cell_type": "markdown",
   "id": "8aca1ba3",
   "metadata": {},
   "source": [
    "## Train SVM with Linear Kernel \n",
    "- train a SVM by a two nested CV loop. \n",
    "    - in the outer loop we estimate the score indexes using 'do_cross_validation'\n",
    "    - in the inner loop we to GridSearch\n",
    "\n",
    "Hyper-paramters to consider in the grid search:\n",
    " - `gamma`: use a set of float values, sklearn documentation suggests using exponentially spaced ones (and so do other tutorials).\n",
    " - `C`: use a set of float values, sklearn documentation suggests using exponentially spaced ones (and so do other tutorials)."
   ]
  },
  {
   "cell_type": "markdown",
   "id": "987d8379",
   "metadata": {},
   "source": [
    "### LinearSVC: possible alternative, but discard since ther's no built in probability parameter\n",
    "Linear Support Vector Classification.\n",
    "\n",
    "Similar to SVC with parameter kernel=’linear’, but implemented in terms of liblinear rather than libsvm, so it has more flexibility in the choice of penalties and loss functions and should scale better to large numbers of samples.\n",
    "\n",
    "This class supports both dense and sparse input and the multiclass support is handled according to a one-vs-the-rest scheme.\n",
    "\n"
   ]
  },
  {
   "cell_type": "markdown",
   "id": "443f72a2",
   "metadata": {},
   "source": [
    "https://medium.com/@myselfaman12345/c-and-gamma-in-svm-e6cee48626be\n",
    "    \n",
    "After multiple trials, we get the higher score with that value of C parameter"
   ]
  },
  {
   "cell_type": "code",
   "execution_count": 20,
   "id": "b3911a96",
   "metadata": {},
   "outputs": [],
   "source": [
    "from sklearn.svm import SVC\n",
    "pipeline_SVC = Pipeline([('scaler', StandardScaler()),\n",
    "                        ('classifier', SVC(kernel='linear', probability=True))]) #If we choose some scoring without probability set probability to FALSE\n",
    "param_grid = {'classifier__C': np.logspace(-3, 10, 10), 'classifier__decision_function_shape': ['ovo','ovr']}\n",
    "grid_search = GridSearchCV(pipeline_SVC, param_grid=param_grid, scoring = 'balanced_accuracy', cv = inner_cv, n_jobs=4)"
   ]
  },
  {
   "cell_type": "code",
   "execution_count": 21,
   "id": "f3d8950f",
   "metadata": {},
   "outputs": [
    {
     "name": "stdout",
     "output_type": "stream",
     "text": [
      "GridSearchCV(cv=StratifiedKFold(n_splits=5, random_state=None, shuffle=False),\n",
      "             estimator=Pipeline(steps=[('scaler', StandardScaler()),\n",
      "                                       ('classifier',\n",
      "                                        SVC(kernel='linear',\n",
      "                                            probability=True))]),\n",
      "             n_jobs=4,\n",
      "             param_grid={'classifier__C': array([1.00000000e-03, 2.78255940e-02, 7.74263683e-01, 2.15443469e+01,\n",
      "       5.99484250e+02, 1.66810054e+04, 4.64158883e+05, 1.29154967e+07,\n",
      "       3.59381366e+08, 1.00000000e+10]),\n",
      "                         'classifier__decision_function_shape': ['ovo', 'ovr']},\n",
      "             scoring='balanced_accuracy'):\n",
      "\tCross-validated f1_macro: (0.88 + 0.70 + 0.85 + 0.76 + 0.74) / 5 = 0.78\n",
      "\n",
      "GridSearchCV(cv=StratifiedKFold(n_splits=5, random_state=None, shuffle=False),\n",
      "             estimator=Pipeline(steps=[('scaler', StandardScaler()),\n",
      "                                       ('classifier',\n",
      "                                        SVC(kernel='linear',\n",
      "                                            probability=True))]),\n",
      "             n_jobs=4,\n",
      "             param_grid={'classifier__C': array([1.00000000e-03, 2.78255940e-02, 7.74263683e-01, 2.15443469e+01,\n",
      "       5.99484250e+02, 1.66810054e+04, 4.64158883e+05, 1.29154967e+07,\n",
      "       3.59381366e+08, 1.00000000e+10]),\n",
      "                         'classifier__decision_function_shape': ['ovo', 'ovr']},\n",
      "             scoring='balanced_accuracy'):\n",
      "\tCross-validated balanced_accuracy: (0.88 + 0.73 + 0.85 + 0.76 + 0.76) / 5 = 0.80\n",
      "\n"
     ]
    }
   ],
   "source": [
    "do_cross_validation(grid_search)"
   ]
  },
  {
   "cell_type": "code",
   "execution_count": 22,
   "id": "78cbb0a3",
   "metadata": {},
   "outputs": [
    {
     "data": {
      "text/plain": [
       "0.058172158288995954"
      ]
     },
     "execution_count": 22,
     "metadata": {},
     "output_type": "execute_result"
    }
   ],
   "source": [
    "np.std([0.88 , 0.73 , 0.85 , 0.76 , 0.76])"
   ]
  },
  {
   "cell_type": "markdown",
   "id": "f0720ccb",
   "metadata": {},
   "source": [
    "## Train kNN\n",
    "- train a kNN by a two nested CV loop. \n",
    "    - in the outer loop we estimate the score indexes using 'do_cross_validation'\n",
    "    - in the inner loop we to GridSearch\n",
    "\n",
    "The main hyper-parameters to consider when using kNN method is the distance ('classifier__p') and the number of neighbors ('classifier__n_neighbors')."
   ]
  },
  {
   "cell_type": "code",
   "execution_count": 23,
   "id": "04b375b4",
   "metadata": {},
   "outputs": [],
   "source": [
    "from sklearn.neighbors import KNeighborsClassifier\n",
    "pipeline_KNN = Pipeline([('scaler', StandardScaler()),\n",
    "                        ('classifier', KNeighborsClassifier())])\n",
    "\n",
    "# classifier_p = 1 means manhattan_distance (l1), classifier_p = 2 means euclidean_distance (l2)\n",
    "param_grid = {'classifier__n_neighbors': list(range(1,15)), 'classifier__p':[1, 2]}\n",
    "grid_search = GridSearchCV(pipeline_KNN, param_grid=param_grid, scoring = 'balanced_accuracy', cv = inner_cv)"
   ]
  },
  {
   "cell_type": "code",
   "execution_count": 24,
   "id": "cc3e1ebd",
   "metadata": {},
   "outputs": [
    {
     "name": "stdout",
     "output_type": "stream",
     "text": [
      "GridSearchCV(cv=StratifiedKFold(n_splits=5, random_state=None, shuffle=False),\n",
      "             estimator=Pipeline(steps=[('scaler', StandardScaler()),\n",
      "                                       ('classifier', KNeighborsClassifier())]),\n",
      "             param_grid={'classifier__n_neighbors': [1, 2, 3, 4, 5, 6, 7, 8, 9,\n",
      "                                                     10, 11, 12, 13, 14],\n",
      "                         'classifier__p': [1, 2]},\n",
      "             scoring='balanced_accuracy'):\n",
      "\tCross-validated f1_macro: (0.66 + 0.69 + 0.66 + 0.65 + 0.66) / 5 = 0.66\n",
      "\n",
      "GridSearchCV(cv=StratifiedKFold(n_splits=5, random_state=None, shuffle=False),\n",
      "             estimator=Pipeline(steps=[('scaler', StandardScaler()),\n",
      "                                       ('classifier', KNeighborsClassifier())]),\n",
      "             param_grid={'classifier__n_neighbors': [1, 2, 3, 4, 5, 6, 7, 8, 9,\n",
      "                                                     10, 11, 12, 13, 14],\n",
      "                         'classifier__p': [1, 2]},\n",
      "             scoring='balanced_accuracy'):\n",
      "\tCross-validated balanced_accuracy: (0.69 + 0.71 + 0.69 + 0.68 + 0.69) / 5 = 0.69\n",
      "\n"
     ]
    }
   ],
   "source": [
    "do_cross_validation(grid_search)"
   ]
  },
  {
   "cell_type": "code",
   "execution_count": 25,
   "id": "0b7c4698",
   "metadata": {},
   "outputs": [
    {
     "data": {
      "text/plain": [
       "0.009797958971132692"
      ]
     },
     "execution_count": 25,
     "metadata": {},
     "output_type": "execute_result"
    }
   ],
   "source": [
    "np.std([0.69, 0.71 , 0.69 , 0.68 , 0.69])"
   ]
  },
  {
   "cell_type": "markdown",
   "id": "2f86331b",
   "metadata": {},
   "source": [
    "## Plot a confusion matrix for the choosen classifier (RF, which has greater balanced accuracy and smaller std)"
   ]
  },
  {
   "cell_type": "code",
   "execution_count": 26,
   "id": "2ce0d644-2de1-4600-b55c-143e0ea94abb",
   "metadata": {},
   "outputs": [
    {
     "ename": "ImportError",
     "evalue": "cannot import name 'Grid' from 'sklearn.metrics' (/Library/Frameworks/Python.framework/Versions/3.11/lib/python3.11/site-packages/sklearn/metrics/__init__.py)",
     "output_type": "error",
     "traceback": [
      "\u001b[0;31m---------------------------------------------------------------------------\u001b[0m",
      "\u001b[0;31mImportError\u001b[0m                               Traceback (most recent call last)",
      "Cell \u001b[0;32mIn[26], line 2\u001b[0m\n\u001b[1;32m      1\u001b[0m \u001b[38;5;28;01mfrom\u001b[39;00m \u001b[38;5;21;01msklearn\u001b[39;00m\u001b[38;5;21;01m.\u001b[39;00m\u001b[38;5;21;01mensemble\u001b[39;00m \u001b[38;5;28;01mimport\u001b[39;00m RandomForestClassifier\n\u001b[0;32m----> 2\u001b[0m \u001b[38;5;28;01mfrom\u001b[39;00m \u001b[38;5;21;01msklearn\u001b[39;00m\u001b[38;5;21;01m.\u001b[39;00m\u001b[38;5;21;01mmetrics\u001b[39;00m \u001b[38;5;28;01mimport\u001b[39;00m Grid\n",
      "\u001b[0;31mImportError\u001b[0m: cannot import name 'Grid' from 'sklearn.metrics' (/Library/Frameworks/Python.framework/Versions/3.11/lib/python3.11/site-packages/sklearn/metrics/__init__.py)"
     ]
    }
   ],
   "source": [
    "from sklearn.ensemble import RandomForestClassifier\n",
    "from sklearn.metrics import Grid"
   ]
  },
  {
   "cell_type": "code",
   "execution_count": null,
   "id": "a77c618f",
   "metadata": {},
   "outputs": [],
   "source": [
    "from sklearn import metrics\n",
    "from sklearn.model_selection import train_test_split\n",
    "import seaborn as sns\n",
    "import matplotlib.pyplot as plt \n",
    "\n",
    "param_grid={'max_features': ['sqrt'], 'n_estimators':[ 100, 200, 500, 750 ,1000]}\n",
    "RF = GridSearchCV(RandomForestClassifier(random_state=0), scoring = 'balanced_accuracy', param_grid=param_grid, cv = inner_cv, n_jobs=4)\n",
    "\n",
    "RF = RF.fit(X,y)\n",
    "\"\"\"\n",
    "y_pred = RF.predict(X_test)\n",
    "\n",
    "\n",
    "plt.figure(figsize = (18,8))\n",
    "sns.heatmap(metrics.confusion_matrix(y_test, y_pred), annot = True, xticklabels = y_test.unique(), yticklabels = y_test.unique(), cmap = 'summer')\n",
    "plt.xlabel('Predicted Labels')\n",
    "plt.ylabel('True Labels')\n",
    "\n",
    "plt.savefig('confmat.png', dpi=1500)\n",
    "plt.show()\n",
    "\"\"\";"
   ]
  },
  {
   "cell_type": "code",
   "execution_count": null,
   "id": "566d1969-ad50-4ce0-8f03-e442709ccbd7",
   "metadata": {},
   "outputs": [],
   "source": [
    "RF.best_estimator_"
   ]
  },
  {
   "cell_type": "code",
   "execution_count": null,
   "id": "7ccec170-80ef-4e92-afc0-0d76907ea8a2",
   "metadata": {},
   "outputs": [],
   "source": [
    "RF_final = RandomForestClassifier(random_state = 0, oob_score = True, n_estimators = 500) #selected as the best one from above\n",
    "RF_final = RF_final.fit(X, y)"
   ]
  },
  {
   "cell_type": "code",
   "execution_count": null,
   "id": "2fea07d9-d4a5-498f-aa29-0abce97fe900",
   "metadata": {},
   "outputs": [],
   "source": [
    "probs = RF_final.oob_decision_function_"
   ]
  },
  {
   "cell_type": "code",
   "execution_count": null,
   "id": "f0281a36-d9d9-4889-a9b3-a663fecbcef0",
   "metadata": {},
   "outputs": [],
   "source": [
    "y.unique()"
   ]
  },
  {
   "cell_type": "code",
   "execution_count": null,
   "id": "f0eaf331-86ea-4d56-841e-99e04d62386a",
   "metadata": {},
   "outputs": [],
   "source": [
    "probs_df = pd.DataFrame(probs)\n",
    "probs_df"
   ]
  },
  {
   "cell_type": "code",
   "execution_count": null,
   "id": "b4a6a8a9-e1df-4310-9f82-08c23d56da4c",
   "metadata": {},
   "outputs": [],
   "source": [
    "probs_df.columns = y.unique()\n",
    "probs_df"
   ]
  },
  {
   "cell_type": "code",
   "execution_count": null,
   "id": "90f2231b-55a9-47ab-adf6-ceb617a6d9ef",
   "metadata": {},
   "outputs": [],
   "source": [
    "y_oob_pred = probs_df.columns[probs_df.apply(np.argmax, axis = 1)]"
   ]
  },
  {
   "cell_type": "code",
   "execution_count": null,
   "id": "7189796d-64e1-4474-b698-08bd5b73c3c7",
   "metadata": {},
   "outputs": [],
   "source": [
    "print(y_oob_pred)"
   ]
  },
  {
   "cell_type": "code",
   "execution_count": null,
   "id": "1b6151a7-2d2c-4534-b377-5ae3c6601cc1",
   "metadata": {},
   "outputs": [],
   "source": [
    "oob_confusion = np.zeros((30, 3))\n",
    "oob_confusion"
   ]
  },
  {
   "cell_type": "code",
   "execution_count": null,
   "id": "6e2b52ca-d37f-46d3-9419-af97d0045dc0",
   "metadata": {},
   "outputs": [],
   "source": [
    "for i in range(30):\n",
    "    oob_confusion[i][0] = y.unique()[i]"
   ]
  },
  {
   "cell_type": "code",
   "execution_count": null,
   "id": "ffc1f2ee-cba8-4243-8aea-1e510e686c48",
   "metadata": {},
   "outputs": [],
   "source": [
    "oob_confusion"
   ]
  },
  {
   "cell_type": "code",
   "execution_count": null,
   "id": "14ed33b0-82ea-4637-b401-3513f955f01a",
   "metadata": {},
   "outputs": [],
   "source": [
    "for i in range(340):\n",
    "    if y_oob_pred[i] == y[i]:\n",
    "        for j in range(30):\n",
    "            if y[i] ==  oob_confusion[j][0]:\n",
    "                oob_confusion[j][1] += 1\n",
    "    else:\n",
    "        for k in range(30):\n",
    "            if y[i] ==  oob_confusion[k][0]:\n",
    "                oob_confusion[k][2] += 1\n"
   ]
  },
  {
   "cell_type": "code",
   "execution_count": null,
   "id": "90ac1bd0-cc02-4db6-b793-67004a9104b2",
   "metadata": {},
   "outputs": [],
   "source": [
    "oob_confusion"
   ]
  },
  {
   "cell_type": "code",
   "execution_count": null,
   "id": "b6de8daa-ce1a-46ac-89b2-f82465db1d56",
   "metadata": {},
   "outputs": [],
   "source": [
    "oob_confusion2 = np.zeros((30, 30))"
   ]
  },
  {
   "cell_type": "code",
   "execution_count": null,
   "id": "314bbd30-d29f-493a-98b1-a02e42a5680b",
   "metadata": {},
   "outputs": [],
   "source": [
    "for i in range(len(y)):\n",
    "    if y_oob_pred[i] == y[i]:\n",
    "        if y[i] <= 14:\n",
    "            oob_confusion2[y[i]-1][y[i]-1] += 1\n",
    "        else:\n",
    "            oob_confusion2[y[i]-7][y[i]-7] += 1"
   ]
  },
  {
   "cell_type": "code",
   "execution_count": null,
   "id": "993d2722-9046-4909-88d7-f9e80bc1ebe8",
   "metadata": {},
   "outputs": [],
   "source": [
    "counted_y = y.value_counts()\n",
    "dic_counts = dict(counted_y)\n",
    "dic_counts = dict(sorted(dic_counts.items(), key=lambda item: item[0]))"
   ]
  },
  {
   "cell_type": "code",
   "execution_count": null,
   "id": "3c2e8b88-d3fa-4b29-b1c4-d10d830dabbd",
   "metadata": {},
   "outputs": [],
   "source": [
    "list(dic_counts.values())"
   ]
  },
  {
   "cell_type": "code",
   "execution_count": null,
   "id": "5330d957-a428-4f71-8269-01f317dd25dc",
   "metadata": {},
   "outputs": [],
   "source": [
    "oob_confusion2"
   ]
  },
  {
   "cell_type": "code",
   "execution_count": null,
   "id": "5d98a2ac-fd42-4c53-9f10-b1488141d835",
   "metadata": {},
   "outputs": [],
   "source": [
    "for i in range(30):\n",
    "    oob_confusion2[i][i] = oob_confusion2[i][i]/list(dic_counts.values())[i]"
   ]
  },
  {
   "cell_type": "code",
   "execution_count": null,
   "id": "a6c0b5f9-1ebd-494a-b7cf-18789dc217c4",
   "metadata": {},
   "outputs": [],
   "source": [
    "np.mean(oob_confusion2.diagonal())"
   ]
  },
  {
   "cell_type": "code",
   "execution_count": null,
   "id": "e98968ea-18b4-4bbb-9737-25aab15e643a",
   "metadata": {},
   "outputs": [],
   "source": [
    "np.mean(y_oob_pred == y)"
   ]
  },
  {
   "cell_type": "code",
   "execution_count": null,
   "id": "6f15b3d0-0312-425e-ab7a-5b43040092c2",
   "metadata": {},
   "outputs": [],
   "source": [
    "RF_final.oob_score_"
   ]
  },
  {
   "cell_type": "code",
   "execution_count": null,
   "id": "85cdd6ea-4f96-43a2-b6c3-5d0c80f00afb",
   "metadata": {},
   "outputs": [],
   "source": [
    "y_oob = probs_df.apply(np.argmax, axis = 1) + 1"
   ]
  },
  {
   "cell_type": "code",
   "execution_count": null,
   "id": "01cae960-9ee1-4695-9076-256c36efb2fc",
   "metadata": {},
   "outputs": [],
   "source": [
    "y_oob"
   ]
  },
  {
   "cell_type": "code",
   "execution_count": null,
   "id": "1f300797-98c9-44ea-80c8-17abaffc7412",
   "metadata": {},
   "outputs": [],
   "source": [
    "np.mean(y_oob == y)"
   ]
  },
  {
   "cell_type": "code",
   "execution_count": null,
   "id": "058d9edb",
   "metadata": {},
   "outputs": [],
   "source": [
    "target=[\"14\",\"27\",\"29\",\"26\",\"31\", \"25\",\"12\",\"1\",\"32\",\"24\",\"5\",\"11\",\"33\",\"9\",\"28\",\"35\",\"6\",\"15\",\"36\",\n",
    "       \"4\",\"2\", \"22\", \"13\",\"10\",\"23\",\"8\",\"7\",\"30\",\"3\",\"34\"]"
   ]
  },
  {
   "cell_type": "code",
   "execution_count": null,
   "id": "7241c32a",
   "metadata": {},
   "outputs": [],
   "source": [
    "from sklearn.metrics import classification_report\n",
    "print(classification_report(y_test, y_pred, zero_division=0, target_names = target ))"
   ]
  }
 ],
 "metadata": {
  "kernelspec": {
   "display_name": "Python 3 (ipykernel)",
   "language": "python",
   "name": "python3"
  },
  "language_info": {
   "codemirror_mode": {
    "name": "ipython",
    "version": 3
   },
   "file_extension": ".py",
   "mimetype": "text/x-python",
   "name": "python",
   "nbconvert_exporter": "python",
   "pygments_lexer": "ipython3",
   "version": "3.11.1"
  },
  "vscode": {
   "interpreter": {
    "hash": "aee8b7b246df8f9039afb4144a1f6fd8d2ca17a180786b69acc140d282b71a49"
   }
  }
 },
 "nbformat": 4,
 "nbformat_minor": 5
}
