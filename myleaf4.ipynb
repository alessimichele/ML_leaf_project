{
 "cells": [
  {
   "cell_type": "markdown",
   "id": "bf5eaed3",
   "metadata": {},
   "source": [
    "## Preparing the dataset\n",
    "- load the data\n",
    "- rename the columns\n",
    "- split the dataset into train and test (test will be used only at the very final step)\n",
    "- separate the independent variables from the target variables"
   ]
  },
  {
   "cell_type": "code",
   "execution_count": 17,
   "id": "dde6e234",
   "metadata": {},
   "outputs": [],
   "source": [
    "import pandas as pd\n",
    "import numpy as np\n",
    "\n",
    "# load the data\n",
    "leaf = pd.read_csv(\"leaf.csv\" , header = None)\n",
    "\n",
    "# rename the columns\n",
    "names = np.array([\"Class\", \"Specimen\", \"Eccentricity\", \"Aspect Ratio\", \"Elongation\",\n",
    "                  \"Solidity\", \"Stochastic Convexity\", \"Isoperimetric Factor\",\n",
    "                  \"Maximal Indentation Depth \",\"Lobedness\",\"Average Intensity\",\n",
    "                  \"Average Contrast\",\"Smoothness\",\"Third moment\",\"Uniformity\",\"Entropy\"])\n",
    "leaf.columns = names\n",
    "\n",
    "data = leaf.loc[:, leaf.columns != 'Specimen']\n",
    "\n",
    "\"\"\"\n",
    "# split the dataset into train and test\n",
    "from sklearn.model_selection import train_test_split\n",
    "train, test = train_test_split(data, random_state = 5, test_size = 0.2, stratify = data['Class'])\n",
    "train.index = np.linspace(0, len(train)-1, len(train), dtype = 'int')\n",
    "test.index = np.linspace(0, len(test)-1, len(test), dtype = 'int')\n",
    "\n",
    "\n",
    "# separate the independent variables from the target variables\n",
    "X = train.loc[:, train.columns != 'Class']\n",
    "y = train['Class']\n",
    "\"\"\"\n",
    "\n",
    "X = data.loc[:, data.columns != 'Class']\n",
    "y = data['Class']"
   ]
  },
  {
   "cell_type": "markdown",
   "id": "cc36c998",
   "metadata": {},
   "source": [
    "## Building some useful tools\n",
    "- declaring two cross-validation loop: \n",
    "    - outer stratified cv-loop\n",
    "    - inner non-stratified cv-loop\n",
    "- set the scoring we'd like to compute (this tuple will be used inside 'do_cross_validation')\n",
    "- definition of do_cross_validation: it evaluate metric(s) by cross-validation and also record fit/score times, then print result(s)."
   ]
  },
  {
   "cell_type": "markdown",
   "id": "2d147e5f",
   "metadata": {},
   "source": [
    "### Decide the metric to use\n",
    "Micro average F1 score performs worse on imbalanced datasets than macro average F1 score. The reason for this is because micro F1 gives equal importance to each observation, whilst macro F1 gives each class equal importance.\n",
    "When micro F1 score gives equal importance to each observation this means that when the classes are imbalanced, those classes with more observations will have a larger impact on the final score. Resulting in a final score which hides the performance of the minority classes and amplifies the majority.\n",
    "On the other hand, macro F1 score gives equal importance to each class. This means that a majority class will contribute equally along with the minority, allowing macro f1 to still return objective results on imbalanced datasets."
   ]
  },
  {
   "cell_type": "code",
   "execution_count": 18,
   "id": "0e0e6c39",
   "metadata": {},
   "outputs": [],
   "source": [
    "from sklearn.model_selection import GridSearchCV, StratifiedKFold, cross_val_score, KFold, LeaveOneOut, cross_validate\n",
    "\n",
    "# declaring two cross-validation loop\n",
    "inner_cv = StratifiedKFold(n_splits = 5) # random_state = 10)\n",
    "outer_cv = StratifiedKFold(n_splits = 5, shuffle = True)\n",
    "\n",
    "# set the scoring\n",
    "#scoring = ('f1_weighted', 'accuracy', 'f1_macro', 'f1_micro', 'roc_auc_ovo_weighted', 'roc_auc_ovr_weighted')\n",
    "scoring = ('f1_macro', 'f1_weighted')\n",
    "# definition of do_cross_validation\n",
    "def do_cross_validation(clf,X=X, y=y, print_model=True, scoring = scoring):\n",
    "    cv = cross_validate(clf, X, y, scoring=scoring, cv= outer_cv, return_train_score=False)\n",
    "\n",
    "    for i in range(len(scoring)):\n",
    "        scores = ' + '.join(f'{s:.2f}' for s in cv['test_' + scoring[i]])\n",
    "        mean_ = cv['test_' + scoring[i]].mean()\n",
    "        msg = f'Cross-validated {scoring[i]}: ({scores}) / {outer_cv.n_splits} = {mean_:.2f}'\n",
    "        if print_model:\n",
    "            msg = f'{clf}:\\n\\t{msg}\\n'\n",
    "        print(msg)"
   ]
  },
  {
   "cell_type": "code",
   "execution_count": 19,
   "id": "6c399920",
   "metadata": {},
   "outputs": [],
   "source": [
    "from sklearn.model_selection import GridSearchCV"
   ]
  },
  {
   "cell_type": "markdown",
   "id": "4001a0b7",
   "metadata": {},
   "source": [
    "## Train RandomForest\n",
    "- train a RandomForest by a two nested CV loop. \n",
    "    - in the outer loop we estimate the score indexes using 'do_cross_validation'\n",
    "    - in the inner loop we to GridSearch"
   ]
  },
  {
   "cell_type": "code",
   "execution_count": 20,
   "id": "673d580c",
   "metadata": {},
   "outputs": [
    {
     "name": "stdout",
     "output_type": "stream",
     "text": [
      "{'criterion': 'entropy', 'n_estimators': 500}\n",
      "GridSearchCV(cv=StratifiedKFold(n_splits=5, random_state=None, shuffle=False),\n",
      "             estimator=RandomForestClassifier(random_state=0), n_jobs=4,\n",
      "             param_grid={'criterion': ['gini', 'entropy'],\n",
      "                         'n_estimators': [50, 100, 500]}):\n",
      "\tCross-validated f1_macro: (0.73 + 0.73 + 0.70 + 0.80 + 0.69) / 5 = 0.73\n",
      "\n",
      "GridSearchCV(cv=StratifiedKFold(n_splits=5, random_state=None, shuffle=False),\n",
      "             estimator=RandomForestClassifier(random_state=0), n_jobs=4,\n",
      "             param_grid={'criterion': ['gini', 'entropy'],\n",
      "                         'n_estimators': [50, 100, 500]}):\n",
      "\tCross-validated f1_weighted: (0.75 + 0.74 + 0.69 + 0.81 + 0.68) / 5 = 0.74\n",
      "\n"
     ]
    }
   ],
   "source": [
    "from sklearn.ensemble import RandomForestClassifier\n",
    "# random forest inner loop\n",
    "param_grid={'n_estimators': [50, 100, 500], 'criterion': [\"gini\", \"entropy\"]}\n",
    "clf_grid = GridSearchCV(RandomForestClassifier(random_state=0), param_grid=param_grid, cv = inner_cv, n_jobs=4)\n",
    "\n",
    "\n",
    "\n",
    "### questo è per la confusion matrix finale, si può togliere\n",
    "clf_grid.fit(X,y) \n",
    "print(clf_grid.best_params_) \n",
    "crit= list(clf_grid.best_params_.values())[0]\n",
    "n_est = list(clf_grid.best_params_.values())[1]\n",
    "###\n",
    "\n",
    "\n",
    "\n",
    "# random forest outer loop\n",
    "do_cross_validation(clf_grid)"
   ]
  },
  {
   "cell_type": "markdown",
   "id": "d113ba18",
   "metadata": {},
   "source": [
    "## Standardization\n",
    "\n",
    "before moving to SVM and kNN, we need to standardize our independent variable. Since we are using cross validation also to assess our final performance metric we need to ensure that standardization is performed in each fold and not on the whole dataset.\\\n",
    "In order to do this we need to use the sklearn `pipeline` in conjunction with nested cross validation as before.\\\n",
    "**Performing standardization on the whole set would be wrong as we'd have information leakage from the data we use to perform our cross validation**\\\n",
    "\n",
    "When you use parameter_grid remember that the parameters must have the name of the classifier"
   ]
  },
  {
   "cell_type": "code",
   "execution_count": 5,
   "id": "72c9773b",
   "metadata": {},
   "outputs": [],
   "source": [
    "from sklearn.preprocessing import StandardScaler\n",
    "from sklearn.pipeline import Pipeline"
   ]
  },
  {
   "cell_type": "markdown",
   "id": "04b226f4",
   "metadata": {},
   "source": [
    "## Train SVM with Gaussian Kernel \n",
    "- train a SVM by a two nested CV loop. \n",
    "    - in the outer loop we estimate the score indexes using 'do_cross_validation'\n",
    "    - in the inner loop we to GridSearch\n",
    "\n",
    "Hyper-paramters to consider in the grid search:\n",
    " - `gamma`: use a set of float values, sklearn documentation suggests using exponentially spaced ones (and so do other tutorials).\n",
    " - `C`: use a set of float values, sklearn documentation suggests using exponentially spaced ones (and so do other tutorials)."
   ]
  },
  {
   "cell_type": "code",
   "execution_count": 6,
   "id": "7cf38c2f",
   "metadata": {},
   "outputs": [],
   "source": [
    "from sklearn.svm import SVC\n",
    "pipeline_SVC = Pipeline([('scaler', StandardScaler()),\n",
    "                        ('classifier', SVC(kernel='rbf', probability = True))]) #If we choose some scoring without probability set probability to FALSE\n",
    "param_grid = {'classifier__C': np.logspace(-2, 5, 8), 'classifier__gamma' : np.logspace(-4, 3, 8)}\n",
    "grid_search = GridSearchCV(pipeline_SVC, param_grid=param_grid, cv = inner_cv, n_jobs=4)"
   ]
  },
  {
   "cell_type": "code",
   "execution_count": 7,
   "id": "454ff202",
   "metadata": {},
   "outputs": [
    {
     "name": "stdout",
     "output_type": "stream",
     "text": [
      "GridSearchCV(cv=StratifiedKFold(n_splits=5, random_state=None, shuffle=False),\n",
      "             estimator=Pipeline(steps=[('scaler', StandardScaler()),\n",
      "                                       ('classifier', SVC(probability=True))]),\n",
      "             n_jobs=4,\n",
      "             param_grid={'classifier__C': array([1.e-02, 1.e-01, 1.e+00, 1.e+01, 1.e+02, 1.e+03, 1.e+04, 1.e+05]),\n",
      "                         'classifier__gamma': array([1.e-04, 1.e-03, 1.e-02, 1.e-01, 1.e+00, 1.e+01, 1.e+02, 1.e+03])}):\n",
      "\tCross-validated f1_macro: (0.82 + 0.67 + 0.81 + 0.71 + 0.78) / 5 = 0.76\n",
      "\n",
      "GridSearchCV(cv=StratifiedKFold(n_splits=5, random_state=None, shuffle=False),\n",
      "             estimator=Pipeline(steps=[('scaler', StandardScaler()),\n",
      "                                       ('classifier', SVC(probability=True))]),\n",
      "             n_jobs=4,\n",
      "             param_grid={'classifier__C': array([1.e-02, 1.e-01, 1.e+00, 1.e+01, 1.e+02, 1.e+03, 1.e+04, 1.e+05]),\n",
      "                         'classifier__gamma': array([1.e-04, 1.e-03, 1.e-02, 1.e-01, 1.e+00, 1.e+01, 1.e+02, 1.e+03])}):\n",
      "\tCross-validated accuracy: (0.84 + 0.71 + 0.82 + 0.75 + 0.79) / 5 = 0.78\n",
      "\n"
     ]
    }
   ],
   "source": [
    "do_cross_validation(grid_search)"
   ]
  },
  {
   "cell_type": "markdown",
   "id": "8aca1ba3",
   "metadata": {},
   "source": [
    "## Train SVM with Linear Kernel \n",
    "- train a SVM by a two nested CV loop. \n",
    "    - in the outer loop we estimate the score indexes using 'do_cross_validation'\n",
    "    - in the inner loop we to GridSearch\n",
    "\n",
    "Hyper-paramters to consider in the grid search:\n",
    " - `gamma`: use a set of float values, sklearn documentation suggests using exponentially spaced ones (and so do other tutorials).\n",
    " - `C`: use a set of float values, sklearn documentation suggests using exponentially spaced ones (and so do other tutorials)."
   ]
  },
  {
   "cell_type": "markdown",
   "id": "987d8379",
   "metadata": {},
   "source": [
    "### LinearSVC: possible alternative, but discard since ther's no built in probability parameter\n",
    "Linear Support Vector Classification.\n",
    "\n",
    "Similar to SVC with parameter kernel=’linear’, but implemented in terms of liblinear rather than libsvm, so it has more flexibility in the choice of penalties and loss functions and should scale better to large numbers of samples.\n",
    "\n",
    "This class supports both dense and sparse input and the multiclass support is handled according to a one-vs-the-rest scheme.\n",
    "\n"
   ]
  },
  {
   "cell_type": "markdown",
   "id": "443f72a2",
   "metadata": {},
   "source": [
    "https://medium.com/@myselfaman12345/c-and-gamma-in-svm-e6cee48626be\n",
    "    \n",
    "After multiple trials, we get the higher score with that value of C parameter"
   ]
  },
  {
   "cell_type": "code",
   "execution_count": 21,
   "id": "b3911a96",
   "metadata": {},
   "outputs": [],
   "source": [
    "from sklearn.svm import SVC\n",
    "pipeline_SVC = Pipeline([('scaler', StandardScaler()),\n",
    "                        ('classifier', SVC(kernel='linear', probability=True))]) #If we choose some scoring without probability set probability to FALSE\n",
    "param_grid = {'classifier__C': np.logspace(-3, 10, 10), 'classifier__decision_function_shape': ['ovo','ovr']}\n",
    "grid_search = GridSearchCV(pipeline_SVC, param_grid=param_grid, cv = inner_cv, n_jobs=4)"
   ]
  },
  {
   "cell_type": "code",
   "execution_count": 22,
   "id": "f3d8950f",
   "metadata": {},
   "outputs": [
    {
     "name": "stdout",
     "output_type": "stream",
     "text": [
      "GridSearchCV(cv=StratifiedKFold(n_splits=5, random_state=None, shuffle=False),\n",
      "             estimator=Pipeline(steps=[('scaler', StandardScaler()),\n",
      "                                       ('classifier',\n",
      "                                        SVC(kernel='linear',\n",
      "                                            probability=True))]),\n",
      "             n_jobs=4,\n",
      "             param_grid={'classifier__C': array([1.00000000e-03, 2.78255940e-02, 7.74263683e-01, 2.15443469e+01,\n",
      "       5.99484250e+02, 1.66810054e+04, 4.64158883e+05, 1.29154967e+07,\n",
      "       3.59381366e+08, 1.00000000e+10]),\n",
      "                         'classifier__decision_function_shape': ['ovo', 'ovr']}):\n",
      "\tCross-validated f1_macro: (0.76 + 0.73 + 0.71 + 0.79 + 0.81) / 5 = 0.76\n",
      "\n",
      "GridSearchCV(cv=StratifiedKFold(n_splits=5, random_state=None, shuffle=False),\n",
      "             estimator=Pipeline(steps=[('scaler', StandardScaler()),\n",
      "                                       ('classifier',\n",
      "                                        SVC(kernel='linear',\n",
      "                                            probability=True))]),\n",
      "             n_jobs=4,\n",
      "             param_grid={'classifier__C': array([1.00000000e-03, 2.78255940e-02, 7.74263683e-01, 2.15443469e+01,\n",
      "       5.99484250e+02, 1.66810054e+04, 4.64158883e+05, 1.29154967e+07,\n",
      "       3.59381366e+08, 1.00000000e+10]),\n",
      "                         'classifier__decision_function_shape': ['ovo', 'ovr']}):\n",
      "\tCross-validated f1_weighted: (0.78 + 0.75 + 0.71 + 0.80 + 0.80) / 5 = 0.77\n",
      "\n"
     ]
    }
   ],
   "source": [
    "do_cross_validation(grid_search)"
   ]
  },
  {
   "cell_type": "markdown",
   "id": "f0720ccb",
   "metadata": {},
   "source": [
    "## Train kNN\n",
    "- train a kNN by a two nested CV loop. \n",
    "    - in the outer loop we estimate the score indexes using 'do_cross_validation'\n",
    "    - in the inner loop we to GridSearch"
   ]
  },
  {
   "cell_type": "code",
   "execution_count": 11,
   "id": "04b375b4",
   "metadata": {},
   "outputs": [],
   "source": [
    "from sklearn.neighbors import KNeighborsClassifier\n",
    "pipeline_KNN = Pipeline([('scaler', StandardScaler()),\n",
    "                        ('classifier', KNeighborsClassifier())])\n",
    "\n",
    "param_grid = {'classifier__n_neighbors': (2, 5, 10, 15, 20), 'classifier__p':[1, 2]}\n",
    "grid_search = GridSearchCV(pipeline_KNN, param_grid=param_grid, cv = inner_cv)"
   ]
  },
  {
   "cell_type": "code",
   "execution_count": 12,
   "id": "cc3e1ebd",
   "metadata": {},
   "outputs": [
    {
     "name": "stdout",
     "output_type": "stream",
     "text": [
      "GridSearchCV(cv=StratifiedKFold(n_splits=5, random_state=None, shuffle=False),\n",
      "             estimator=Pipeline(steps=[('scaler', StandardScaler()),\n",
      "                                       ('classifier', KNeighborsClassifier())]),\n",
      "             param_grid={'classifier__n_neighbors': (2, 5, 10, 15, 20),\n",
      "                         'classifier__p': [1, 2]}):\n",
      "\tCross-validated f1_macro: (0.67 + 0.69 + 0.55 + 0.62 + 0.63) / 5 = 0.63\n",
      "\n",
      "GridSearchCV(cv=StratifiedKFold(n_splits=5, random_state=None, shuffle=False),\n",
      "             estimator=Pipeline(steps=[('scaler', StandardScaler()),\n",
      "                                       ('classifier', KNeighborsClassifier())]),\n",
      "             param_grid={'classifier__n_neighbors': (2, 5, 10, 15, 20),\n",
      "                         'classifier__p': [1, 2]}):\n",
      "\tCross-validated accuracy: (0.74 + 0.69 + 0.59 + 0.65 + 0.66) / 5 = 0.66\n",
      "\n"
     ]
    }
   ],
   "source": [
    "do_cross_validation(grid_search)"
   ]
  },
  {
   "cell_type": "markdown",
   "id": "ad6ec84c",
   "metadata": {},
   "source": [
    "## Next step (asap)\n",
    "\n",
    "- MICHELE: effectiveness indexes (scegliere quale usare) \n",
    "- ELENA: cross validation: inner outer (probabilmente sara: stratified e il numero dei fold è tale che non abbiamo fold vuoti rispetto a una classe)\n",
    "- SAMUELE: vedere di sistemare la stadardizzazione \n",
    "\n",
    "- scegliere gli iperparametri di:\n",
    "        - ELENA: albero (aggiungere albero singolo all'inizio) + RF (max_features + quanti alberi?) + kNN\n",
    "        - MICHELE: SVM (linear)\n",
    "        - SAMUELE: SVM (gauss)\n",
    "\n",
    "\n",
    "- analisi variabili ???"
   ]
  },
  {
   "cell_type": "markdown",
   "id": "2f86331b",
   "metadata": {},
   "source": [
    "Just plot a confusion matrix of a trained RF with the best parameter we've obtained."
   ]
  },
  {
   "cell_type": "code",
   "execution_count": 13,
   "id": "7566b9fb",
   "metadata": {},
   "outputs": [
    {
     "data": {
      "image/png": "[encoded data removed]",
      "text/plain": [
       "<Figure size 1800x800 with 2 Axes>"
      ]
     },
     "metadata": {},
     "output_type": "display_data"
    }
   ],
   "source": [
    "from sklearn import metrics\n",
    "from sklearn.model_selection import train_test_split\n",
    "import seaborn as sns\n",
    "import matplotlib.pyplot as plt \n",
    "\n",
    "train, test = train_test_split(data, random_state = 5, test_size = 0.2, stratify = data['Class'])\n",
    "train.index = np.linspace(0, len(train)-1, len(train), dtype = 'int')\n",
    "test.index = np.linspace(0, len(test)-1, len(test), dtype = 'int')\n",
    "\n",
    "X = train.loc[:, train.columns != 'Class']\n",
    "y = train['Class']\n",
    "\n",
    "X_test = test.loc[:, test.columns != 'Class']\n",
    "y_test = test['Class']\n",
    "\n",
    "tree = RandomForestClassifier(criterion='gini', n_estimators= 500)\n",
    "tree.fit(X,y)\n",
    "y_pred = tree.predict(X_test)\n",
    "\n",
    "plt.figure(figsize = (18,8))\n",
    "sns.heatmap(metrics.confusion_matrix(y_test, y_pred), annot = True, xticklabels = y_test.unique(), yticklabels = y_test.unique(), cmap = 'summer')\n",
    "plt.xlabel('Predicted Labels')\n",
    "plt.ylabel('True Labels')\n",
    "plt.show()"
   ]
  },
  {
   "cell_type": "markdown",
   "id": "c48d1e53",
   "metadata": {},
   "source": []
  },
  {
   "cell_type": "code",
   "execution_count": null,
   "id": "3e06f917",
   "metadata": {},
   "outputs": [],
   "source": []
  }
 ],
 "metadata": {
  "kernelspec": {
   "display_name": "Python 3 (ipykernel)",
   "language": "python",
   "name": "python3"
  },
  "language_info": {
   "codemirror_mode": {
    "name": "ipython",
    "version": 3
   },
   "file_extension": ".py",
   "mimetype": "text/x-python",
   "name": "python",
   "nbconvert_exporter": "python",
   "pygments_lexer": "ipython3",
   "version": "3.11.1"
  }
 },
 "nbformat": 4,
 "nbformat_minor": 5
}
