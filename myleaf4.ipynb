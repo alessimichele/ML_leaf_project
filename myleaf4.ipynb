{
 "cells": [
  {
   "cell_type": "markdown",
   "id": "bf5eaed3",
   "metadata": {},
   "source": [
    "## Preparing the dataset\n",
    "- load the data\n",
    "- rename the columns\n",
    "- split the dataset into train and test (test will be used only at the very final step)\n",
    "- separate the independent variables from the target variables"
   ]
  },
  {
   "cell_type": "code",
   "execution_count": 2,
   "id": "dde6e234",
   "metadata": {},
   "outputs": [],
   "source": [
    "import pandas as pd\n",
    "import numpy as np\n",
    "\n",
    "# load the data\n",
    "leaf = pd.read_csv(\"leaf.csv\" , header = None)\n",
    "\n",
    "# rename the columns\n",
    "names = np.array([\"Class\", \"Specimen\", \"Eccentricity\", \"Aspect Ratio\", \"Elongation\",\n",
    "                  \"Solidity\", \"Stochastic Convexity\", \"Isoperimetric Factor\",\n",
    "                  \"Maximal Indentation Depth \",\"Lobedness\",\"Average Intensity\",\n",
    "                  \"Average Contrast\",\"Smoothness\",\"Third moment\",\"Uniformity\",\"Entropy\"])\n",
    "leaf.columns = names\n",
    "\n",
    "data = leaf.loc[:, leaf.columns != 'Specimen']\n",
    "\n",
    "\"\"\"\n",
    "# split the dataset into train and test\n",
    "from sklearn.model_selection import train_test_split\n",
    "train, test = train_test_split(data, random_state = 5, test_size = 0.2, stratify = data['Class'])\n",
    "train.index = np.linspace(0, len(train)-1, len(train), dtype = 'int')\n",
    "test.index = np.linspace(0, len(test)-1, len(test), dtype = 'int')\n",
    "\n",
    "\n",
    "# separate the independent variables from the target variables\n",
    "X = train.loc[:, train.columns != 'Class']\n",
    "y = train['Class']\n",
    "\"\"\"\n",
    "\n",
    "X = data.loc[:, data.columns != 'Class']\n",
    "y = data['Class']"
   ]
  },
  {
   "cell_type": "markdown",
   "id": "cc36c998",
   "metadata": {},
   "source": [
    "## Building some useful tools\n",
    "- declaring two cross-validation loop: \n",
    "    - outer stratified cv-loop\n",
    "    - inner non-stratified cv-loop\n",
    "- set the scoring we'd like to compute (this tuple will be used inside 'do_cross_validation')\n",
    "- definition of do_cross_validation: it evaluate metric(s) by cross-validation and also record fit/score times, then print result(s)."
   ]
  },
  {
   "cell_type": "markdown",
   "id": "2d147e5f",
   "metadata": {},
   "source": [
    "### Decide the metric to use\n",
    "Micro average F1 score performs worse on imbalanced datasets than macro average F1 score. The reason for this is because micro F1 gives equal importance to each observation, whilst macro F1 gives each class equal importance.\n",
    "When micro F1 score gives equal importance to each observation this means that when the classes are imbalanced, those classes with more observations will have a larger impact on the final score. Resulting in a final score which hides the performance of the minority classes and amplifies the majority.\n",
    "On the other hand, macro F1 score gives equal importance to each class. This means that a majority class will contribute equally along with the minority, allowing macro f1 to still return objective results on imbalanced datasets."
   ]
  },
  {
   "attachments": {},
   "cell_type": "markdown",
   "id": "89c0306c",
   "metadata": {},
   "source": [
    "## Stratified?\n",
    "- Paper: https://arxiv.org/pdf/1811.12808.pdf\n",
    "- Code: https://github.com/rasbt/model-eval-article-supplementary/blob/master/code/nested_cv_code.ipynb\n",
    "\n",
    "Here he uses stratified K Fold both for inner and outer CV"
   ]
  },
  {
   "cell_type": "code",
   "execution_count": 3,
   "id": "0e0e6c39",
   "metadata": {},
   "outputs": [],
   "source": [
    "from sklearn.model_selection import GridSearchCV, StratifiedKFold, cross_val_score, KFold, LeaveOneOut, cross_validate\n",
    "\n",
    "# declaring two cross-validation loop\n",
    "inner_cv = StratifiedKFold(n_splits = 5) # random_state = 10)\n",
    "outer_cv = StratifiedKFold(n_splits = 5, shuffle = True)\n",
    "\n",
    "# set the scoring\n",
    "#scoring = ('f1_weighted', 'accuracy', 'f1_macro', 'f1_micro', 'roc_auc_ovo_weighted', 'roc_auc_ovr_weighted')\n",
    "scoring = ('f1_macro', 'f1_weighted')\n",
    "# definition of do_cross_validation\n",
    "def do_cross_validation(clf,X=X, y=y, print_model=True, scoring = scoring):\n",
    "    cv = cross_validate(clf, X, y, scoring=scoring, cv= outer_cv, return_train_score=False)\n",
    "\n",
    "    for i in range(len(scoring)):\n",
    "        scores = ' + '.join(f'{s:.2f}' for s in cv['test_' + scoring[i]])\n",
    "        mean_ = cv['test_' + scoring[i]].mean()\n",
    "        msg = f'Cross-validated {scoring[i]}: ({scores}) / {outer_cv.n_splits} = {mean_:.2f}'\n",
    "        if print_model:\n",
    "            msg = f'{clf}:\\n\\t{msg}\\n'\n",
    "        print(msg)"
   ]
  },
  {
   "cell_type": "code",
   "execution_count": 4,
   "id": "6c399920",
   "metadata": {},
   "outputs": [],
   "source": [
    "from sklearn.model_selection import GridSearchCV"
   ]
  },
  {
   "attachments": {},
   "cell_type": "markdown",
   "id": "32580686",
   "metadata": {},
   "source": [
    "## Single tree (ADDED)\n",
    "Use 'min_samples_leaf' and impurity measures ('criterion').\n",
    "\n",
    "The paper, \"An empirical study on hyperparameter tuning of decision trees\" states that the ideal min_samples_leaf values tend to be between 1 to 20 (https://arxiv.org/pdf/1812.02207.pdf)\n",
    "\n",
    "\" I think one exception to this is when you have an imbalanced class problem because then the regions in which the minority class will be in majority will be very small so you should go with a lower value.\" (https://towardsdatascience.com/how-to-tune-a-decision-tree-f03721801680#:~:text=further%20in%20min_impurity_decrease.-,The%20paper%2C%20An%20empirical%20study%20on%20hyperparameter%20tuning%20of%20decision,20%20for%20the%20CART%20algorithm.)\n",
    "\n",
    "Our dataset is not so large so I suggest to use not so big values for 'min_samples_leaf'.\n",
    "\n",
    "https://scikit-learn.org/stable/modules/tree.html"
   ]
  },
  {
   "cell_type": "code",
   "execution_count": 5,
   "id": "687b29be",
   "metadata": {},
   "outputs": [
    {
     "name": "stdout",
     "output_type": "stream",
     "text": [
      "GridSearchCV(cv=StratifiedKFold(n_splits=5, random_state=None, shuffle=False),\n",
      "             estimator=DecisionTreeClassifier(random_state=0), n_jobs=4,\n",
      "             param_grid={'criterion': ['gini', 'entropy'],\n",
      "                         'min_samples_leaf': [1, 2, 5, 10, 15]}):\n",
      "\tCross-validated f1_macro: (0.69 + 0.60 + 0.50 + 0.66 + 0.58) / 5 = 0.61\n",
      "\n",
      "GridSearchCV(cv=StratifiedKFold(n_splits=5, random_state=None, shuffle=False),\n",
      "             estimator=DecisionTreeClassifier(random_state=0), n_jobs=4,\n",
      "             param_grid={'criterion': ['gini', 'entropy'],\n",
      "                         'min_samples_leaf': [1, 2, 5, 10, 15]}):\n",
      "\tCross-validated f1_weighted: (0.70 + 0.59 + 0.50 + 0.67 + 0.59) / 5 = 0.61\n",
      "\n"
     ]
    }
   ],
   "source": [
    "from sklearn.tree import DecisionTreeClassifier\n",
    "# tree inner loop\n",
    "param_grid={'min_samples_leaf': [1, 2, 5, 10, 15] , 'criterion': [\"gini\", \"entropy\"]}\n",
    "clf_grid = GridSearchCV(DecisionTreeClassifier(random_state = 0), param_grid=param_grid, cv = inner_cv, n_jobs=4)\n",
    "# tree outer loop\n",
    "do_cross_validation(clf_grid)"
   ]
  },
  {
   "attachments": {},
   "cell_type": "markdown",
   "id": "4001a0b7",
   "metadata": {},
   "source": [
    "## Train RandomForest\n",
    "- train a RandomForest by a two nested CV loop. \n",
    "    - in the outer loop we estimate the score indexes using 'do_cross_validation'\n",
    "    - in the inner loop we to GridSearch\n",
    "\n",
    "The main parameters to adjust when using Random Forest method is n_estimators and max_features.\n",
    "\n",
    "Sklearn documentation (https://scikit-learn.org/stable/modules/ensemble.html#parameters) suggests that the option 'sqrt' (this option will take square root of the total number of features in individual each split) for 'max_features' is generally good for classification problems ('sqrt' should be the default value).\n",
    "For 'n_estimators' the larger the better, but also the longer it will take to compute so we can choose some random  high values."
   ]
  },
  {
   "cell_type": "code",
   "execution_count": 6,
   "id": "673d580c",
   "metadata": {},
   "outputs": [
    {
     "name": "stdout",
     "output_type": "stream",
     "text": [
      "GridSearchCV(cv=StratifiedKFold(n_splits=5, random_state=None, shuffle=False),\n",
      "             estimator=RandomForestClassifier(random_state=0), n_jobs=4,\n",
      "             param_grid={'max_features': ['sqrt'],\n",
      "                         'n_estimators': [25, 50, 100, 200, 500]}):\n",
      "\tCross-validated f1_macro: (0.86 + 0.74 + 0.70 + 0.74 + 0.70) / 5 = 0.75\n",
      "\n",
      "GridSearchCV(cv=StratifiedKFold(n_splits=5, random_state=None, shuffle=False),\n",
      "             estimator=RandomForestClassifier(random_state=0), n_jobs=4,\n",
      "             param_grid={'max_features': ['sqrt'],\n",
      "                         'n_estimators': [25, 50, 100, 200, 500]}):\n",
      "\tCross-validated f1_weighted: (0.86 + 0.72 + 0.71 + 0.75 + 0.71) / 5 = 0.75\n",
      "\n",
      "{'max_features': 'sqrt', 'n_estimators': 200}\n"
     ]
    }
   ],
   "source": [
    "from sklearn.ensemble import RandomForestClassifier\n",
    "# random forest inner loop\n",
    "param_grid={'max_features': ['sqrt'], 'n_estimators':[25, 50, 100, 200, 500]}\n",
    "clf_grid = GridSearchCV(RandomForestClassifier(random_state=0), param_grid=param_grid, cv = inner_cv, n_jobs=4)\n",
    "# random forest outer loop\n",
    "do_cross_validation(clf_grid)\n",
    "\n",
    "### questo è per la confusion matrix finale, si può togliere\n",
    "clf_grid.fit(X,y) \n",
    "print(clf_grid.best_params_) \n",
    "crit= list(clf_grid.best_params_.values())[0]\n",
    "n_est = list(clf_grid.best_params_.values())[1]\n",
    "###\n"
   ]
  },
  {
   "cell_type": "markdown",
   "id": "d113ba18",
   "metadata": {},
   "source": [
    "## Standardization\n",
    "\n",
    "before moving to SVM and kNN, we need to standardize our independent variable. Since we are using cross validation also to assess our final performance metric we need to ensure that standardization is performed in each fold and not on the whole dataset.\\\n",
    "In order to do this we need to use the sklearn `pipeline` in conjunction with nested cross validation as before.\\\n",
    "**Performing standardization on the whole set would be wrong as we'd have information leakage from the data we use to perform our cross validation**\\\n",
    "\n",
    "When you use parameter_grid remember that the parameters must have the name of the classifier"
   ]
  },
  {
   "cell_type": "code",
   "execution_count": 7,
   "id": "72c9773b",
   "metadata": {},
   "outputs": [],
   "source": [
    "from sklearn.preprocessing import StandardScaler\n",
    "from sklearn.pipeline import Pipeline"
   ]
  },
  {
   "cell_type": "markdown",
   "id": "04b226f4",
   "metadata": {},
   "source": [
    "## Train SVM with Gaussian Kernel \n",
    "- train a SVM by a two nested CV loop. \n",
    "    - in the outer loop we estimate the score indexes using 'do_cross_validation'\n",
    "    - in the inner loop we to GridSearch\n",
    "\n",
    "Hyper-paramters to consider in the grid search:\n",
    " - `gamma`: use a set of float values, sklearn documentation suggests using exponentially spaced ones (and so do other tutorials).\n",
    " - `C`: use a set of float values, sklearn documentation suggests using exponentially spaced ones (and so do other tutorials)."
   ]
  },
  {
   "cell_type": "code",
   "execution_count": 8,
   "id": "7cf38c2f",
   "metadata": {},
   "outputs": [],
   "source": [
    "from sklearn.svm import SVC\n",
    "pipeline_SVC = Pipeline([('scaler', StandardScaler()),\n",
    "                        ('classifier', SVC(kernel='rbf', probability = True))]) #If we choose some scoring without probability set probability to FALSE\n",
    "param_grid = {'classifier__C': np.logspace(-2, 5, 8), 'classifier__gamma' : np.logspace(-4, 3, 8)}\n",
    "grid_search = GridSearchCV(pipeline_SVC, param_grid=param_grid, cv = inner_cv, n_jobs=4)"
   ]
  },
  {
   "cell_type": "code",
   "execution_count": 9,
   "id": "454ff202",
   "metadata": {},
   "outputs": [
    {
     "name": "stdout",
     "output_type": "stream",
     "text": [
      "GridSearchCV(cv=StratifiedKFold(n_splits=5, random_state=None, shuffle=False),\n",
      "             estimator=Pipeline(steps=[('scaler', StandardScaler()),\n",
      "                                       ('classifier', SVC(probability=True))]),\n",
      "             n_jobs=4,\n",
      "             param_grid={'classifier__C': array([1.e-02, 1.e-01, 1.e+00, 1.e+01, 1.e+02, 1.e+03, 1.e+04, 1.e+05]),\n",
      "                         'classifier__gamma': array([1.e-04, 1.e-03, 1.e-02, 1.e-01, 1.e+00, 1.e+01, 1.e+02, 1.e+03])}):\n",
      "\tCross-validated f1_macro: (0.67 + 0.74 + 0.79 + 0.73 + 0.80) / 5 = 0.75\n",
      "\n",
      "GridSearchCV(cv=StratifiedKFold(n_splits=5, random_state=None, shuffle=False),\n",
      "             estimator=Pipeline(steps=[('scaler', StandardScaler()),\n",
      "                                       ('classifier', SVC(probability=True))]),\n",
      "             n_jobs=4,\n",
      "             param_grid={'classifier__C': array([1.e-02, 1.e-01, 1.e+00, 1.e+01, 1.e+02, 1.e+03, 1.e+04, 1.e+05]),\n",
      "                         'classifier__gamma': array([1.e-04, 1.e-03, 1.e-02, 1.e-01, 1.e+00, 1.e+01, 1.e+02, 1.e+03])}):\n",
      "\tCross-validated f1_weighted: (0.69 + 0.74 + 0.79 + 0.74 + 0.79) / 5 = 0.75\n",
      "\n"
     ]
    }
   ],
   "source": [
    "do_cross_validation(grid_search)"
   ]
  },
  {
   "cell_type": "markdown",
   "id": "8aca1ba3",
   "metadata": {},
   "source": [
    "## Train SVM with Linear Kernel \n",
    "- train a SVM by a two nested CV loop. \n",
    "    - in the outer loop we estimate the score indexes using 'do_cross_validation'\n",
    "    - in the inner loop we to GridSearch\n",
    "\n",
    "Hyper-paramters to consider in the grid search:\n",
    " - `gamma`: use a set of float values, sklearn documentation suggests using exponentially spaced ones (and so do other tutorials).\n",
    " - `C`: use a set of float values, sklearn documentation suggests using exponentially spaced ones (and so do other tutorials)."
   ]
  },
  {
   "cell_type": "markdown",
   "id": "987d8379",
   "metadata": {},
   "source": [
    "### LinearSVC: possible alternative, but discard since ther's no built in probability parameter\n",
    "Linear Support Vector Classification.\n",
    "\n",
    "Similar to SVC with parameter kernel=’linear’, but implemented in terms of liblinear rather than libsvm, so it has more flexibility in the choice of penalties and loss functions and should scale better to large numbers of samples.\n",
    "\n",
    "This class supports both dense and sparse input and the multiclass support is handled according to a one-vs-the-rest scheme.\n",
    "\n"
   ]
  },
  {
   "cell_type": "markdown",
   "id": "443f72a2",
   "metadata": {},
   "source": [
    "https://medium.com/@myselfaman12345/c-and-gamma-in-svm-e6cee48626be\n",
    "    \n",
    "After multiple trials, we get the higher score with that value of C parameter"
   ]
  },
  {
   "cell_type": "code",
   "execution_count": 10,
   "id": "b3911a96",
   "metadata": {},
   "outputs": [],
   "source": [
    "from sklearn.svm import SVC\n",
    "pipeline_SVC = Pipeline([('scaler', StandardScaler()),\n",
    "                        ('classifier', SVC(kernel='linear', probability=True))]) #If we choose some scoring without probability set probability to FALSE\n",
    "param_grid = {'classifier__C': np.logspace(-3, 10, 10), 'classifier__decision_function_shape': ['ovo','ovr']}\n",
    "grid_search = GridSearchCV(pipeline_SVC, param_grid=param_grid, cv = inner_cv, n_jobs=4)"
   ]
  },
  {
   "cell_type": "code",
   "execution_count": 11,
   "id": "f3d8950f",
   "metadata": {},
   "outputs": [
    {
     "name": "stdout",
     "output_type": "stream",
     "text": [
      "GridSearchCV(cv=StratifiedKFold(n_splits=5, random_state=None, shuffle=False),\n",
      "             estimator=Pipeline(steps=[('scaler', StandardScaler()),\n",
      "                                       ('classifier',\n",
      "                                        SVC(kernel='linear',\n",
      "                                            probability=True))]),\n",
      "             n_jobs=4,\n",
      "             param_grid={'classifier__C': array([1.00000000e-03, 2.78255940e-02, 7.74263683e-01, 2.15443469e+01,\n",
      "       5.99484250e+02, 1.66810054e+04, 4.64158883e+05, 1.29154967e+07,\n",
      "       3.59381366e+08, 1.00000000e+10]),\n",
      "                         'classifier__decision_function_shape': ['ovo', 'ovr']}):\n",
      "\tCross-validated f1_macro: (0.73 + 0.76 + 0.69 + 0.77 + 0.82) / 5 = 0.75\n",
      "\n",
      "GridSearchCV(cv=StratifiedKFold(n_splits=5, random_state=None, shuffle=False),\n",
      "             estimator=Pipeline(steps=[('scaler', StandardScaler()),\n",
      "                                       ('classifier',\n",
      "                                        SVC(kernel='linear',\n",
      "                                            probability=True))]),\n",
      "             n_jobs=4,\n",
      "             param_grid={'classifier__C': array([1.00000000e-03, 2.78255940e-02, 7.74263683e-01, 2.15443469e+01,\n",
      "       5.99484250e+02, 1.66810054e+04, 4.64158883e+05, 1.29154967e+07,\n",
      "       3.59381366e+08, 1.00000000e+10]),\n",
      "                         'classifier__decision_function_shape': ['ovo', 'ovr']}):\n",
      "\tCross-validated f1_weighted: (0.76 + 0.76 + 0.69 + 0.78 + 0.82) / 5 = 0.76\n",
      "\n"
     ]
    }
   ],
   "source": [
    "do_cross_validation(grid_search)"
   ]
  },
  {
   "attachments": {},
   "cell_type": "markdown",
   "id": "f0720ccb",
   "metadata": {},
   "source": [
    "## Train kNN\n",
    "- train a kNN by a two nested CV loop. \n",
    "    - in the outer loop we estimate the score indexes using 'do_cross_validation'\n",
    "    - in the inner loop we to GridSearch\n",
    "\n",
    "The main hyper-parameters to consider when using kNN method is the distance ('classifier__p') and the number of neighbors ('classifier__n_neighbors')."
   ]
  },
  {
   "cell_type": "code",
   "execution_count": 12,
   "id": "04b375b4",
   "metadata": {},
   "outputs": [],
   "source": [
    "from sklearn.neighbors import KNeighborsClassifier\n",
    "pipeline_KNN = Pipeline([('scaler', StandardScaler()),\n",
    "                        ('classifier', KNeighborsClassifier())])\n",
    "\n",
    "# classifier_p = 1 means manhattan_distance (l1), classifier_p = 2 means euclidean_distance (l2)\n",
    "param_grid = {'classifier__n_neighbors': list(range(1,15)), 'classifier__p':[1, 2]}\n",
    "grid_search = GridSearchCV(pipeline_KNN, param_grid=param_grid, cv = inner_cv)"
   ]
  },
  {
   "cell_type": "code",
   "execution_count": 13,
   "id": "cc3e1ebd",
   "metadata": {},
   "outputs": [
    {
     "name": "stdout",
     "output_type": "stream",
     "text": [
      "GridSearchCV(cv=StratifiedKFold(n_splits=5, random_state=None, shuffle=False),\n",
      "             estimator=Pipeline(steps=[('scaler', StandardScaler()),\n",
      "                                       ('classifier', KNeighborsClassifier())]),\n",
      "             param_grid={'classifier__n_neighbors': [1, 2, 3, 4, 5, 6, 7, 8, 9,\n",
      "                                                     10, 11, 12, 13, 14],\n",
      "                         'classifier__p': [1, 2]}):\n",
      "\tCross-validated f1_macro: (0.68 + 0.60 + 0.66 + 0.75 + 0.69) / 5 = 0.68\n",
      "\n",
      "GridSearchCV(cv=StratifiedKFold(n_splits=5, random_state=None, shuffle=False),\n",
      "             estimator=Pipeline(steps=[('scaler', StandardScaler()),\n",
      "                                       ('classifier', KNeighborsClassifier())]),\n",
      "             param_grid={'classifier__n_neighbors': [1, 2, 3, 4, 5, 6, 7, 8, 9,\n",
      "                                                     10, 11, 12, 13, 14],\n",
      "                         'classifier__p': [1, 2]}):\n",
      "\tCross-validated f1_weighted: (0.69 + 0.59 + 0.66 + 0.76 + 0.68) / 5 = 0.67\n",
      "\n"
     ]
    }
   ],
   "source": [
    "do_cross_validation(grid_search)"
   ]
  },
  {
   "cell_type": "markdown",
   "id": "2f86331b",
   "metadata": {},
   "source": [
    "Plot a confusion matrix of a trained RF with the best parameter we've obtained."
   ]
  },
  {
   "cell_type": "code",
   "execution_count": 14,
   "id": "7566b9fb",
   "metadata": {},
   "outputs": [
    {
     "data": {
      "image/png": "[encoded data removed]",
      "text/plain": [
       "<Figure size 1800x800 with 2 Axes>"
      ]
     },
     "metadata": {},
     "output_type": "display_data"
    }
   ],
   "source": [
    "from sklearn import metrics\n",
    "from sklearn.model_selection import train_test_split\n",
    "import seaborn as sns\n",
    "import matplotlib.pyplot as plt \n",
    "\n",
    "train, test = train_test_split(data, random_state = 5, test_size = 0.2, stratify = data['Class'])\n",
    "train.index = np.linspace(0, len(train)-1, len(train), dtype = 'int')\n",
    "test.index = np.linspace(0, len(test)-1, len(test), dtype = 'int')\n",
    "\n",
    "X = train.loc[:, train.columns != 'Class']\n",
    "y = train['Class']\n",
    "\n",
    "X_test = test.loc[:, test.columns != 'Class']\n",
    "y_test = test['Class']\n",
    "\n",
    "tree = RandomForestClassifier(criterion='gini', n_estimators= 500)\n",
    "tree.fit(X,y)\n",
    "y_pred = tree.predict(X_test)\n",
    "\n",
    "plt.figure(figsize = (18,8))\n",
    "sns.heatmap(metrics.confusion_matrix(y_test, y_pred), annot = True, xticklabels = y_test.unique(), yticklabels = y_test.unique(), cmap = 'summer')\n",
    "plt.xlabel('Predicted Labels')\n",
    "plt.ylabel('True Labels')\n",
    "plt.show()"
   ]
  }
 ],
 "metadata": {
  "kernelspec": {
   "display_name": "MachineLearning",
   "language": "python",
   "name": "python3"
  },
  "language_info": {
   "codemirror_mode": {
    "name": "ipython",
    "version": 3
   },
   "file_extension": ".py",
   "mimetype": "text/x-python",
   "name": "python",
   "nbconvert_exporter": "python",
   "pygments_lexer": "ipython3",
   "version": "3.10.8"
  },
  "vscode": {
   "interpreter": {
    "hash": "9533920c7ee3feefaac535b9c7b09635a12db6b56d85f8d667a5e58c27926dfa"
   }
  }
 },
 "nbformat": 4,
 "nbformat_minor": 5
}
