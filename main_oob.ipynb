{
 "cells": [
  {
   "cell_type": "markdown",
   "id": "bf5eaed3",
   "metadata": {},
   "source": [
    "## Preparing the dataset\n",
    "- load the data\n",
    "- rename the columns\n",
    "- split the dataset into train and test (test will be used only at the very final step)\n",
    "- separate the independent variables from the target variables"
   ]
  },
  {
   "cell_type": "code",
   "execution_count": 1,
   "id": "dde6e234",
   "metadata": {},
   "outputs": [],
   "source": [
    "import pandas as pd\n",
    "import numpy as np\n",
    "\n",
    "# load the data\n",
    "leaf = pd.read_csv(\"leaf.csv\" , header = None)\n",
    "\n",
    "# rename the columns\n",
    "names = np.array([\"Class\", \"Specimen\", \"Eccentricity\", \"Aspect Ratio\", \"Elongation\",\n",
    "                  \"Solidity\", \"Stochastic Convexity\", \"Isoperimetric Factor\",\n",
    "                  \"Maximal Indentation Depth \",\"Lobedness\",\"Average Intensity\",\n",
    "                  \"Average Contrast\",\"Smoothness\",\"Third moment\",\"Uniformity\",\"Entropy\"])\n",
    "leaf.columns = names\n",
    "\n",
    "data = leaf.loc[:, leaf.columns != 'Specimen']\n",
    "\n",
    "\n",
    "\"\"\"\n",
    "# split the dataset into train and test\n",
    "from sklearn.model_selection import train_test_split\n",
    "train, test = train_test_split(data, random_state = 5, test_size = 0.2, stratify = data['Class'])\n",
    "train.index = np.linspace(0, len(train)-1, len(train), dtype = 'int')\n",
    "test.index = np.linspace(0, len(test)-1, len(test), dtype = 'int')\n",
    "\n",
    "\n",
    "# separate the independent variables from the target variables\n",
    "X = train.loc[:, train.columns != 'Class']\n",
    "y = train['Class']\n",
    "# X = X_train\n",
    "# y = y_train\n",
    "\"\"\"\n",
    "X = data.loc[:, data.columns != 'Class']\n",
    "y = data['Class']"
   ]
  },
  {
   "cell_type": "code",
   "execution_count": 3,
   "id": "a5158826",
   "metadata": {},
   "outputs": [
    {
     "data": {
      "image/png": "[encoded data removed]",
      "text/plain": [
       "<Figure size 1800x800 with 1 Axes>"
      ]
     },
     "metadata": {},
     "output_type": "display_data"
    }
   ],
   "source": [
    "import matplotlib.pyplot as plt \n",
    "plt.figure(figsize = (18,8))\n",
    "y.value_counts().plot(kind = \"bar\")\n",
    "plt.xlabel('Classes')\n",
    "plt.ylabel('Observations per class')\n",
    "\n",
    "plt.savefig('unbalanced_classes.png', dpi=1500)\n",
    "plt.show()"
   ]
  },
  {
   "cell_type": "markdown",
   "id": "cc36c998",
   "metadata": {},
   "source": [
    "## Building some useful tools\n",
    "- declaring two cross-validation loop: \n",
    "    - outer stratified cv-loop\n",
    "    - inner non-stratified cv-loop\n",
    "- set the scoring we'd like to compute (this tuple will be used inside 'do_cross_validation')\n",
    "- definition of do_cross_validation: it evaluate metric(s) by cross-validation and also record fit/score times, then print result(s)."
   ]
  },
  {
   "cell_type": "markdown",
   "id": "2d147e5f",
   "metadata": {},
   "source": [
    "### Decide the metric to use\n",
    "Micro average F1 score performs worse on imbalanced datasets than macro average F1 score. The reason for this is because micro F1 gives equal importance to each observation, whilst macro F1 gives each class equal importance.\n",
    "When micro F1 score gives equal importance to each observation this means that when the classes are imbalanced, those classes with more observations will have a larger impact on the final score. Resulting in a final score which hides the performance of the minority classes and amplifies the majority.\n",
    "On the other hand, macro F1 score gives equal importance to each class. This means that a majority class will contribute equally along with the minority, allowing macro f1 to still return objective results on imbalanced datasets."
   ]
  },
  {
   "cell_type": "markdown",
   "id": "89c0306c",
   "metadata": {},
   "source": [
    "## Stratified?\n",
    "- Paper: https://arxiv.org/pdf/1811.12808.pdf\n",
    "- Code: https://github.com/rasbt/model-eval-article-supplementary/blob/master/code/nested_cv_code.ipynb\n",
    "\n",
    "Here he uses stratified K Fold both for inner and outer CV"
   ]
  },
  {
   "cell_type": "code",
   "execution_count": 5,
   "id": "0e0e6c39",
   "metadata": {},
   "outputs": [],
   "source": [
    "from sklearn.model_selection import GridSearchCV, StratifiedKFold, cross_val_score, KFold, LeaveOneOut, cross_validate\n",
    "\n",
    "# declaring two cross-validation loop\n",
    "inner_cv = StratifiedKFold(n_splits = 4) # random_state = 10)\n",
    "outer_cv = StratifiedKFold(n_splits = 5, shuffle = True, random_state=10)\n",
    "\n",
    "# set the scoring\n",
    "scoring = ('f1_macro', 'balanced_accuracy')\n",
    "# definition of do_cross_validation\n",
    "def do_cross_validation(clf,X=X, y=y, print_model=True, scoring = scoring):\n",
    "    cv = cross_validate(clf, X, y, scoring=scoring, cv= outer_cv, return_train_score=False)\n",
    "\n",
    "    for i in range(len(scoring)):\n",
    "        scores = ' + '.join(f'{s:.2f}' for s in cv['test_' + scoring[i]])\n",
    "        mean_ = cv['test_' + scoring[i]].mean()\n",
    "        msg = f'Cross-validated {scoring[i]}: ({scores}) / {outer_cv.n_splits} = {mean_:.2f}'\n",
    "        if print_model:\n",
    "            msg = f'{clf}:\\n\\t{msg}\\n'\n",
    "        print(msg)"
   ]
  },
  {
   "cell_type": "markdown",
   "id": "32580686",
   "metadata": {},
   "source": [
    "## Train Single tree \n",
    "Use 'min_samples_leaf' and impurity measures ('criterion').\n",
    "\n",
    "The paper, \"An empirical study on hyperparameter tuning of decision trees\" states that the ideal min_samples_leaf values tend to be between 1 to 20 (https://arxiv.org/pdf/1812.02207.pdf)\n",
    "\n",
    "\" I think one exception to this is when you have an imbalanced class problem because then the regions in which the minority class will be in majority will be very small so you should go with a lower value.\" (https://towardsdatascience.com/how-to-tune-a-decision-tree-f03721801680#:~:text=further%20in%20min_impurity_decrease.-,The%20paper%2C%20An%20empirical%20study%20on%20hyperparameter%20tuning%20of%20decision,20%20for%20the%20CART%20algorithm.)\n",
    "\n",
    "Our dataset is not so large so I suggest to use not so big values for 'min_samples_leaf'.\n",
    "\n",
    "https://scikit-learn.org/stable/modules/tree.html"
   ]
  },
  {
   "cell_type": "code",
   "execution_count": 5,
   "id": "687b29be",
   "metadata": {},
   "outputs": [
    {
     "name": "stdout",
     "output_type": "stream",
     "text": [
      "GridSearchCV(cv=StratifiedKFold(n_splits=4, random_state=None, shuffle=False),\n",
      "             estimator=DecisionTreeClassifier(random_state=0), n_jobs=4,\n",
      "             param_grid={'criterion': ['gini', 'entropy'],\n",
      "                         'min_samples_leaf': [1, 2, 5, 10, 15]},\n",
      "             scoring='balanced_accuracy'):\n",
      "\tCross-validated f1_macro: (0.70 + 0.61 + 0.47 + 0.60 + 0.71) / 5 = 0.62\n",
      "\n",
      "GridSearchCV(cv=StratifiedKFold(n_splits=4, random_state=None, shuffle=False),\n",
      "             estimator=DecisionTreeClassifier(random_state=0), n_jobs=4,\n",
      "             param_grid={'criterion': ['gini', 'entropy'],\n",
      "                         'min_samples_leaf': [1, 2, 5, 10, 15]},\n",
      "             scoring='balanced_accuracy'):\n",
      "\tCross-validated balanced_accuracy: (0.73 + 0.63 + 0.53 + 0.62 + 0.73) / 5 = 0.65\n",
      "\n"
     ]
    }
   ],
   "source": [
    "from sklearn.tree import DecisionTreeClassifier\n",
    "# tree inner loop\n",
    "param_grid={'min_samples_leaf': [1, 2, 5, 10, 15] , 'criterion': [\"gini\", \"entropy\"]}\n",
    "clf_grid = GridSearchCV(DecisionTreeClassifier(random_state = 0), scoring = 'balanced_accuracy', param_grid=param_grid, cv = inner_cv, n_jobs=4)\n",
    "# tree outer loop\n",
    "do_cross_validation(clf_grid)"
   ]
  },
  {
   "cell_type": "code",
   "execution_count": 15,
   "id": "78478151",
   "metadata": {},
   "outputs": [
    {
     "data": {
      "text/plain": [
       "0.07547184905645282"
      ]
     },
     "execution_count": 15,
     "metadata": {},
     "output_type": "execute_result"
    }
   ],
   "source": [
    "np.std([0.73, 0.63, 0.53, 0.62, 0.73])"
   ]
  },
  {
   "cell_type": "markdown",
   "id": "4001a0b7",
   "metadata": {},
   "source": [
    "## Train RandomForest\n",
    "- train a RandomForest by a two nested CV loop. \n",
    "    - in the outer loop we estimate the score indexes using 'do_cross_validation'\n",
    "    - in the inner loop we to GridSearch\n",
    "\n",
    "The main parameters to adjust when using Random Forest method is n_estimators and max_features.\n",
    "\n",
    "Sklearn documentation (https://scikit-learn.org/stable/modules/ensemble.html#parameters) suggests that the option 'sqrt' (this option will take square root of the total number of features in individual each split) for 'max_features' is generally good for classification problems ('sqrt' should be the default value).\n",
    "For 'n_estimators' the larger the better, but also the longer it will take to compute so we can choose some random  high values."
   ]
  },
  {
   "cell_type": "code",
   "execution_count": 16,
   "id": "673d580c",
   "metadata": {},
   "outputs": [
    {
     "name": "stdout",
     "output_type": "stream",
     "text": [
      "GridSearchCV(cv=StratifiedKFold(n_splits=4, random_state=None, shuffle=False),\n",
      "             estimator=RandomForestClassifier(random_state=0), n_jobs=4,\n",
      "             param_grid={'max_features': ['sqrt'],\n",
      "                         'n_estimators': [100, 200, 500, 750, 1000]},\n",
      "             scoring='balanced_accuracy'):\n",
      "\tCross-validated f1_macro: (0.81 + 0.71 + 0.75 + 0.85 + 0.77) / 5 = 0.78\n",
      "\n",
      "GridSearchCV(cv=StratifiedKFold(n_splits=4, random_state=None, shuffle=False),\n",
      "             estimator=RandomForestClassifier(random_state=0), n_jobs=4,\n",
      "             param_grid={'max_features': ['sqrt'],\n",
      "                         'n_estimators': [100, 200, 500, 750, 1000]},\n",
      "             scoring='balanced_accuracy'):\n",
      "\tCross-validated balanced_accuracy: (0.82 + 0.74 + 0.77 + 0.85 + 0.81) / 5 = 0.80\n",
      "\n"
     ]
    }
   ],
   "source": [
    "from sklearn.ensemble import RandomForestClassifier\n",
    "# random forest inner loop\n",
    "param_grid={'max_features': ['sqrt'], 'n_estimators':[ 100, 200, 500, 750 ,1000]}\n",
    "clf_grid = GridSearchCV(RandomForestClassifier(random_state=0), scoring = 'balanced_accuracy', param_grid=param_grid, cv = inner_cv, n_jobs=4)\n",
    "# random forest outer loop\n",
    "do_cross_validation(clf_grid)"
   ]
  },
  {
   "cell_type": "code",
   "execution_count": 8,
   "id": "aa384a6e",
   "metadata": {},
   "outputs": [
    {
     "data": {
      "text/plain": [
       "0.026532998322843223"
      ]
     },
     "execution_count": 8,
     "metadata": {},
     "output_type": "execute_result"
    }
   ],
   "source": [
    "np.std([0.78,0.73,0.70,0.74,0.72])"
   ]
  },
  {
   "cell_type": "markdown",
   "id": "d113ba18",
   "metadata": {},
   "source": [
    "## Standardization\n",
    "\n",
    "before moving to SVM and kNN, we need to standardize our independent variable. Since we are using cross validation also to assess our final performance metric we need to ensure that standardization is performed in each fold and not on the whole dataset.\\\n",
    "In order to do this we need to use the sklearn `pipeline` in conjunction with nested cross validation as before.\\\n",
    "**Performing standardization on the whole set would be wrong as we'd have information leakage from the data we use to perform our cross validation**\\\n",
    "\n",
    "When you use parameter_grid remember that the parameters must have the name of the classifier"
   ]
  },
  {
   "cell_type": "code",
   "execution_count": 8,
   "id": "72c9773b",
   "metadata": {},
   "outputs": [],
   "source": [
    "from sklearn.preprocessing import StandardScaler\n",
    "from sklearn.pipeline import Pipeline"
   ]
  },
  {
   "cell_type": "markdown",
   "id": "04b226f4",
   "metadata": {},
   "source": [
    "## Train SVM with Gaussian Kernel \n",
    "- train a SVM by a two nested CV loop. \n",
    "    - in the outer loop we estimate the score indexes using 'do_cross_validation'\n",
    "    - in the inner loop we to GridSearch\n",
    "\n",
    "Hyper-paramters to consider in the grid search:\n",
    " - `gamma`: use a set of float values, sklearn documentation suggests using exponentially spaced ones (and so do other tutorials).\n",
    " - `C`: use a set of float values, sklearn documentation suggests using exponentially spaced ones (and so do other tutorials)."
   ]
  },
  {
   "cell_type": "code",
   "execution_count": 9,
   "id": "7cf38c2f",
   "metadata": {},
   "outputs": [],
   "source": [
    "from sklearn.svm import SVC\n",
    "pipeline_SVC = Pipeline([('scaler', StandardScaler()),\n",
    "                        ('classifier', SVC(kernel='rbf', probability = True))]) #If we choose some scoring without probability set probability to FALSE\n",
    "param_grid = {'classifier__C': np.logspace(-2, 5, 8), 'classifier__gamma' : np.logspace(-4, 3, 8)}\n",
    "grid_search = GridSearchCV(pipeline_SVC, param_grid=param_grid, scoring = 'balanced_accuracy', cv = inner_cv, n_jobs=4)"
   ]
  },
  {
   "cell_type": "code",
   "execution_count": 10,
   "id": "454ff202",
   "metadata": {},
   "outputs": [
    {
     "name": "stdout",
     "output_type": "stream",
     "text": [
      "GridSearchCV(cv=StratifiedKFold(n_splits=4, random_state=None, shuffle=False),\n",
      "             estimator=Pipeline(steps=[('scaler', StandardScaler()),\n",
      "                                       ('classifier', SVC(probability=True))]),\n",
      "             n_jobs=4,\n",
      "             param_grid={'classifier__C': array([1.e-02, 1.e-01, 1.e+00, 1.e+01, 1.e+02, 1.e+03, 1.e+04, 1.e+05]),\n",
      "                         'classifier__gamma': array([1.e-04, 1.e-03, 1.e-02, 1.e-01, 1.e+00, 1.e+01, 1.e+02, 1.e+03])},\n",
      "             scoring='balanced_accuracy'):\n",
      "\tCross-validated f1_macro: (0.86 + 0.72 + 0.77 + 0.69 + 0.71) / 5 = 0.75\n",
      "\n",
      "GridSearchCV(cv=StratifiedKFold(n_splits=4, random_state=None, shuffle=False),\n",
      "             estimator=Pipeline(steps=[('scaler', StandardScaler()),\n",
      "                                       ('classifier', SVC(probability=True))]),\n",
      "             n_jobs=4,\n",
      "             param_grid={'classifier__C': array([1.e-02, 1.e-01, 1.e+00, 1.e+01, 1.e+02, 1.e+03, 1.e+04, 1.e+05]),\n",
      "                         'classifier__gamma': array([1.e-04, 1.e-03, 1.e-02, 1.e-01, 1.e+00, 1.e+01, 1.e+02, 1.e+03])},\n",
      "             scoring='balanced_accuracy'):\n",
      "\tCross-validated balanced_accuracy: (0.88 + 0.73 + 0.78 + 0.73 + 0.73) / 5 = 0.77\n",
      "\n"
     ]
    }
   ],
   "source": [
    "do_cross_validation(grid_search)"
   ]
  },
  {
   "cell_type": "code",
   "execution_count": 17,
   "id": "e8160115",
   "metadata": {},
   "outputs": [
    {
     "data": {
      "text/plain": [
       "0.058309518948453015"
      ]
     },
     "execution_count": 17,
     "metadata": {},
     "output_type": "execute_result"
    }
   ],
   "source": [
    "np.std([0.88, 0.73, 0.78, 0.73, 0.73])"
   ]
  },
  {
   "cell_type": "markdown",
   "id": "8aca1ba3",
   "metadata": {},
   "source": [
    "## Train SVM with Linear Kernel \n",
    "- train a SVM by a two nested CV loop. \n",
    "    - in the outer loop we estimate the score indexes using 'do_cross_validation'\n",
    "    - in the inner loop we to GridSearch\n",
    "\n",
    "Hyper-paramters to consider in the grid search:\n",
    " - `gamma`: use a set of float values, sklearn documentation suggests using exponentially spaced ones (and so do other tutorials).\n",
    " - `C`: use a set of float values, sklearn documentation suggests using exponentially spaced ones (and so do other tutorials)."
   ]
  },
  {
   "cell_type": "markdown",
   "id": "987d8379",
   "metadata": {},
   "source": [
    "### LinearSVC: possible alternative, but discard since ther's no built in probability parameter\n",
    "Linear Support Vector Classification.\n",
    "\n",
    "Similar to SVC with parameter kernel=’linear’, but implemented in terms of liblinear rather than libsvm, so it has more flexibility in the choice of penalties and loss functions and should scale better to large numbers of samples.\n",
    "\n",
    "This class supports both dense and sparse input and the multiclass support is handled according to a one-vs-the-rest scheme.\n",
    "\n"
   ]
  },
  {
   "cell_type": "markdown",
   "id": "443f72a2",
   "metadata": {},
   "source": [
    "https://medium.com/@myselfaman12345/c-and-gamma-in-svm-e6cee48626be\n",
    "    \n",
    "After multiple trials, we get the higher score with that value of C parameter"
   ]
  },
  {
   "cell_type": "code",
   "execution_count": 11,
   "id": "b3911a96",
   "metadata": {},
   "outputs": [],
   "source": [
    "from sklearn.svm import SVC\n",
    "pipeline_SVC = Pipeline([('scaler', StandardScaler()),\n",
    "                        ('classifier', SVC(kernel='linear', probability=True))]) #If we choose some scoring without probability set probability to FALSE\n",
    "param_grid = {'classifier__C': np.logspace(-3, 10, 10), 'classifier__decision_function_shape': ['ovo','ovr']}\n",
    "grid_search = GridSearchCV(pipeline_SVC, param_grid=param_grid, scoring = 'balanced_accuracy', cv = inner_cv, n_jobs=4)"
   ]
  },
  {
   "cell_type": "code",
   "execution_count": 12,
   "id": "f3d8950f",
   "metadata": {},
   "outputs": [
    {
     "name": "stdout",
     "output_type": "stream",
     "text": [
      "GridSearchCV(cv=StratifiedKFold(n_splits=4, random_state=None, shuffle=False),\n",
      "             estimator=Pipeline(steps=[('scaler', StandardScaler()),\n",
      "                                       ('classifier',\n",
      "                                        SVC(kernel='linear',\n",
      "                                            probability=True))]),\n",
      "             n_jobs=4,\n",
      "             param_grid={'classifier__C': array([1.00000000e-03, 2.78255940e-02, 7.74263683e-01, 2.15443469e+01,\n",
      "       5.99484250e+02, 1.66810054e+04, 4.64158883e+05, 1.29154967e+07,\n",
      "       3.59381366e+08, 1.00000000e+10]),\n",
      "                         'classifier__decision_function_shape': ['ovo', 'ovr']},\n",
      "             scoring='balanced_accuracy'):\n",
      "\tCross-validated f1_macro: (0.88 + 0.70 + 0.81 + 0.76 + 0.73) / 5 = 0.78\n",
      "\n",
      "GridSearchCV(cv=StratifiedKFold(n_splits=4, random_state=None, shuffle=False),\n",
      "             estimator=Pipeline(steps=[('scaler', StandardScaler()),\n",
      "                                       ('classifier',\n",
      "                                        SVC(kernel='linear',\n",
      "                                            probability=True))]),\n",
      "             n_jobs=4,\n",
      "             param_grid={'classifier__C': array([1.00000000e-03, 2.78255940e-02, 7.74263683e-01, 2.15443469e+01,\n",
      "       5.99484250e+02, 1.66810054e+04, 4.64158883e+05, 1.29154967e+07,\n",
      "       3.59381366e+08, 1.00000000e+10]),\n",
      "                         'classifier__decision_function_shape': ['ovo', 'ovr']},\n",
      "             scoring='balanced_accuracy'):\n",
      "\tCross-validated balanced_accuracy: (0.88 + 0.73 + 0.82 + 0.76 + 0.75) / 5 = 0.79\n",
      "\n"
     ]
    }
   ],
   "source": [
    "do_cross_validation(grid_search)"
   ]
  },
  {
   "cell_type": "code",
   "execution_count": 18,
   "id": "78cbb0a3",
   "metadata": {},
   "outputs": [
    {
     "data": {
      "text/plain": [
       "0.054918120870983925"
      ]
     },
     "execution_count": 18,
     "metadata": {},
     "output_type": "execute_result"
    }
   ],
   "source": [
    "np.std([0.88 , 0.73 , 0.82, 0.76, 0.75])"
   ]
  },
  {
   "cell_type": "markdown",
   "id": "f0720ccb",
   "metadata": {},
   "source": [
    "## Train kNN\n",
    "- train a kNN by a two nested CV loop. \n",
    "    - in the outer loop we estimate the score indexes using 'do_cross_validation'\n",
    "    - in the inner loop we to GridSearch\n",
    "\n",
    "The main hyper-parameters to consider when using kNN method is the distance ('classifier__p') and the number of neighbors ('classifier__n_neighbors')."
   ]
  },
  {
   "cell_type": "code",
   "execution_count": 19,
   "id": "04b375b4",
   "metadata": {},
   "outputs": [],
   "source": [
    "from sklearn.neighbors import KNeighborsClassifier\n",
    "pipeline_KNN = Pipeline([('scaler', StandardScaler()),\n",
    "                        ('classifier', KNeighborsClassifier())])\n",
    "\n",
    "# classifier_p = 1 means manhattan_distance (l1), classifier_p = 2 means euclidean_distance (l2)\n",
    "param_grid = {'classifier__n_neighbors': list(range(1,15)), 'classifier__p':[1, 2]}\n",
    "grid_search = GridSearchCV(pipeline_KNN, param_grid=param_grid, scoring = 'balanced_accuracy', cv = inner_cv)"
   ]
  },
  {
   "cell_type": "code",
   "execution_count": 20,
   "id": "cc3e1ebd",
   "metadata": {},
   "outputs": [
    {
     "name": "stdout",
     "output_type": "stream",
     "text": [
      "GridSearchCV(cv=StratifiedKFold(n_splits=4, random_state=None, shuffle=False),\n",
      "             estimator=Pipeline(steps=[('scaler', StandardScaler()),\n",
      "                                       ('classifier', KNeighborsClassifier())]),\n",
      "             param_grid={'classifier__n_neighbors': [1, 2, 3, 4, 5, 6, 7, 8, 9,\n",
      "                                                     10, 11, 12, 13, 14],\n",
      "                         'classifier__p': [1, 2]},\n",
      "             scoring='balanced_accuracy'):\n",
      "\tCross-validated f1_macro: (0.66 + 0.69 + 0.66 + 0.65 + 0.66) / 5 = 0.66\n",
      "\n",
      "GridSearchCV(cv=StratifiedKFold(n_splits=4, random_state=None, shuffle=False),\n",
      "             estimator=Pipeline(steps=[('scaler', StandardScaler()),\n",
      "                                       ('classifier', KNeighborsClassifier())]),\n",
      "             param_grid={'classifier__n_neighbors': [1, 2, 3, 4, 5, 6, 7, 8, 9,\n",
      "                                                     10, 11, 12, 13, 14],\n",
      "                         'classifier__p': [1, 2]},\n",
      "             scoring='balanced_accuracy'):\n",
      "\tCross-validated balanced_accuracy: (0.69 + 0.71 + 0.69 + 0.65 + 0.69) / 5 = 0.69\n",
      "\n"
     ]
    }
   ],
   "source": [
    "do_cross_validation(grid_search)"
   ]
  },
  {
   "cell_type": "code",
   "execution_count": 21,
   "id": "0b7c4698",
   "metadata": {},
   "outputs": [
    {
     "data": {
      "text/plain": [
       "0.0195959179422654"
      ]
     },
     "execution_count": 21,
     "metadata": {},
     "output_type": "execute_result"
    }
   ],
   "source": [
    "np.std([0.69, 0.71 , 0.69 , 0.65 , 0.69])"
   ]
  },
  {
   "cell_type": "markdown",
   "id": "2f86331b",
   "metadata": {},
   "source": [
    "## Plot a confusion matrix for the choosen classifier (RF, which has greater balanced accuracy and smaller std)"
   ]
  },
  {
   "cell_type": "code",
   "execution_count": 3,
   "id": "2ce0d644-2de1-4600-b55c-143e0ea94abb",
   "metadata": {},
   "outputs": [],
   "source": [
    "from sklearn.ensemble import RandomForestClassifier\n",
    "from sklearn.metrics import Grid"
   ]
  },
  {
   "cell_type": "code",
   "execution_count": 6,
   "id": "a77c618f",
   "metadata": {},
   "outputs": [],
   "source": [
    "from sklearn import metrics\n",
    "from sklearn.model_selection import train_test_split\n",
    "import seaborn as sns\n",
    "import matplotlib.pyplot as plt \n",
    "\n",
    "param_grid={'max_features': ['sqrt'], 'n_estimators':[ 100, 200, 500, 750 ,1000]}\n",
    "RF = GridSearchCV(RandomForestClassifier(random_state=0), scoring = 'balanced_accuracy', param_grid=param_grid, cv = inner_cv, n_jobs=4)\n",
    "\n",
    "RF = RF.fit(X,y)\n",
    "\"\"\"\n",
    "y_pred = RF.predict(X_test)\n",
    "\n",
    "\n",
    "plt.figure(figsize = (18,8))\n",
    "sns.heatmap(metrics.confusion_matrix(y_test, y_pred), annot = True, xticklabels = y_test.unique(), yticklabels = y_test.unique(), cmap = 'summer')\n",
    "plt.xlabel('Predicted Labels')\n",
    "plt.ylabel('True Labels')\n",
    "\n",
    "plt.savefig('confmat.png', dpi=1500)\n",
    "plt.show()\n",
    "\"\"\";"
   ]
  },
  {
   "cell_type": "code",
   "execution_count": 27,
   "id": "566d1969-ad50-4ce0-8f03-e442709ccbd7",
   "metadata": {},
   "outputs": [
    {
     "data": {
      "text/html": [
       "<style>#sk-container-id-2 {color: black;background-color: white;}#sk-container-id-2 pre{padding: 0;}#sk-container-id-2 div.sk-toggleable {background-color: white;}#sk-container-id-2 label.sk-toggleable__label {cursor: pointer;display: block;width: 100%;margin-bottom: 0;padding: 0.3em;box-sizing: border-box;text-align: center;}#sk-container-id-2 label.sk-toggleable__label-arrow:before {content: \"▸\";float: left;margin-right: 0.25em;color: #696969;}#sk-container-id-2 label.sk-toggleable__label-arrow:hover:before {color: black;}#sk-container-id-2 div.sk-estimator:hover label.sk-toggleable__label-arrow:before {color: black;}#sk-container-id-2 div.sk-toggleable__content {max-height: 0;max-width: 0;overflow: hidden;text-align: left;background-color: #f0f8ff;}#sk-container-id-2 div.sk-toggleable__content pre {margin: 0.2em;color: black;border-radius: 0.25em;background-color: #f0f8ff;}#sk-container-id-2 input.sk-toggleable__control:checked~div.sk-toggleable__content {max-height: 200px;max-width: 100%;overflow: auto;}#sk-container-id-2 input.sk-toggleable__control:checked~label.sk-toggleable__label-arrow:before {content: \"▾\";}#sk-container-id-2 div.sk-estimator input.sk-toggleable__control:checked~label.sk-toggleable__label {background-color: #d4ebff;}#sk-container-id-2 div.sk-label input.sk-toggleable__control:checked~label.sk-toggleable__label {background-color: #d4ebff;}#sk-container-id-2 input.sk-hidden--visually {border: 0;clip: rect(1px 1px 1px 1px);clip: rect(1px, 1px, 1px, 1px);height: 1px;margin: -1px;overflow: hidden;padding: 0;position: absolute;width: 1px;}#sk-container-id-2 div.sk-estimator {font-family: monospace;background-color: #f0f8ff;border: 1px dotted black;border-radius: 0.25em;box-sizing: border-box;margin-bottom: 0.5em;}#sk-container-id-2 div.sk-estimator:hover {background-color: #d4ebff;}#sk-container-id-2 div.sk-parallel-item::after {content: \"\";width: 100%;border-bottom: 1px solid gray;flex-grow: 1;}#sk-container-id-2 div.sk-label:hover label.sk-toggleable__label {background-color: #d4ebff;}#sk-container-id-2 div.sk-serial::before {content: \"\";position: absolute;border-left: 1px solid gray;box-sizing: border-box;top: 0;bottom: 0;left: 50%;z-index: 0;}#sk-container-id-2 div.sk-serial {display: flex;flex-direction: column;align-items: center;background-color: white;padding-right: 0.2em;padding-left: 0.2em;position: relative;}#sk-container-id-2 div.sk-item {position: relative;z-index: 1;}#sk-container-id-2 div.sk-parallel {display: flex;align-items: stretch;justify-content: center;background-color: white;position: relative;}#sk-container-id-2 div.sk-item::before, #sk-container-id-2 div.sk-parallel-item::before {content: \"\";position: absolute;border-left: 1px solid gray;box-sizing: border-box;top: 0;bottom: 0;left: 50%;z-index: -1;}#sk-container-id-2 div.sk-parallel-item {display: flex;flex-direction: column;z-index: 1;position: relative;background-color: white;}#sk-container-id-2 div.sk-parallel-item:first-child::after {align-self: flex-end;width: 50%;}#sk-container-id-2 div.sk-parallel-item:last-child::after {align-self: flex-start;width: 50%;}#sk-container-id-2 div.sk-parallel-item:only-child::after {width: 0;}#sk-container-id-2 div.sk-dashed-wrapped {border: 1px dashed gray;margin: 0 0.4em 0.5em 0.4em;box-sizing: border-box;padding-bottom: 0.4em;background-color: white;}#sk-container-id-2 div.sk-label label {font-family: monospace;font-weight: bold;display: inline-block;line-height: 1.2em;}#sk-container-id-2 div.sk-label-container {text-align: center;}#sk-container-id-2 div.sk-container {/* jupyter's `normalize.less` sets `[hidden] { display: none; }` but bootstrap.min.css set `[hidden] { display: none !important; }` so we also need the `!important` here to be able to override the default hidden behavior on the sphinx rendered scikit-learn.org. See: https://github.com/scikit-learn/scikit-learn/issues/21755 */display: inline-block !important;position: relative;}#sk-container-id-2 div.sk-text-repr-fallback {display: none;}</style><div id=\"sk-container-id-2\" class=\"sk-top-container\"><div class=\"sk-text-repr-fallback\"><pre>RandomForestClassifier(n_estimators=500, random_state=0)</pre><b>In a Jupyter environment, please rerun this cell to show the HTML representation or trust the notebook. <br />On GitHub, the HTML representation is unable to render, please try loading this page with nbviewer.org.</b></div><div class=\"sk-container\" hidden><div class=\"sk-item\"><div class=\"sk-estimator sk-toggleable\"><input class=\"sk-toggleable__control sk-hidden--visually\" id=\"sk-estimator-id-2\" type=\"checkbox\" checked><label for=\"sk-estimator-id-2\" class=\"sk-toggleable__label sk-toggleable__label-arrow\">RandomForestClassifier</label><div class=\"sk-toggleable__content\"><pre>RandomForestClassifier(n_estimators=500, random_state=0)</pre></div></div></div></div></div>"
      ],
      "text/plain": [
       "RandomForestClassifier(n_estimators=500, random_state=0)"
      ]
     },
     "execution_count": 27,
     "metadata": {},
     "output_type": "execute_result"
    }
   ],
   "source": [
    "RF.best_estimator_"
   ]
  },
  {
   "cell_type": "code",
   "execution_count": 28,
   "id": "7ccec170-80ef-4e92-afc0-0d76907ea8a2",
   "metadata": {},
   "outputs": [],
   "source": [
    "RF_final = RandomForestClassifier(random_state = 0, oob_score = True, n_estimators = 500) #selected as the best one from above\n",
    "RF_final = RF_final.fit(X, y)"
   ]
  },
  {
   "cell_type": "code",
   "execution_count": 10,
   "id": "2fea07d9-d4a5-498f-aa29-0abce97fe900",
   "metadata": {},
   "outputs": [],
   "source": [
    "probs = RF_final.oob_decision_function_"
   ]
  },
  {
   "cell_type": "code",
   "execution_count": 40,
   "id": "f0281a36-d9d9-4889-a9b3-a663fecbcef0",
   "metadata": {},
   "outputs": [
    {
     "data": {
      "text/plain": [
       "array([ 1,  2,  3,  4,  5,  6,  7,  8,  9, 10, 11, 12, 13, 14, 15, 22, 23,\n",
       "       24, 25, 26, 27, 28, 29, 30, 31, 32, 33, 34, 35, 36])"
      ]
     },
     "execution_count": 40,
     "metadata": {},
     "output_type": "execute_result"
    }
   ],
   "source": [
    "y.unique()"
   ]
  },
  {
   "cell_type": "code",
   "execution_count": 42,
   "id": "f0eaf331-86ea-4d56-841e-99e04d62386a",
   "metadata": {},
   "outputs": [
    {
     "data": {
      "text/html": [
       "<div>\n",
       "<style scoped>\n",
       "    .dataframe tbody tr th:only-of-type {\n",
       "        vertical-align: middle;\n",
       "    }\n",
       "\n",
       "    .dataframe tbody tr th {\n",
       "        vertical-align: top;\n",
       "    }\n",
       "\n",
       "    .dataframe thead th {\n",
       "        text-align: right;\n",
       "    }\n",
       "</style>\n",
       "<table border=\"1\" class=\"dataframe\">\n",
       "  <thead>\n",
       "    <tr style=\"text-align: right;\">\n",
       "      <th></th>\n",
       "      <th>0</th>\n",
       "      <th>1</th>\n",
       "      <th>2</th>\n",
       "      <th>3</th>\n",
       "      <th>4</th>\n",
       "      <th>5</th>\n",
       "      <th>6</th>\n",
       "      <th>7</th>\n",
       "      <th>8</th>\n",
       "      <th>9</th>\n",
       "      <th>...</th>\n",
       "      <th>20</th>\n",
       "      <th>21</th>\n",
       "      <th>22</th>\n",
       "      <th>23</th>\n",
       "      <th>24</th>\n",
       "      <th>25</th>\n",
       "      <th>26</th>\n",
       "      <th>27</th>\n",
       "      <th>28</th>\n",
       "      <th>29</th>\n",
       "    </tr>\n",
       "  </thead>\n",
       "  <tbody>\n",
       "    <tr>\n",
       "      <th>0</th>\n",
       "      <td>0.000000</td>\n",
       "      <td>0.010638</td>\n",
       "      <td>0.000000</td>\n",
       "      <td>0.010638</td>\n",
       "      <td>0.000000</td>\n",
       "      <td>0.000000</td>\n",
       "      <td>0.000000</td>\n",
       "      <td>0.000000</td>\n",
       "      <td>0.005319</td>\n",
       "      <td>0.000000</td>\n",
       "      <td>...</td>\n",
       "      <td>0.069149</td>\n",
       "      <td>0.000000</td>\n",
       "      <td>0.000000</td>\n",
       "      <td>0.000000</td>\n",
       "      <td>0.000000</td>\n",
       "      <td>0.000000</td>\n",
       "      <td>0.005319</td>\n",
       "      <td>0.000000</td>\n",
       "      <td>0.000000</td>\n",
       "      <td>0.000000</td>\n",
       "    </tr>\n",
       "    <tr>\n",
       "      <th>1</th>\n",
       "      <td>0.418079</td>\n",
       "      <td>0.000000</td>\n",
       "      <td>0.000000</td>\n",
       "      <td>0.016949</td>\n",
       "      <td>0.000000</td>\n",
       "      <td>0.000000</td>\n",
       "      <td>0.000000</td>\n",
       "      <td>0.000000</td>\n",
       "      <td>0.000000</td>\n",
       "      <td>0.000000</td>\n",
       "      <td>...</td>\n",
       "      <td>0.169492</td>\n",
       "      <td>0.000000</td>\n",
       "      <td>0.000000</td>\n",
       "      <td>0.000000</td>\n",
       "      <td>0.000000</td>\n",
       "      <td>0.005650</td>\n",
       "      <td>0.056497</td>\n",
       "      <td>0.000000</td>\n",
       "      <td>0.000000</td>\n",
       "      <td>0.000000</td>\n",
       "    </tr>\n",
       "    <tr>\n",
       "      <th>2</th>\n",
       "      <td>0.853933</td>\n",
       "      <td>0.000000</td>\n",
       "      <td>0.000000</td>\n",
       "      <td>0.005618</td>\n",
       "      <td>0.000000</td>\n",
       "      <td>0.000000</td>\n",
       "      <td>0.000000</td>\n",
       "      <td>0.000000</td>\n",
       "      <td>0.000000</td>\n",
       "      <td>0.000000</td>\n",
       "      <td>...</td>\n",
       "      <td>0.028090</td>\n",
       "      <td>0.000000</td>\n",
       "      <td>0.000000</td>\n",
       "      <td>0.000000</td>\n",
       "      <td>0.000000</td>\n",
       "      <td>0.044944</td>\n",
       "      <td>0.039326</td>\n",
       "      <td>0.000000</td>\n",
       "      <td>0.000000</td>\n",
       "      <td>0.000000</td>\n",
       "    </tr>\n",
       "    <tr>\n",
       "      <th>3</th>\n",
       "      <td>0.588235</td>\n",
       "      <td>0.000000</td>\n",
       "      <td>0.000000</td>\n",
       "      <td>0.047059</td>\n",
       "      <td>0.000000</td>\n",
       "      <td>0.000000</td>\n",
       "      <td>0.000000</td>\n",
       "      <td>0.000000</td>\n",
       "      <td>0.000000</td>\n",
       "      <td>0.000000</td>\n",
       "      <td>...</td>\n",
       "      <td>0.094118</td>\n",
       "      <td>0.000000</td>\n",
       "      <td>0.005882</td>\n",
       "      <td>0.000000</td>\n",
       "      <td>0.000000</td>\n",
       "      <td>0.029412</td>\n",
       "      <td>0.035294</td>\n",
       "      <td>0.000000</td>\n",
       "      <td>0.000000</td>\n",
       "      <td>0.000000</td>\n",
       "    </tr>\n",
       "    <tr>\n",
       "      <th>4</th>\n",
       "      <td>0.704918</td>\n",
       "      <td>0.005464</td>\n",
       "      <td>0.000000</td>\n",
       "      <td>0.000000</td>\n",
       "      <td>0.000000</td>\n",
       "      <td>0.000000</td>\n",
       "      <td>0.005464</td>\n",
       "      <td>0.000000</td>\n",
       "      <td>0.000000</td>\n",
       "      <td>0.000000</td>\n",
       "      <td>...</td>\n",
       "      <td>0.016393</td>\n",
       "      <td>0.000000</td>\n",
       "      <td>0.163934</td>\n",
       "      <td>0.000000</td>\n",
       "      <td>0.000000</td>\n",
       "      <td>0.032787</td>\n",
       "      <td>0.010929</td>\n",
       "      <td>0.000000</td>\n",
       "      <td>0.000000</td>\n",
       "      <td>0.000000</td>\n",
       "    </tr>\n",
       "    <tr>\n",
       "      <th>...</th>\n",
       "      <td>...</td>\n",
       "      <td>...</td>\n",
       "      <td>...</td>\n",
       "      <td>...</td>\n",
       "      <td>...</td>\n",
       "      <td>...</td>\n",
       "      <td>...</td>\n",
       "      <td>...</td>\n",
       "      <td>...</td>\n",
       "      <td>...</td>\n",
       "      <td>...</td>\n",
       "      <td>...</td>\n",
       "      <td>...</td>\n",
       "      <td>...</td>\n",
       "      <td>...</td>\n",
       "      <td>...</td>\n",
       "      <td>...</td>\n",
       "      <td>...</td>\n",
       "      <td>...</td>\n",
       "      <td>...</td>\n",
       "      <td>...</td>\n",
       "    </tr>\n",
       "    <tr>\n",
       "      <th>335</th>\n",
       "      <td>0.000000</td>\n",
       "      <td>0.000000</td>\n",
       "      <td>0.000000</td>\n",
       "      <td>0.000000</td>\n",
       "      <td>0.000000</td>\n",
       "      <td>0.000000</td>\n",
       "      <td>0.000000</td>\n",
       "      <td>0.015789</td>\n",
       "      <td>0.000000</td>\n",
       "      <td>0.010526</td>\n",
       "      <td>...</td>\n",
       "      <td>0.000000</td>\n",
       "      <td>0.010526</td>\n",
       "      <td>0.000000</td>\n",
       "      <td>0.000000</td>\n",
       "      <td>0.000000</td>\n",
       "      <td>0.000000</td>\n",
       "      <td>0.000000</td>\n",
       "      <td>0.000000</td>\n",
       "      <td>0.000000</td>\n",
       "      <td>0.915789</td>\n",
       "    </tr>\n",
       "    <tr>\n",
       "      <th>336</th>\n",
       "      <td>0.000000</td>\n",
       "      <td>0.000000</td>\n",
       "      <td>0.000000</td>\n",
       "      <td>0.000000</td>\n",
       "      <td>0.000000</td>\n",
       "      <td>0.000000</td>\n",
       "      <td>0.000000</td>\n",
       "      <td>0.000000</td>\n",
       "      <td>0.000000</td>\n",
       "      <td>0.070652</td>\n",
       "      <td>...</td>\n",
       "      <td>0.000000</td>\n",
       "      <td>0.010870</td>\n",
       "      <td>0.000000</td>\n",
       "      <td>0.000000</td>\n",
       "      <td>0.000000</td>\n",
       "      <td>0.000000</td>\n",
       "      <td>0.000000</td>\n",
       "      <td>0.000000</td>\n",
       "      <td>0.005435</td>\n",
       "      <td>0.826087</td>\n",
       "    </tr>\n",
       "    <tr>\n",
       "      <th>337</th>\n",
       "      <td>0.000000</td>\n",
       "      <td>0.000000</td>\n",
       "      <td>0.000000</td>\n",
       "      <td>0.000000</td>\n",
       "      <td>0.000000</td>\n",
       "      <td>0.000000</td>\n",
       "      <td>0.000000</td>\n",
       "      <td>0.000000</td>\n",
       "      <td>0.000000</td>\n",
       "      <td>0.016393</td>\n",
       "      <td>...</td>\n",
       "      <td>0.000000</td>\n",
       "      <td>0.000000</td>\n",
       "      <td>0.000000</td>\n",
       "      <td>0.000000</td>\n",
       "      <td>0.000000</td>\n",
       "      <td>0.000000</td>\n",
       "      <td>0.000000</td>\n",
       "      <td>0.000000</td>\n",
       "      <td>0.000000</td>\n",
       "      <td>0.956284</td>\n",
       "    </tr>\n",
       "    <tr>\n",
       "      <th>338</th>\n",
       "      <td>0.000000</td>\n",
       "      <td>0.000000</td>\n",
       "      <td>0.000000</td>\n",
       "      <td>0.000000</td>\n",
       "      <td>0.016575</td>\n",
       "      <td>0.149171</td>\n",
       "      <td>0.000000</td>\n",
       "      <td>0.000000</td>\n",
       "      <td>0.000000</td>\n",
       "      <td>0.000000</td>\n",
       "      <td>...</td>\n",
       "      <td>0.000000</td>\n",
       "      <td>0.000000</td>\n",
       "      <td>0.000000</td>\n",
       "      <td>0.005525</td>\n",
       "      <td>0.000000</td>\n",
       "      <td>0.000000</td>\n",
       "      <td>0.000000</td>\n",
       "      <td>0.000000</td>\n",
       "      <td>0.000000</td>\n",
       "      <td>0.430939</td>\n",
       "    </tr>\n",
       "    <tr>\n",
       "      <th>339</th>\n",
       "      <td>0.000000</td>\n",
       "      <td>0.000000</td>\n",
       "      <td>0.005747</td>\n",
       "      <td>0.000000</td>\n",
       "      <td>0.000000</td>\n",
       "      <td>0.028736</td>\n",
       "      <td>0.000000</td>\n",
       "      <td>0.034483</td>\n",
       "      <td>0.000000</td>\n",
       "      <td>0.000000</td>\n",
       "      <td>...</td>\n",
       "      <td>0.000000</td>\n",
       "      <td>0.000000</td>\n",
       "      <td>0.000000</td>\n",
       "      <td>0.000000</td>\n",
       "      <td>0.005747</td>\n",
       "      <td>0.000000</td>\n",
       "      <td>0.000000</td>\n",
       "      <td>0.005747</td>\n",
       "      <td>0.000000</td>\n",
       "      <td>0.310345</td>\n",
       "    </tr>\n",
       "  </tbody>\n",
       "</table>\n",
       "<p>340 rows × 30 columns</p>\n",
       "</div>"
      ],
      "text/plain": [
       "           0         1         2         3         4         5         6   \\\n",
       "0    0.000000  0.010638  0.000000  0.010638  0.000000  0.000000  0.000000   \n",
       "1    0.418079  0.000000  0.000000  0.016949  0.000000  0.000000  0.000000   \n",
       "2    0.853933  0.000000  0.000000  0.005618  0.000000  0.000000  0.000000   \n",
       "3    0.588235  0.000000  0.000000  0.047059  0.000000  0.000000  0.000000   \n",
       "4    0.704918  0.005464  0.000000  0.000000  0.000000  0.000000  0.005464   \n",
       "..        ...       ...       ...       ...       ...       ...       ...   \n",
       "335  0.000000  0.000000  0.000000  0.000000  0.000000  0.000000  0.000000   \n",
       "336  0.000000  0.000000  0.000000  0.000000  0.000000  0.000000  0.000000   \n",
       "337  0.000000  0.000000  0.000000  0.000000  0.000000  0.000000  0.000000   \n",
       "338  0.000000  0.000000  0.000000  0.000000  0.016575  0.149171  0.000000   \n",
       "339  0.000000  0.000000  0.005747  0.000000  0.000000  0.028736  0.000000   \n",
       "\n",
       "           7         8         9   ...        20        21        22  \\\n",
       "0    0.000000  0.005319  0.000000  ...  0.069149  0.000000  0.000000   \n",
       "1    0.000000  0.000000  0.000000  ...  0.169492  0.000000  0.000000   \n",
       "2    0.000000  0.000000  0.000000  ...  0.028090  0.000000  0.000000   \n",
       "3    0.000000  0.000000  0.000000  ...  0.094118  0.000000  0.005882   \n",
       "4    0.000000  0.000000  0.000000  ...  0.016393  0.000000  0.163934   \n",
       "..        ...       ...       ...  ...       ...       ...       ...   \n",
       "335  0.015789  0.000000  0.010526  ...  0.000000  0.010526  0.000000   \n",
       "336  0.000000  0.000000  0.070652  ...  0.000000  0.010870  0.000000   \n",
       "337  0.000000  0.000000  0.016393  ...  0.000000  0.000000  0.000000   \n",
       "338  0.000000  0.000000  0.000000  ...  0.000000  0.000000  0.000000   \n",
       "339  0.034483  0.000000  0.000000  ...  0.000000  0.000000  0.000000   \n",
       "\n",
       "           23        24        25        26        27        28        29  \n",
       "0    0.000000  0.000000  0.000000  0.005319  0.000000  0.000000  0.000000  \n",
       "1    0.000000  0.000000  0.005650  0.056497  0.000000  0.000000  0.000000  \n",
       "2    0.000000  0.000000  0.044944  0.039326  0.000000  0.000000  0.000000  \n",
       "3    0.000000  0.000000  0.029412  0.035294  0.000000  0.000000  0.000000  \n",
       "4    0.000000  0.000000  0.032787  0.010929  0.000000  0.000000  0.000000  \n",
       "..        ...       ...       ...       ...       ...       ...       ...  \n",
       "335  0.000000  0.000000  0.000000  0.000000  0.000000  0.000000  0.915789  \n",
       "336  0.000000  0.000000  0.000000  0.000000  0.000000  0.005435  0.826087  \n",
       "337  0.000000  0.000000  0.000000  0.000000  0.000000  0.000000  0.956284  \n",
       "338  0.005525  0.000000  0.000000  0.000000  0.000000  0.000000  0.430939  \n",
       "339  0.000000  0.005747  0.000000  0.000000  0.005747  0.000000  0.310345  \n",
       "\n",
       "[340 rows x 30 columns]"
      ]
     },
     "execution_count": 42,
     "metadata": {},
     "output_type": "execute_result"
    }
   ],
   "source": [
    "probs_df = pd.DataFrame(probs)\n",
    "probs_df"
   ]
  },
  {
   "cell_type": "code",
   "execution_count": 43,
   "id": "b4a6a8a9-e1df-4310-9f82-08c23d56da4c",
   "metadata": {},
   "outputs": [
    {
     "data": {
      "text/html": [
       "<div>\n",
       "<style scoped>\n",
       "    .dataframe tbody tr th:only-of-type {\n",
       "        vertical-align: middle;\n",
       "    }\n",
       "\n",
       "    .dataframe tbody tr th {\n",
       "        vertical-align: top;\n",
       "    }\n",
       "\n",
       "    .dataframe thead th {\n",
       "        text-align: right;\n",
       "    }\n",
       "</style>\n",
       "<table border=\"1\" class=\"dataframe\">\n",
       "  <thead>\n",
       "    <tr style=\"text-align: right;\">\n",
       "      <th></th>\n",
       "      <th>1</th>\n",
       "      <th>2</th>\n",
       "      <th>3</th>\n",
       "      <th>4</th>\n",
       "      <th>5</th>\n",
       "      <th>6</th>\n",
       "      <th>7</th>\n",
       "      <th>8</th>\n",
       "      <th>9</th>\n",
       "      <th>10</th>\n",
       "      <th>...</th>\n",
       "      <th>27</th>\n",
       "      <th>28</th>\n",
       "      <th>29</th>\n",
       "      <th>30</th>\n",
       "      <th>31</th>\n",
       "      <th>32</th>\n",
       "      <th>33</th>\n",
       "      <th>34</th>\n",
       "      <th>35</th>\n",
       "      <th>36</th>\n",
       "    </tr>\n",
       "  </thead>\n",
       "  <tbody>\n",
       "    <tr>\n",
       "      <th>0</th>\n",
       "      <td>0.000000</td>\n",
       "      <td>0.010638</td>\n",
       "      <td>0.000000</td>\n",
       "      <td>0.010638</td>\n",
       "      <td>0.000000</td>\n",
       "      <td>0.000000</td>\n",
       "      <td>0.000000</td>\n",
       "      <td>0.000000</td>\n",
       "      <td>0.005319</td>\n",
       "      <td>0.000000</td>\n",
       "      <td>...</td>\n",
       "      <td>0.069149</td>\n",
       "      <td>0.000000</td>\n",
       "      <td>0.000000</td>\n",
       "      <td>0.000000</td>\n",
       "      <td>0.000000</td>\n",
       "      <td>0.000000</td>\n",
       "      <td>0.005319</td>\n",
       "      <td>0.000000</td>\n",
       "      <td>0.000000</td>\n",
       "      <td>0.000000</td>\n",
       "    </tr>\n",
       "    <tr>\n",
       "      <th>1</th>\n",
       "      <td>0.418079</td>\n",
       "      <td>0.000000</td>\n",
       "      <td>0.000000</td>\n",
       "      <td>0.016949</td>\n",
       "      <td>0.000000</td>\n",
       "      <td>0.000000</td>\n",
       "      <td>0.000000</td>\n",
       "      <td>0.000000</td>\n",
       "      <td>0.000000</td>\n",
       "      <td>0.000000</td>\n",
       "      <td>...</td>\n",
       "      <td>0.169492</td>\n",
       "      <td>0.000000</td>\n",
       "      <td>0.000000</td>\n",
       "      <td>0.000000</td>\n",
       "      <td>0.000000</td>\n",
       "      <td>0.005650</td>\n",
       "      <td>0.056497</td>\n",
       "      <td>0.000000</td>\n",
       "      <td>0.000000</td>\n",
       "      <td>0.000000</td>\n",
       "    </tr>\n",
       "    <tr>\n",
       "      <th>2</th>\n",
       "      <td>0.853933</td>\n",
       "      <td>0.000000</td>\n",
       "      <td>0.000000</td>\n",
       "      <td>0.005618</td>\n",
       "      <td>0.000000</td>\n",
       "      <td>0.000000</td>\n",
       "      <td>0.000000</td>\n",
       "      <td>0.000000</td>\n",
       "      <td>0.000000</td>\n",
       "      <td>0.000000</td>\n",
       "      <td>...</td>\n",
       "      <td>0.028090</td>\n",
       "      <td>0.000000</td>\n",
       "      <td>0.000000</td>\n",
       "      <td>0.000000</td>\n",
       "      <td>0.000000</td>\n",
       "      <td>0.044944</td>\n",
       "      <td>0.039326</td>\n",
       "      <td>0.000000</td>\n",
       "      <td>0.000000</td>\n",
       "      <td>0.000000</td>\n",
       "    </tr>\n",
       "    <tr>\n",
       "      <th>3</th>\n",
       "      <td>0.588235</td>\n",
       "      <td>0.000000</td>\n",
       "      <td>0.000000</td>\n",
       "      <td>0.047059</td>\n",
       "      <td>0.000000</td>\n",
       "      <td>0.000000</td>\n",
       "      <td>0.000000</td>\n",
       "      <td>0.000000</td>\n",
       "      <td>0.000000</td>\n",
       "      <td>0.000000</td>\n",
       "      <td>...</td>\n",
       "      <td>0.094118</td>\n",
       "      <td>0.000000</td>\n",
       "      <td>0.005882</td>\n",
       "      <td>0.000000</td>\n",
       "      <td>0.000000</td>\n",
       "      <td>0.029412</td>\n",
       "      <td>0.035294</td>\n",
       "      <td>0.000000</td>\n",
       "      <td>0.000000</td>\n",
       "      <td>0.000000</td>\n",
       "    </tr>\n",
       "    <tr>\n",
       "      <th>4</th>\n",
       "      <td>0.704918</td>\n",
       "      <td>0.005464</td>\n",
       "      <td>0.000000</td>\n",
       "      <td>0.000000</td>\n",
       "      <td>0.000000</td>\n",
       "      <td>0.000000</td>\n",
       "      <td>0.005464</td>\n",
       "      <td>0.000000</td>\n",
       "      <td>0.000000</td>\n",
       "      <td>0.000000</td>\n",
       "      <td>...</td>\n",
       "      <td>0.016393</td>\n",
       "      <td>0.000000</td>\n",
       "      <td>0.163934</td>\n",
       "      <td>0.000000</td>\n",
       "      <td>0.000000</td>\n",
       "      <td>0.032787</td>\n",
       "      <td>0.010929</td>\n",
       "      <td>0.000000</td>\n",
       "      <td>0.000000</td>\n",
       "      <td>0.000000</td>\n",
       "    </tr>\n",
       "    <tr>\n",
       "      <th>...</th>\n",
       "      <td>...</td>\n",
       "      <td>...</td>\n",
       "      <td>...</td>\n",
       "      <td>...</td>\n",
       "      <td>...</td>\n",
       "      <td>...</td>\n",
       "      <td>...</td>\n",
       "      <td>...</td>\n",
       "      <td>...</td>\n",
       "      <td>...</td>\n",
       "      <td>...</td>\n",
       "      <td>...</td>\n",
       "      <td>...</td>\n",
       "      <td>...</td>\n",
       "      <td>...</td>\n",
       "      <td>...</td>\n",
       "      <td>...</td>\n",
       "      <td>...</td>\n",
       "      <td>...</td>\n",
       "      <td>...</td>\n",
       "      <td>...</td>\n",
       "    </tr>\n",
       "    <tr>\n",
       "      <th>335</th>\n",
       "      <td>0.000000</td>\n",
       "      <td>0.000000</td>\n",
       "      <td>0.000000</td>\n",
       "      <td>0.000000</td>\n",
       "      <td>0.000000</td>\n",
       "      <td>0.000000</td>\n",
       "      <td>0.000000</td>\n",
       "      <td>0.015789</td>\n",
       "      <td>0.000000</td>\n",
       "      <td>0.010526</td>\n",
       "      <td>...</td>\n",
       "      <td>0.000000</td>\n",
       "      <td>0.010526</td>\n",
       "      <td>0.000000</td>\n",
       "      <td>0.000000</td>\n",
       "      <td>0.000000</td>\n",
       "      <td>0.000000</td>\n",
       "      <td>0.000000</td>\n",
       "      <td>0.000000</td>\n",
       "      <td>0.000000</td>\n",
       "      <td>0.915789</td>\n",
       "    </tr>\n",
       "    <tr>\n",
       "      <th>336</th>\n",
       "      <td>0.000000</td>\n",
       "      <td>0.000000</td>\n",
       "      <td>0.000000</td>\n",
       "      <td>0.000000</td>\n",
       "      <td>0.000000</td>\n",
       "      <td>0.000000</td>\n",
       "      <td>0.000000</td>\n",
       "      <td>0.000000</td>\n",
       "      <td>0.000000</td>\n",
       "      <td>0.070652</td>\n",
       "      <td>...</td>\n",
       "      <td>0.000000</td>\n",
       "      <td>0.010870</td>\n",
       "      <td>0.000000</td>\n",
       "      <td>0.000000</td>\n",
       "      <td>0.000000</td>\n",
       "      <td>0.000000</td>\n",
       "      <td>0.000000</td>\n",
       "      <td>0.000000</td>\n",
       "      <td>0.005435</td>\n",
       "      <td>0.826087</td>\n",
       "    </tr>\n",
       "    <tr>\n",
       "      <th>337</th>\n",
       "      <td>0.000000</td>\n",
       "      <td>0.000000</td>\n",
       "      <td>0.000000</td>\n",
       "      <td>0.000000</td>\n",
       "      <td>0.000000</td>\n",
       "      <td>0.000000</td>\n",
       "      <td>0.000000</td>\n",
       "      <td>0.000000</td>\n",
       "      <td>0.000000</td>\n",
       "      <td>0.016393</td>\n",
       "      <td>...</td>\n",
       "      <td>0.000000</td>\n",
       "      <td>0.000000</td>\n",
       "      <td>0.000000</td>\n",
       "      <td>0.000000</td>\n",
       "      <td>0.000000</td>\n",
       "      <td>0.000000</td>\n",
       "      <td>0.000000</td>\n",
       "      <td>0.000000</td>\n",
       "      <td>0.000000</td>\n",
       "      <td>0.956284</td>\n",
       "    </tr>\n",
       "    <tr>\n",
       "      <th>338</th>\n",
       "      <td>0.000000</td>\n",
       "      <td>0.000000</td>\n",
       "      <td>0.000000</td>\n",
       "      <td>0.000000</td>\n",
       "      <td>0.016575</td>\n",
       "      <td>0.149171</td>\n",
       "      <td>0.000000</td>\n",
       "      <td>0.000000</td>\n",
       "      <td>0.000000</td>\n",
       "      <td>0.000000</td>\n",
       "      <td>...</td>\n",
       "      <td>0.000000</td>\n",
       "      <td>0.000000</td>\n",
       "      <td>0.000000</td>\n",
       "      <td>0.005525</td>\n",
       "      <td>0.000000</td>\n",
       "      <td>0.000000</td>\n",
       "      <td>0.000000</td>\n",
       "      <td>0.000000</td>\n",
       "      <td>0.000000</td>\n",
       "      <td>0.430939</td>\n",
       "    </tr>\n",
       "    <tr>\n",
       "      <th>339</th>\n",
       "      <td>0.000000</td>\n",
       "      <td>0.000000</td>\n",
       "      <td>0.005747</td>\n",
       "      <td>0.000000</td>\n",
       "      <td>0.000000</td>\n",
       "      <td>0.028736</td>\n",
       "      <td>0.000000</td>\n",
       "      <td>0.034483</td>\n",
       "      <td>0.000000</td>\n",
       "      <td>0.000000</td>\n",
       "      <td>...</td>\n",
       "      <td>0.000000</td>\n",
       "      <td>0.000000</td>\n",
       "      <td>0.000000</td>\n",
       "      <td>0.000000</td>\n",
       "      <td>0.005747</td>\n",
       "      <td>0.000000</td>\n",
       "      <td>0.000000</td>\n",
       "      <td>0.005747</td>\n",
       "      <td>0.000000</td>\n",
       "      <td>0.310345</td>\n",
       "    </tr>\n",
       "  </tbody>\n",
       "</table>\n",
       "<p>340 rows × 30 columns</p>\n",
       "</div>"
      ],
      "text/plain": [
       "           1         2         3         4         5         6         7   \\\n",
       "0    0.000000  0.010638  0.000000  0.010638  0.000000  0.000000  0.000000   \n",
       "1    0.418079  0.000000  0.000000  0.016949  0.000000  0.000000  0.000000   \n",
       "2    0.853933  0.000000  0.000000  0.005618  0.000000  0.000000  0.000000   \n",
       "3    0.588235  0.000000  0.000000  0.047059  0.000000  0.000000  0.000000   \n",
       "4    0.704918  0.005464  0.000000  0.000000  0.000000  0.000000  0.005464   \n",
       "..        ...       ...       ...       ...       ...       ...       ...   \n",
       "335  0.000000  0.000000  0.000000  0.000000  0.000000  0.000000  0.000000   \n",
       "336  0.000000  0.000000  0.000000  0.000000  0.000000  0.000000  0.000000   \n",
       "337  0.000000  0.000000  0.000000  0.000000  0.000000  0.000000  0.000000   \n",
       "338  0.000000  0.000000  0.000000  0.000000  0.016575  0.149171  0.000000   \n",
       "339  0.000000  0.000000  0.005747  0.000000  0.000000  0.028736  0.000000   \n",
       "\n",
       "           8         9         10  ...        27        28        29  \\\n",
       "0    0.000000  0.005319  0.000000  ...  0.069149  0.000000  0.000000   \n",
       "1    0.000000  0.000000  0.000000  ...  0.169492  0.000000  0.000000   \n",
       "2    0.000000  0.000000  0.000000  ...  0.028090  0.000000  0.000000   \n",
       "3    0.000000  0.000000  0.000000  ...  0.094118  0.000000  0.005882   \n",
       "4    0.000000  0.000000  0.000000  ...  0.016393  0.000000  0.163934   \n",
       "..        ...       ...       ...  ...       ...       ...       ...   \n",
       "335  0.015789  0.000000  0.010526  ...  0.000000  0.010526  0.000000   \n",
       "336  0.000000  0.000000  0.070652  ...  0.000000  0.010870  0.000000   \n",
       "337  0.000000  0.000000  0.016393  ...  0.000000  0.000000  0.000000   \n",
       "338  0.000000  0.000000  0.000000  ...  0.000000  0.000000  0.000000   \n",
       "339  0.034483  0.000000  0.000000  ...  0.000000  0.000000  0.000000   \n",
       "\n",
       "           30        31        32        33        34        35        36  \n",
       "0    0.000000  0.000000  0.000000  0.005319  0.000000  0.000000  0.000000  \n",
       "1    0.000000  0.000000  0.005650  0.056497  0.000000  0.000000  0.000000  \n",
       "2    0.000000  0.000000  0.044944  0.039326  0.000000  0.000000  0.000000  \n",
       "3    0.000000  0.000000  0.029412  0.035294  0.000000  0.000000  0.000000  \n",
       "4    0.000000  0.000000  0.032787  0.010929  0.000000  0.000000  0.000000  \n",
       "..        ...       ...       ...       ...       ...       ...       ...  \n",
       "335  0.000000  0.000000  0.000000  0.000000  0.000000  0.000000  0.915789  \n",
       "336  0.000000  0.000000  0.000000  0.000000  0.000000  0.005435  0.826087  \n",
       "337  0.000000  0.000000  0.000000  0.000000  0.000000  0.000000  0.956284  \n",
       "338  0.005525  0.000000  0.000000  0.000000  0.000000  0.000000  0.430939  \n",
       "339  0.000000  0.005747  0.000000  0.000000  0.005747  0.000000  0.310345  \n",
       "\n",
       "[340 rows x 30 columns]"
      ]
     },
     "execution_count": 43,
     "metadata": {},
     "output_type": "execute_result"
    }
   ],
   "source": [
    "probs_df.columns = y.unique()\n",
    "probs_df"
   ]
  },
  {
   "cell_type": "code",
   "execution_count": 70,
   "id": "90f2231b-55a9-47ab-adf6-ceb617a6d9ef",
   "metadata": {},
   "outputs": [],
   "source": [
    "y_oob_pred = probs_df.columns[probs_df.apply(np.argmax, axis = 1)]"
   ]
  },
  {
   "cell_type": "code",
   "execution_count": 71,
   "id": "7189796d-64e1-4474-b698-08bd5b73c3c7",
   "metadata": {},
   "outputs": [
    {
     "name": "stdout",
     "output_type": "stream",
     "text": [
      "Int64Index([13,  1,  1,  1,  1,  1,  1,  1,  1, 29,\n",
      "            ...\n",
      "            36, 36, 36, 36, 36, 36, 36, 36, 36, 11],\n",
      "           dtype='int64', length=340)\n"
     ]
    }
   ],
   "source": [
    "print(y_oob_pred)"
   ]
  },
  {
   "cell_type": "code",
   "execution_count": 72,
   "id": "1b6151a7-2d2c-4534-b377-5ae3c6601cc1",
   "metadata": {},
   "outputs": [
    {
     "data": {
      "text/plain": [
       "array([[0., 0., 0.],\n",
       "       [0., 0., 0.],\n",
       "       [0., 0., 0.],\n",
       "       [0., 0., 0.],\n",
       "       [0., 0., 0.],\n",
       "       [0., 0., 0.],\n",
       "       [0., 0., 0.],\n",
       "       [0., 0., 0.],\n",
       "       [0., 0., 0.],\n",
       "       [0., 0., 0.],\n",
       "       [0., 0., 0.],\n",
       "       [0., 0., 0.],\n",
       "       [0., 0., 0.],\n",
       "       [0., 0., 0.],\n",
       "       [0., 0., 0.],\n",
       "       [0., 0., 0.],\n",
       "       [0., 0., 0.],\n",
       "       [0., 0., 0.],\n",
       "       [0., 0., 0.],\n",
       "       [0., 0., 0.],\n",
       "       [0., 0., 0.],\n",
       "       [0., 0., 0.],\n",
       "       [0., 0., 0.],\n",
       "       [0., 0., 0.],\n",
       "       [0., 0., 0.],\n",
       "       [0., 0., 0.],\n",
       "       [0., 0., 0.],\n",
       "       [0., 0., 0.],\n",
       "       [0., 0., 0.],\n",
       "       [0., 0., 0.]])"
      ]
     },
     "execution_count": 72,
     "metadata": {},
     "output_type": "execute_result"
    }
   ],
   "source": [
    "oob_confusion = np.zeros((30, 3))\n",
    "oob_confusion"
   ]
  },
  {
   "cell_type": "code",
   "execution_count": 73,
   "id": "6e2b52ca-d37f-46d3-9419-af97d0045dc0",
   "metadata": {},
   "outputs": [],
   "source": [
    "for i in range(30):\n",
    "    oob_confusion[i][0] = y.unique()[i]"
   ]
  },
  {
   "cell_type": "code",
   "execution_count": 74,
   "id": "ffc1f2ee-cba8-4243-8aea-1e510e686c48",
   "metadata": {},
   "outputs": [
    {
     "data": {
      "text/plain": [
       "array([[ 1.,  0.,  0.],\n",
       "       [ 2.,  0.,  0.],\n",
       "       [ 3.,  0.,  0.],\n",
       "       [ 4.,  0.,  0.],\n",
       "       [ 5.,  0.,  0.],\n",
       "       [ 6.,  0.,  0.],\n",
       "       [ 7.,  0.,  0.],\n",
       "       [ 8.,  0.,  0.],\n",
       "       [ 9.,  0.,  0.],\n",
       "       [10.,  0.,  0.],\n",
       "       [11.,  0.,  0.],\n",
       "       [12.,  0.,  0.],\n",
       "       [13.,  0.,  0.],\n",
       "       [14.,  0.,  0.],\n",
       "       [15.,  0.,  0.],\n",
       "       [22.,  0.,  0.],\n",
       "       [23.,  0.,  0.],\n",
       "       [24.,  0.,  0.],\n",
       "       [25.,  0.,  0.],\n",
       "       [26.,  0.,  0.],\n",
       "       [27.,  0.,  0.],\n",
       "       [28.,  0.,  0.],\n",
       "       [29.,  0.,  0.],\n",
       "       [30.,  0.,  0.],\n",
       "       [31.,  0.,  0.],\n",
       "       [32.,  0.,  0.],\n",
       "       [33.,  0.,  0.],\n",
       "       [34.,  0.,  0.],\n",
       "       [35.,  0.,  0.],\n",
       "       [36.,  0.,  0.]])"
      ]
     },
     "execution_count": 74,
     "metadata": {},
     "output_type": "execute_result"
    }
   ],
   "source": [
    "oob_confusion"
   ]
  },
  {
   "cell_type": "code",
   "execution_count": 75,
   "id": "14ed33b0-82ea-4637-b401-3513f955f01a",
   "metadata": {},
   "outputs": [],
   "source": [
    "for i in range(340):\n",
    "    if y_oob_pred[i] == y[i]:\n",
    "        for j in range(30):\n",
    "            if y[i] ==  oob_confusion[j][0]:\n",
    "                oob_confusion[j][1] += 1\n",
    "    else:\n",
    "        for k in range(30):\n",
    "            if y[i] ==  oob_confusion[k][0]:\n",
    "                oob_confusion[k][2] += 1\n"
   ]
  },
  {
   "cell_type": "code",
   "execution_count": 80,
   "id": "90ac1bd0-cc02-4db6-b793-67004a9104b2",
   "metadata": {},
   "outputs": [
    {
     "data": {
      "text/plain": [
       "array([[ 1., 10.,  2.],\n",
       "       [ 2.,  4.,  6.],\n",
       "       [ 3.,  6.,  4.],\n",
       "       [ 4.,  1.,  7.],\n",
       "       [ 5., 12.,  0.],\n",
       "       [ 6.,  8.,  0.],\n",
       "       [ 7.,  8.,  2.],\n",
       "       [ 8., 11.,  0.],\n",
       "       [ 9., 10.,  4.],\n",
       "       [10., 11.,  2.],\n",
       "       [11., 16.,  0.],\n",
       "       [12.,  9.,  3.],\n",
       "       [13.,  8.,  5.],\n",
       "       [14.,  9.,  3.],\n",
       "       [15., 10.,  0.],\n",
       "       [22.,  8.,  4.],\n",
       "       [23., 11.,  0.],\n",
       "       [24., 10.,  3.],\n",
       "       [25.,  8.,  1.],\n",
       "       [26.,  8.,  4.],\n",
       "       [27.,  7.,  4.],\n",
       "       [28.,  8.,  4.],\n",
       "       [29., 12.,  0.],\n",
       "       [30., 11.,  1.],\n",
       "       [31.,  9.,  2.],\n",
       "       [32.,  5.,  6.],\n",
       "       [33.,  7.,  4.],\n",
       "       [34.,  9.,  2.],\n",
       "       [35.,  8.,  3.],\n",
       "       [36.,  9.,  1.]])"
      ]
     },
     "execution_count": 80,
     "metadata": {},
     "output_type": "execute_result"
    }
   ],
   "source": [
    "oob_confusion"
   ]
  },
  {
   "cell_type": "code",
   "execution_count": 161,
   "id": "b6de8daa-ce1a-46ac-89b2-f82465db1d56",
   "metadata": {},
   "outputs": [],
   "source": [
    "oob_confusion2 = np.zeros((30, 30))"
   ]
  },
  {
   "cell_type": "code",
   "execution_count": 162,
   "id": "314bbd30-d29f-493a-98b1-a02e42a5680b",
   "metadata": {},
   "outputs": [],
   "source": [
    "for i in range(len(y)):\n",
    "    if y_oob_pred[i] == y[i]:\n",
    "        if y[i] <= 14:\n",
    "            oob_confusion2[y[i]-1][y[i]-1] += 1\n",
    "        else:\n",
    "            oob_confusion2[y[i]-7][y[i]-7] += 1"
   ]
  },
  {
   "cell_type": "code",
   "execution_count": 163,
   "id": "993d2722-9046-4909-88d7-f9e80bc1ebe8",
   "metadata": {},
   "outputs": [],
   "source": [
    "counted_y = y.value_counts()\n",
    "dic_counts = dict(counted_y)\n",
    "dic_counts = dict(sorted(dic_counts.items(), key=lambda item: item[0]))"
   ]
  },
  {
   "cell_type": "code",
   "execution_count": 164,
   "id": "3c2e8b88-d3fa-4b29-b1c4-d10d830dabbd",
   "metadata": {},
   "outputs": [
    {
     "data": {
      "text/plain": [
       "[12,\n",
       " 10,\n",
       " 10,\n",
       " 8,\n",
       " 12,\n",
       " 8,\n",
       " 10,\n",
       " 11,\n",
       " 14,\n",
       " 13,\n",
       " 16,\n",
       " 12,\n",
       " 13,\n",
       " 12,\n",
       " 10,\n",
       " 12,\n",
       " 11,\n",
       " 13,\n",
       " 9,\n",
       " 12,\n",
       " 11,\n",
       " 12,\n",
       " 12,\n",
       " 12,\n",
       " 11,\n",
       " 11,\n",
       " 11,\n",
       " 11,\n",
       " 11,\n",
       " 10]"
      ]
     },
     "execution_count": 164,
     "metadata": {},
     "output_type": "execute_result"
    }
   ],
   "source": [
    "list(dic_counts.values())"
   ]
  },
  {
   "cell_type": "code",
   "execution_count": 165,
   "id": "5330d957-a428-4f71-8269-01f317dd25dc",
   "metadata": {},
   "outputs": [
    {
     "data": {
      "text/plain": [
       "array([[10.,  0.,  0.,  0.,  0.,  0.,  0.,  0.,  0.,  0.,  0.,  0.,  0.,\n",
       "         0.,  0.,  0.,  0.,  0.,  0.,  0.,  0.,  0.,  0.,  0.,  0.,  0.,\n",
       "         0.,  0.,  0.,  0.],\n",
       "       [ 0.,  4.,  0.,  0.,  0.,  0.,  0.,  0.,  0.,  0.,  0.,  0.,  0.,\n",
       "         0.,  0.,  0.,  0.,  0.,  0.,  0.,  0.,  0.,  0.,  0.,  0.,  0.,\n",
       "         0.,  0.,  0.,  0.],\n",
       "       [ 0.,  0.,  6.,  0.,  0.,  0.,  0.,  0.,  0.,  0.,  0.,  0.,  0.,\n",
       "         0.,  0.,  0.,  0.,  0.,  0.,  0.,  0.,  0.,  0.,  0.,  0.,  0.,\n",
       "         0.,  0.,  0.,  0.],\n",
       "       [ 0.,  0.,  0.,  1.,  0.,  0.,  0.,  0.,  0.,  0.,  0.,  0.,  0.,\n",
       "         0.,  0.,  0.,  0.,  0.,  0.,  0.,  0.,  0.,  0.,  0.,  0.,  0.,\n",
       "         0.,  0.,  0.,  0.],\n",
       "       [ 0.,  0.,  0.,  0., 12.,  0.,  0.,  0.,  0.,  0.,  0.,  0.,  0.,\n",
       "         0.,  0.,  0.,  0.,  0.,  0.,  0.,  0.,  0.,  0.,  0.,  0.,  0.,\n",
       "         0.,  0.,  0.,  0.],\n",
       "       [ 0.,  0.,  0.,  0.,  0.,  8.,  0.,  0.,  0.,  0.,  0.,  0.,  0.,\n",
       "         0.,  0.,  0.,  0.,  0.,  0.,  0.,  0.,  0.,  0.,  0.,  0.,  0.,\n",
       "         0.,  0.,  0.,  0.],\n",
       "       [ 0.,  0.,  0.,  0.,  0.,  0.,  8.,  0.,  0.,  0.,  0.,  0.,  0.,\n",
       "         0.,  0.,  0.,  0.,  0.,  0.,  0.,  0.,  0.,  0.,  0.,  0.,  0.,\n",
       "         0.,  0.,  0.,  0.],\n",
       "       [ 0.,  0.,  0.,  0.,  0.,  0.,  0., 11.,  0.,  0.,  0.,  0.,  0.,\n",
       "         0.,  0.,  0.,  0.,  0.,  0.,  0.,  0.,  0.,  0.,  0.,  0.,  0.,\n",
       "         0.,  0.,  0.,  0.],\n",
       "       [ 0.,  0.,  0.,  0.,  0.,  0.,  0.,  0., 20.,  0.,  0.,  0.,  0.,\n",
       "         0.,  0.,  0.,  0.,  0.,  0.,  0.,  0.,  0.,  0.,  0.,  0.,  0.,\n",
       "         0.,  0.,  0.,  0.],\n",
       "       [ 0.,  0.,  0.,  0.,  0.,  0.,  0.,  0.,  0., 11.,  0.,  0.,  0.,\n",
       "         0.,  0.,  0.,  0.,  0.,  0.,  0.,  0.,  0.,  0.,  0.,  0.,  0.,\n",
       "         0.,  0.,  0.,  0.],\n",
       "       [ 0.,  0.,  0.,  0.,  0.,  0.,  0.,  0.,  0.,  0., 16.,  0.,  0.,\n",
       "         0.,  0.,  0.,  0.,  0.,  0.,  0.,  0.,  0.,  0.,  0.,  0.,  0.,\n",
       "         0.,  0.,  0.,  0.],\n",
       "       [ 0.,  0.,  0.,  0.,  0.,  0.,  0.,  0.,  0.,  0.,  0.,  9.,  0.,\n",
       "         0.,  0.,  0.,  0.,  0.,  0.,  0.,  0.,  0.,  0.,  0.,  0.,  0.,\n",
       "         0.,  0.,  0.,  0.],\n",
       "       [ 0.,  0.,  0.,  0.,  0.,  0.,  0.,  0.,  0.,  0.,  0.,  0.,  8.,\n",
       "         0.,  0.,  0.,  0.,  0.,  0.,  0.,  0.,  0.,  0.,  0.,  0.,  0.,\n",
       "         0.,  0.,  0.,  0.],\n",
       "       [ 0.,  0.,  0.,  0.,  0.,  0.,  0.,  0.,  0.,  0.,  0.,  0.,  0.,\n",
       "         9.,  0.,  0.,  0.,  0.,  0.,  0.,  0.,  0.,  0.,  0.,  0.,  0.,\n",
       "         0.,  0.,  0.,  0.],\n",
       "       [ 0.,  0.,  0.,  0.,  0.,  0.,  0.,  0.,  0.,  0.,  0.,  0.,  0.,\n",
       "         0.,  0.,  0.,  0.,  0.,  0.,  0.,  0.,  0.,  0.,  0.,  0.,  0.,\n",
       "         0.,  0.,  0.,  0.],\n",
       "       [ 0.,  0.,  0.,  0.,  0.,  0.,  0.,  0.,  0.,  0.,  0.,  0.,  0.,\n",
       "         0.,  0.,  8.,  0.,  0.,  0.,  0.,  0.,  0.,  0.,  0.,  0.,  0.,\n",
       "         0.,  0.,  0.,  0.],\n",
       "       [ 0.,  0.,  0.,  0.,  0.,  0.,  0.,  0.,  0.,  0.,  0.,  0.,  0.,\n",
       "         0.,  0.,  0., 11.,  0.,  0.,  0.,  0.,  0.,  0.,  0.,  0.,  0.,\n",
       "         0.,  0.,  0.,  0.],\n",
       "       [ 0.,  0.,  0.,  0.,  0.,  0.,  0.,  0.,  0.,  0.,  0.,  0.,  0.,\n",
       "         0.,  0.,  0.,  0., 10.,  0.,  0.,  0.,  0.,  0.,  0.,  0.,  0.,\n",
       "         0.,  0.,  0.,  0.],\n",
       "       [ 0.,  0.,  0.,  0.,  0.,  0.,  0.,  0.,  0.,  0.,  0.,  0.,  0.,\n",
       "         0.,  0.,  0.,  0.,  0.,  8.,  0.,  0.,  0.,  0.,  0.,  0.,  0.,\n",
       "         0.,  0.,  0.,  0.],\n",
       "       [ 0.,  0.,  0.,  0.,  0.,  0.,  0.,  0.,  0.,  0.,  0.,  0.,  0.,\n",
       "         0.,  0.,  0.,  0.,  0.,  0.,  8.,  0.,  0.,  0.,  0.,  0.,  0.,\n",
       "         0.,  0.,  0.,  0.],\n",
       "       [ 0.,  0.,  0.,  0.,  0.,  0.,  0.,  0.,  0.,  0.,  0.,  0.,  0.,\n",
       "         0.,  0.,  0.,  0.,  0.,  0.,  0.,  7.,  0.,  0.,  0.,  0.,  0.,\n",
       "         0.,  0.,  0.,  0.],\n",
       "       [ 0.,  0.,  0.,  0.,  0.,  0.,  0.,  0.,  0.,  0.,  0.,  0.,  0.,\n",
       "         0.,  0.,  0.,  0.,  0.,  0.,  0.,  0.,  8.,  0.,  0.,  0.,  0.,\n",
       "         0.,  0.,  0.,  0.],\n",
       "       [ 0.,  0.,  0.,  0.,  0.,  0.,  0.,  0.,  0.,  0.,  0.,  0.,  0.,\n",
       "         0.,  0.,  0.,  0.,  0.,  0.,  0.,  0.,  0., 12.,  0.,  0.,  0.,\n",
       "         0.,  0.,  0.,  0.],\n",
       "       [ 0.,  0.,  0.,  0.,  0.,  0.,  0.,  0.,  0.,  0.,  0.,  0.,  0.,\n",
       "         0.,  0.,  0.,  0.,  0.,  0.,  0.,  0.,  0.,  0., 11.,  0.,  0.,\n",
       "         0.,  0.,  0.,  0.],\n",
       "       [ 0.,  0.,  0.,  0.,  0.,  0.,  0.,  0.,  0.,  0.,  0.,  0.,  0.,\n",
       "         0.,  0.,  0.,  0.,  0.,  0.,  0.,  0.,  0.,  0.,  0.,  9.,  0.,\n",
       "         0.,  0.,  0.,  0.],\n",
       "       [ 0.,  0.,  0.,  0.,  0.,  0.,  0.,  0.,  0.,  0.,  0.,  0.,  0.,\n",
       "         0.,  0.,  0.,  0.,  0.,  0.,  0.,  0.,  0.,  0.,  0.,  0.,  5.,\n",
       "         0.,  0.,  0.,  0.],\n",
       "       [ 0.,  0.,  0.,  0.,  0.,  0.,  0.,  0.,  0.,  0.,  0.,  0.,  0.,\n",
       "         0.,  0.,  0.,  0.,  0.,  0.,  0.,  0.,  0.,  0.,  0.,  0.,  0.,\n",
       "         7.,  0.,  0.,  0.],\n",
       "       [ 0.,  0.,  0.,  0.,  0.,  0.,  0.,  0.,  0.,  0.,  0.,  0.,  0.,\n",
       "         0.,  0.,  0.,  0.,  0.,  0.,  0.,  0.,  0.,  0.,  0.,  0.,  0.,\n",
       "         0.,  9.,  0.,  0.],\n",
       "       [ 0.,  0.,  0.,  0.,  0.,  0.,  0.,  0.,  0.,  0.,  0.,  0.,  0.,\n",
       "         0.,  0.,  0.,  0.,  0.,  0.,  0.,  0.,  0.,  0.,  0.,  0.,  0.,\n",
       "         0.,  0.,  8.,  0.],\n",
       "       [ 0.,  0.,  0.,  0.,  0.,  0.,  0.,  0.,  0.,  0.,  0.,  0.,  0.,\n",
       "         0.,  0.,  0.,  0.,  0.,  0.,  0.,  0.,  0.,  0.,  0.,  0.,  0.,\n",
       "         0.,  0.,  0.,  9.]])"
      ]
     },
     "execution_count": 165,
     "metadata": {},
     "output_type": "execute_result"
    }
   ],
   "source": [
    "oob_confusion2"
   ]
  },
  {
   "cell_type": "code",
   "execution_count": 166,
   "id": "5d98a2ac-fd42-4c53-9f10-b1488141d835",
   "metadata": {},
   "outputs": [],
   "source": [
    "for i in range(30):\n",
    "    oob_confusion2[i][i] = oob_confusion2[i][i]/list(dic_counts.values())[i]"
   ]
  },
  {
   "cell_type": "code",
   "execution_count": 170,
   "id": "a6c0b5f9-1ebd-494a-b7cf-18789dc217c4",
   "metadata": {},
   "outputs": [
    {
     "data": {
      "text/plain": [
       "0.7571379546379544"
      ]
     },
     "execution_count": 170,
     "metadata": {},
     "output_type": "execute_result"
    }
   ],
   "source": [
    "np.mean(oob_confusion2.diagonal())"
   ]
  },
  {
   "cell_type": "code",
   "execution_count": 38,
   "id": "e98968ea-18b4-4bbb-9737-25aab15e643a",
   "metadata": {},
   "outputs": [
    {
     "data": {
      "text/plain": [
       "0.7735294117647059"
      ]
     },
     "execution_count": 38,
     "metadata": {},
     "output_type": "execute_result"
    }
   ],
   "source": [
    "np.mean(y_oob_pred == y)"
   ]
  },
  {
   "cell_type": "code",
   "execution_count": 39,
   "id": "6f15b3d0-0312-425e-ab7a-5b43040092c2",
   "metadata": {},
   "outputs": [
    {
     "data": {
      "text/plain": [
       "0.7735294117647059"
      ]
     },
     "execution_count": 39,
     "metadata": {},
     "output_type": "execute_result"
    }
   ],
   "source": [
    "RF_final.oob_score_"
   ]
  },
  {
   "cell_type": "code",
   "execution_count": 17,
   "id": "85cdd6ea-4f96-43a2-b6c3-5d0c80f00afb",
   "metadata": {},
   "outputs": [],
   "source": [
    "y_oob = probs_df.apply(np.argmax, axis = 1) + 1"
   ]
  },
  {
   "cell_type": "code",
   "execution_count": 18,
   "id": "01cae960-9ee1-4695-9076-256c36efb2fc",
   "metadata": {},
   "outputs": [
    {
     "data": {
      "text/plain": [
       "0      13\n",
       "1       1\n",
       "2       1\n",
       "3       1\n",
       "4       1\n",
       "       ..\n",
       "335    30\n",
       "336    30\n",
       "337    30\n",
       "338    30\n",
       "339    11\n",
       "Length: 340, dtype: int64"
      ]
     },
     "execution_count": 18,
     "metadata": {},
     "output_type": "execute_result"
    }
   ],
   "source": [
    "y_oob"
   ]
  },
  {
   "cell_type": "code",
   "execution_count": 16,
   "id": "1f300797-98c9-44ea-80c8-17abaffc7412",
   "metadata": {},
   "outputs": [
    {
     "data": {
      "text/plain": [
       "0.4"
      ]
     },
     "execution_count": 16,
     "metadata": {},
     "output_type": "execute_result"
    }
   ],
   "source": [
    "np.mean(y_oob == y)"
   ]
  },
  {
   "cell_type": "code",
   "execution_count": 21,
   "id": "058d9edb",
   "metadata": {},
   "outputs": [],
   "source": [
    "target=[\"14\",\"27\",\"29\",\"26\",\"31\", \"25\",\"12\",\"1\",\"32\",\"24\",\"5\",\"11\",\"33\",\"9\",\"28\",\"35\",\"6\",\"15\",\"36\",\n",
    "       \"4\",\"2\", \"22\", \"13\",\"10\",\"23\",\"8\",\"7\",\"30\",\"3\",\"34\"]"
   ]
  },
  {
   "cell_type": "code",
   "execution_count": 21,
   "id": "7241c32a",
   "metadata": {},
   "outputs": [
    {
     "name": "stdout",
     "output_type": "stream",
     "text": [
      "              precision    recall  f1-score   support\n",
      "\n",
      "          14       1.00      1.00      1.00         3\n",
      "          27       0.50      1.00      0.67         2\n",
      "          29       1.00      0.50      0.67         2\n",
      "          26       1.00      0.50      0.67         2\n",
      "          31       1.00      1.00      1.00         2\n",
      "          25       1.00      1.00      1.00         2\n",
      "          12       1.00      1.00      1.00         2\n",
      "           1       1.00      1.00      1.00         2\n",
      "          32       0.50      1.00      0.67         3\n",
      "          24       1.00      0.67      0.80         3\n",
      "           5       0.75      1.00      0.86         3\n",
      "          11       1.00      1.00      1.00         2\n",
      "          33       0.60      1.00      0.75         3\n",
      "           9       0.50      0.50      0.50         2\n",
      "          28       1.00      1.00      1.00         2\n",
      "          35       0.67      1.00      0.80         2\n",
      "           6       1.00      1.00      1.00         2\n",
      "          15       0.50      0.67      0.57         3\n",
      "          36       1.00      1.00      1.00         2\n",
      "           4       0.00      0.00      0.00         2\n",
      "           2       1.00      1.00      1.00         2\n",
      "          22       0.50      0.33      0.40         3\n",
      "          13       1.00      1.00      1.00         2\n",
      "          10       1.00      1.00      1.00         3\n",
      "          23       1.00      1.00      1.00         2\n",
      "           8       0.00      0.00      0.00         2\n",
      "           7       1.00      0.50      0.67         2\n",
      "          30       1.00      1.00      1.00         2\n",
      "           3       0.50      0.50      0.50         2\n",
      "          34       1.00      0.50      0.67         2\n",
      "\n",
      "    accuracy                           0.79        68\n",
      "   macro avg       0.80      0.79      0.77        68\n",
      "weighted avg       0.79      0.79      0.77        68\n",
      "\n"
     ]
    }
   ],
   "source": [
    "from sklearn.metrics import classification_report\n",
    "print(classification_report(y_test, y_pred, zero_division=0, target_names = target ))"
   ]
  }
 ],
 "metadata": {
  "kernelspec": {
   "display_name": "Python 3 (ipykernel)",
   "language": "python",
   "name": "python3"
  },
  "language_info": {
   "codemirror_mode": {
    "name": "ipython",
    "version": 3
   },
   "file_extension": ".py",
   "mimetype": "text/x-python",
   "name": "python",
   "nbconvert_exporter": "python",
   "pygments_lexer": "ipython3",
   "version": "3.10.8"
  },
  "vscode": {
   "interpreter": {
    "hash": "aee8b7b246df8f9039afb4144a1f6fd8d2ca17a180786b69acc140d282b71a49"
   }
  }
 },
 "nbformat": 4,
 "nbformat_minor": 5
}
