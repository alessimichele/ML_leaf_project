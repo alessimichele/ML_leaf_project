{
 "cells": [
  {
   "cell_type": "markdown",
   "id": "bf5eaed3",
   "metadata": {},
   "source": [
    "## Preparing the dataset\n",
    "- load the data\n",
    "- rename the columns\n",
    "- split the dataset into train and test (test will be used only at the very final step)\n",
    "- separate the independent variables from the target variables"
   ]
  },
  {
   "cell_type": "code",
   "execution_count": 1,
   "id": "dde6e234",
   "metadata": {},
   "outputs": [],
   "source": [
    "import pandas as pd\n",
    "import numpy as np\n",
    "\n",
    "# load the data\n",
    "leaf = pd.read_csv(\"leaf.csv\" , header = None)\n",
    "\n",
    "# rename the columns\n",
    "names = np.array([\"Class\", \"Specimen\", \"Eccentricity\", \"Aspect Ratio\", \"Elongation\",\n",
    "                  \"Solidity\", \"Stochastic Convexity\", \"Isoperimetric Factor\",\n",
    "                  \"Maximal Indentation Depth \",\"Lobedness\",\"Average Intensity\",\n",
    "                  \"Average Contrast\",\"Smoothness\",\"Third moment\",\"Uniformity\",\"Entropy\"])\n",
    "leaf.columns = names\n",
    "\n",
    "data = leaf.loc[:, leaf.columns != 'Specimen']\n",
    "\n",
    "\n",
    "# split the dataset into train and test\n",
    "from sklearn.model_selection import train_test_split\n",
    "train, test = train_test_split(data, random_state = 5, test_size = 0.2, stratify = data['Class'])\n",
    "train.index = np.linspace(0, len(train)-1, len(train), dtype = 'int')\n",
    "test.index = np.linspace(0, len(test)-1, len(test), dtype = 'int')\n",
    "\n",
    "\n",
    "# separate the independent variables from the target variables\n",
    "X = train.loc[:, train.columns != 'Class']\n",
    "y = train['Class']\n",
    "# X = X_train\n",
    "# y = y_train"
   ]
  },
  {
   "cell_type": "code",
   "execution_count": 2,
   "id": "a5158826",
   "metadata": {},
   "outputs": [
    {
     "data": {
      "image/png": "[encoded data removed]",
      "text/plain": [
       "<Figure size 1800x800 with 1 Axes>"
      ]
     },
     "metadata": {},
     "output_type": "display_data"
    }
   ],
   "source": [
    "import matplotlib.pyplot as plt \n",
    "plt.figure(figsize = (18,8))\n",
    "y.value_counts().plot(kind = \"bar\")\n",
    "plt.xlabel('Classes')\n",
    "plt.ylabel('Observations per class')\n",
    "\n",
    "plt.savefig('unbalanced_classes.png', dpi=1500)\n",
    "plt.show()"
   ]
  },
  {
   "cell_type": "markdown",
   "id": "cc36c998",
   "metadata": {},
   "source": [
    "## Building some useful tools\n",
    "- declaring two cross-validation loop: \n",
    "    - outer stratified cv-loop\n",
    "    - inner non-stratified cv-loop\n",
    "- set the scoring we'd like to compute (this tuple will be used inside 'do_cross_validation')\n",
    "- definition of do_cross_validation: it evaluate metric(s) by cross-validation and also record fit/score times, then print result(s)."
   ]
  },
  {
   "cell_type": "markdown",
   "id": "2d147e5f",
   "metadata": {},
   "source": [
    "### Decide the metric to use\n",
    "Micro average F1 score performs worse on imbalanced datasets than macro average F1 score. The reason for this is because micro F1 gives equal importance to each observation, whilst macro F1 gives each class equal importance.\n",
    "When micro F1 score gives equal importance to each observation this means that when the classes are imbalanced, those classes with more observations will have a larger impact on the final score. Resulting in a final score which hides the performance of the minority classes and amplifies the majority.\n",
    "On the other hand, macro F1 score gives equal importance to each class. This means that a majority class will contribute equally along with the minority, allowing macro f1 to still return objective results on imbalanced datasets."
   ]
  },
  {
   "cell_type": "markdown",
   "id": "89c0306c",
   "metadata": {},
   "source": [
    "## Stratified?\n",
    "- Paper: https://arxiv.org/pdf/1811.12808.pdf\n",
    "- Code: https://github.com/rasbt/model-eval-article-supplementary/blob/master/code/nested_cv_code.ipynb\n",
    "\n",
    "Here he uses stratified K Fold both for inner and outer CV"
   ]
  },
  {
   "cell_type": "code",
   "execution_count": 3,
   "id": "0e0e6c39",
   "metadata": {},
   "outputs": [],
   "source": [
    "from sklearn.model_selection import GridSearchCV, StratifiedKFold, cross_val_score, KFold, LeaveOneOut, cross_validate\n",
    "\n",
    "# declaring two cross-validation loop\n",
    "inner_cv = StratifiedKFold(n_splits = 4) # random_state = 10)\n",
    "outer_cv = StratifiedKFold(n_splits = 5, shuffle = True, random_state=10)\n",
    "\n",
    "# set the scoring\n",
    "scoring = ('f1_macro', 'balanced_accuracy')\n",
    "# definition of do_cross_validation\n",
    "def do_cross_validation(clf,X=X, y=y, print_model=True, scoring = scoring):\n",
    "    cv = cross_validate(clf, X, y, scoring=scoring, cv= outer_cv, return_train_score=False)\n",
    "\n",
    "    for i in range(len(scoring)):\n",
    "        scores = ' + '.join(f'{s:.2f}' for s in cv['test_' + scoring[i]])\n",
    "        mean_ = cv['test_' + scoring[i]].mean()\n",
    "        msg = f'Cross-validated {scoring[i]}: ({scores}) / {outer_cv.n_splits} = {mean_:.2f}'\n",
    "        if print_model:\n",
    "            msg = f'{clf}:\\n\\t{msg}\\n'\n",
    "        print(msg)"
   ]
  },
  {
   "cell_type": "code",
   "execution_count": 4,
   "id": "6c399920",
   "metadata": {},
   "outputs": [],
   "source": [
    "from sklearn.model_selection import GridSearchCV"
   ]
  },
  {
   "cell_type": "markdown",
   "id": "32580686",
   "metadata": {},
   "source": [
    "## Train Single tree \n",
    "Use 'min_samples_leaf' and impurity measures ('criterion').\n",
    "\n",
    "The paper, \"An empirical study on hyperparameter tuning of decision trees\" states that the ideal min_samples_leaf values tend to be between 1 to 20 (https://arxiv.org/pdf/1812.02207.pdf)\n",
    "\n",
    "\" I think one exception to this is when you have an imbalanced class problem because then the regions in which the minority class will be in majority will be very small so you should go with a lower value.\" (https://towardsdatascience.com/how-to-tune-a-decision-tree-f03721801680#:~:text=further%20in%20min_impurity_decrease.-,The%20paper%2C%20An%20empirical%20study%20on%20hyperparameter%20tuning%20of%20decision,20%20for%20the%20CART%20algorithm.)\n",
    "\n",
    "Our dataset is not so large so I suggest to use not so big values for 'min_samples_leaf'.\n",
    "\n",
    "https://scikit-learn.org/stable/modules/tree.html"
   ]
  },
  {
   "cell_type": "code",
   "execution_count": 5,
   "id": "687b29be",
   "metadata": {},
   "outputs": [
    {
     "name": "stdout",
     "output_type": "stream",
     "text": [
      "GridSearchCV(cv=StratifiedKFold(n_splits=4, random_state=None, shuffle=False),\n",
      "             estimator=DecisionTreeClassifier(random_state=0), n_jobs=4,\n",
      "             param_grid={'criterion': ['gini', 'entropy'],\n",
      "                         'min_samples_leaf': [1, 2, 5, 10, 15]},\n",
      "             scoring='balanced_accuracy'):\n",
      "\tCross-validated f1_macro: (0.47 + 0.54 + 0.52 + 0.59 + 0.55) / 5 = 0.53\n",
      "\n",
      "GridSearchCV(cv=StratifiedKFold(n_splits=4, random_state=None, shuffle=False),\n",
      "             estimator=DecisionTreeClassifier(random_state=0), n_jobs=4,\n",
      "             param_grid={'criterion': ['gini', 'entropy'],\n",
      "                         'min_samples_leaf': [1, 2, 5, 10, 15]},\n",
      "             scoring='balanced_accuracy'):\n",
      "\tCross-validated balanced_accuracy: (0.52 + 0.60 + 0.55 + 0.61 + 0.60) / 5 = 0.58\n",
      "\n"
     ]
    }
   ],
   "source": [
    "from sklearn.tree import DecisionTreeClassifier\n",
    "# tree inner loop\n",
    "param_grid={'min_samples_leaf': [1, 2, 5, 10, 15] , 'criterion': [\"gini\", \"entropy\"]}\n",
    "clf_grid = GridSearchCV(DecisionTreeClassifier(random_state = 0), scoring = 'balanced_accuracy', param_grid=param_grid, cv = inner_cv, n_jobs=4)\n",
    "# tree outer loop\n",
    "do_cross_validation(clf_grid)"
   ]
  },
  {
   "cell_type": "code",
   "execution_count": 6,
   "id": "78478151",
   "metadata": {},
   "outputs": [
    {
     "data": {
      "text/plain": [
       "0.03498571136907178"
      ]
     },
     "execution_count": 6,
     "metadata": {},
     "output_type": "execute_result"
    }
   ],
   "source": [
    "np.std([0.52 , 0.60 , 0.55 , 0.61 , 0.60])"
   ]
  },
  {
   "cell_type": "markdown",
   "id": "4001a0b7",
   "metadata": {},
   "source": [
    "## Train RandomForest\n",
    "- train a RandomForest by a two nested CV loop. \n",
    "    - in the outer loop we estimate the score indexes using 'do_cross_validation'\n",
    "    - in the inner loop we to GridSearch\n",
    "\n",
    "The main parameters to adjust when using Random Forest method is n_estimators and max_features.\n",
    "\n",
    "Sklearn documentation (https://scikit-learn.org/stable/modules/ensemble.html#parameters) suggests that the option 'sqrt' (this option will take square root of the total number of features in individual each split) for 'max_features' is generally good for classification problems ('sqrt' should be the default value).\n",
    "For 'n_estimators' the larger the better, but also the longer it will take to compute so we can choose some random  high values."
   ]
  },
  {
   "cell_type": "code",
   "execution_count": 7,
   "id": "673d580c",
   "metadata": {},
   "outputs": [
    {
     "name": "stdout",
     "output_type": "stream",
     "text": [
      "GridSearchCV(cv=StratifiedKFold(n_splits=4, random_state=None, shuffle=False),\n",
      "             estimator=RandomForestClassifier(random_state=0), n_jobs=4,\n",
      "             param_grid={'max_features': ['sqrt'],\n",
      "                         'n_estimators': [100, 200, 500, 750, 1000]},\n",
      "             scoring='balanced_accuracy'):\n",
      "\tCross-validated f1_macro: (0.78 + 0.69 + 0.66 + 0.71 + 0.70) / 5 = 0.71\n",
      "\n",
      "GridSearchCV(cv=StratifiedKFold(n_splits=4, random_state=None, shuffle=False),\n",
      "             estimator=RandomForestClassifier(random_state=0), n_jobs=4,\n",
      "             param_grid={'max_features': ['sqrt'],\n",
      "                         'n_estimators': [100, 200, 500, 750, 1000]},\n",
      "             scoring='balanced_accuracy'):\n",
      "\tCross-validated balanced_accuracy: (0.78 + 0.73 + 0.70 + 0.74 + 0.72) / 5 = 0.73\n",
      "\n"
     ]
    }
   ],
   "source": [
    "from sklearn.ensemble import RandomForestClassifier\n",
    "# random forest inner loop\n",
    "param_grid={'max_features': ['sqrt'], 'n_estimators':[ 100, 200, 500, 750 ,1000]}\n",
    "clf_grid = GridSearchCV(RandomForestClassifier(random_state=0), scoring = 'balanced_accuracy', param_grid=param_grid, cv = inner_cv, n_jobs=4)\n",
    "# random forest outer loop\n",
    "do_cross_validation(clf_grid)"
   ]
  },
  {
   "cell_type": "code",
   "execution_count": 8,
   "id": "aa384a6e",
   "metadata": {},
   "outputs": [
    {
     "data": {
      "text/plain": [
       "0.026532998322843223"
      ]
     },
     "execution_count": 8,
     "metadata": {},
     "output_type": "execute_result"
    }
   ],
   "source": [
    "np.std([0.78,0.73,0.70,0.74,0.72])"
   ]
  },
  {
   "cell_type": "markdown",
   "id": "d113ba18",
   "metadata": {},
   "source": [
    "## Standardization\n",
    "\n",
    "before moving to SVM and kNN, we need to standardize our independent variable. Since we are using cross validation also to assess our final performance metric we need to ensure that standardization is performed in each fold and not on the whole dataset.\\\n",
    "In order to do this we need to use the sklearn `pipeline` in conjunction with nested cross validation as before.\\\n",
    "**Performing standardization on the whole set would be wrong as we'd have information leakage from the data we use to perform our cross validation**\\\n",
    "\n",
    "When you use parameter_grid remember that the parameters must have the name of the classifier"
   ]
  },
  {
   "cell_type": "code",
   "execution_count": 9,
   "id": "72c9773b",
   "metadata": {},
   "outputs": [],
   "source": [
    "from sklearn.preprocessing import StandardScaler\n",
    "from sklearn.pipeline import Pipeline"
   ]
  },
  {
   "cell_type": "markdown",
   "id": "04b226f4",
   "metadata": {},
   "source": [
    "## Train SVM with Gaussian Kernel \n",
    "- train a SVM by a two nested CV loop. \n",
    "    - in the outer loop we estimate the score indexes using 'do_cross_validation'\n",
    "    - in the inner loop we to GridSearch\n",
    "\n",
    "Hyper-paramters to consider in the grid search:\n",
    " - `gamma`: use a set of float values, sklearn documentation suggests using exponentially spaced ones (and so do other tutorials).\n",
    " - `C`: use a set of float values, sklearn documentation suggests using exponentially spaced ones (and so do other tutorials)."
   ]
  },
  {
   "cell_type": "code",
   "execution_count": 10,
   "id": "7cf38c2f",
   "metadata": {},
   "outputs": [],
   "source": [
    "from sklearn.svm import SVC\n",
    "pipeline_SVC = Pipeline([('scaler', StandardScaler()),\n",
    "                        ('classifier', SVC(kernel='rbf', probability = True))]) #If we choose some scoring without probability set probability to FALSE\n",
    "param_grid = {'classifier__C': np.logspace(-2, 5, 8), 'classifier__gamma' : np.logspace(-4, 3, 8)}\n",
    "grid_search = GridSearchCV(pipeline_SVC, param_grid=param_grid, scoring = 'balanced_accuracy', cv = inner_cv, n_jobs=4)"
   ]
  },
  {
   "cell_type": "code",
   "execution_count": 11,
   "id": "454ff202",
   "metadata": {},
   "outputs": [
    {
     "name": "stdout",
     "output_type": "stream",
     "text": [
      "GridSearchCV(cv=StratifiedKFold(n_splits=4, random_state=None, shuffle=False),\n",
      "             estimator=Pipeline(steps=[('scaler', StandardScaler()),\n",
      "                                       ('classifier', SVC(probability=True))]),\n",
      "             n_jobs=4,\n",
      "             param_grid={'classifier__C': array([1.e-02, 1.e-01, 1.e+00, 1.e+01, 1.e+02, 1.e+03, 1.e+04, 1.e+05]),\n",
      "                         'classifier__gamma': array([1.e-04, 1.e-03, 1.e-02, 1.e-01, 1.e+00, 1.e+01, 1.e+02, 1.e+03])},\n",
      "             scoring='balanced_accuracy'):\n",
      "\tCross-validated f1_macro: (0.75 + 0.64 + 0.67 + 0.68 + 0.70) / 5 = 0.69\n",
      "\n",
      "GridSearchCV(cv=StratifiedKFold(n_splits=4, random_state=None, shuffle=False),\n",
      "             estimator=Pipeline(steps=[('scaler', StandardScaler()),\n",
      "                                       ('classifier', SVC(probability=True))]),\n",
      "             n_jobs=4,\n",
      "             param_grid={'classifier__C': array([1.e-02, 1.e-01, 1.e+00, 1.e+01, 1.e+02, 1.e+03, 1.e+04, 1.e+05]),\n",
      "                         'classifier__gamma': array([1.e-04, 1.e-03, 1.e-02, 1.e-01, 1.e+00, 1.e+01, 1.e+02, 1.e+03])},\n",
      "             scoring='balanced_accuracy'):\n",
      "\tCross-validated balanced_accuracy: (0.77 + 0.70 + 0.70 + 0.69 + 0.72) / 5 = 0.72\n",
      "\n"
     ]
    }
   ],
   "source": [
    "do_cross_validation(grid_search)"
   ]
  },
  {
   "cell_type": "code",
   "execution_count": 12,
   "id": "e8160115",
   "metadata": {},
   "outputs": [
    {
     "data": {
      "text/plain": [
       "0.028705400188814675"
      ]
     },
     "execution_count": 12,
     "metadata": {},
     "output_type": "execute_result"
    }
   ],
   "source": [
    "np.std([0.77,0.70,0.70,0.69,0.72])"
   ]
  },
  {
   "cell_type": "markdown",
   "id": "8aca1ba3",
   "metadata": {},
   "source": [
    "## Train SVM with Linear Kernel \n",
    "- train a SVM by a two nested CV loop. \n",
    "    - in the outer loop we estimate the score indexes using 'do_cross_validation'\n",
    "    - in the inner loop we to GridSearch\n",
    "\n",
    "Hyper-paramters to consider in the grid search:\n",
    " - `gamma`: use a set of float values, sklearn documentation suggests using exponentially spaced ones (and so do other tutorials).\n",
    " - `C`: use a set of float values, sklearn documentation suggests using exponentially spaced ones (and so do other tutorials)."
   ]
  },
  {
   "cell_type": "markdown",
   "id": "987d8379",
   "metadata": {},
   "source": [
    "### LinearSVC: possible alternative, but discard since ther's no built in probability parameter\n",
    "Linear Support Vector Classification.\n",
    "\n",
    "Similar to SVC with parameter kernel=’linear’, but implemented in terms of liblinear rather than libsvm, so it has more flexibility in the choice of penalties and loss functions and should scale better to large numbers of samples.\n",
    "\n",
    "This class supports both dense and sparse input and the multiclass support is handled according to a one-vs-the-rest scheme.\n",
    "\n"
   ]
  },
  {
   "cell_type": "markdown",
   "id": "443f72a2",
   "metadata": {},
   "source": [
    "https://medium.com/@myselfaman12345/c-and-gamma-in-svm-e6cee48626be\n",
    "    \n",
    "After multiple trials, we get the higher score with that value of C parameter"
   ]
  },
  {
   "cell_type": "code",
   "execution_count": 13,
   "id": "b3911a96",
   "metadata": {},
   "outputs": [],
   "source": [
    "from sklearn.svm import SVC\n",
    "pipeline_SVC = Pipeline([('scaler', StandardScaler()),\n",
    "                        ('classifier', SVC(kernel='linear', probability=True))]) #If we choose some scoring without probability set probability to FALSE\n",
    "param_grid = {'classifier__C': np.logspace(-3, 10, 10), 'classifier__decision_function_shape': ['ovo','ovr']}\n",
    "grid_search = GridSearchCV(pipeline_SVC, param_grid=param_grid, scoring = 'balanced_accuracy', cv = inner_cv, n_jobs=4)"
   ]
  },
  {
   "cell_type": "code",
   "execution_count": 14,
   "id": "f3d8950f",
   "metadata": {},
   "outputs": [
    {
     "name": "stdout",
     "output_type": "stream",
     "text": [
      "GridSearchCV(cv=StratifiedKFold(n_splits=4, random_state=None, shuffle=False),\n",
      "             estimator=Pipeline(steps=[('scaler', StandardScaler()),\n",
      "                                       ('classifier',\n",
      "                                        SVC(kernel='linear',\n",
      "                                            probability=True))]),\n",
      "             n_jobs=4,\n",
      "             param_grid={'classifier__C': array([1.00000000e-03, 2.78255940e-02, 7.74263683e-01, 2.15443469e+01,\n",
      "       5.99484250e+02, 1.66810054e+04, 4.64158883e+05, 1.29154967e+07,\n",
      "       3.59381366e+08, 1.00000000e+10]),\n",
      "                         'classifier__decision_function_shape': ['ovo', 'ovr']},\n",
      "             scoring='balanced_accuracy'):\n",
      "\tCross-validated f1_macro: (0.64 + 0.67 + 0.63 + 0.68 + 0.72) / 5 = 0.67\n",
      "\n",
      "GridSearchCV(cv=StratifiedKFold(n_splits=4, random_state=None, shuffle=False),\n",
      "             estimator=Pipeline(steps=[('scaler', StandardScaler()),\n",
      "                                       ('classifier',\n",
      "                                        SVC(kernel='linear',\n",
      "                                            probability=True))]),\n",
      "             n_jobs=4,\n",
      "             param_grid={'classifier__C': array([1.00000000e-03, 2.78255940e-02, 7.74263683e-01, 2.15443469e+01,\n",
      "       5.99484250e+02, 1.66810054e+04, 4.64158883e+05, 1.29154967e+07,\n",
      "       3.59381366e+08, 1.00000000e+10]),\n",
      "                         'classifier__decision_function_shape': ['ovo', 'ovr']},\n",
      "             scoring='balanced_accuracy'):\n",
      "\tCross-validated balanced_accuracy: (0.67 + 0.72 + 0.68 + 0.69 + 0.75) / 5 = 0.70\n",
      "\n"
     ]
    }
   ],
   "source": [
    "do_cross_validation(grid_search)"
   ]
  },
  {
   "cell_type": "code",
   "execution_count": 15,
   "id": "78cbb0a3",
   "metadata": {},
   "outputs": [
    {
     "data": {
      "text/plain": [
       "0.029257477676655572"
      ]
     },
     "execution_count": 15,
     "metadata": {},
     "output_type": "execute_result"
    }
   ],
   "source": [
    "np.std([0.67 , 0.72 , 0.68 , 0.69 , 0.75])"
   ]
  },
  {
   "cell_type": "markdown",
   "id": "f0720ccb",
   "metadata": {},
   "source": [
    "## Train kNN\n",
    "- train a kNN by a two nested CV loop. \n",
    "    - in the outer loop we estimate the score indexes using 'do_cross_validation'\n",
    "    - in the inner loop we to GridSearch\n",
    "\n",
    "The main hyper-parameters to consider when using kNN method is the distance ('classifier__p') and the number of neighbors ('classifier__n_neighbors')."
   ]
  },
  {
   "cell_type": "code",
   "execution_count": 16,
   "id": "04b375b4",
   "metadata": {},
   "outputs": [],
   "source": [
    "from sklearn.neighbors import KNeighborsClassifier\n",
    "pipeline_KNN = Pipeline([('scaler', StandardScaler()),\n",
    "                        ('classifier', KNeighborsClassifier())])\n",
    "\n",
    "# classifier_p = 1 means manhattan_distance (l1), classifier_p = 2 means euclidean_distance (l2)\n",
    "param_grid = {'classifier__n_neighbors': list(range(1,15)), 'classifier__p':[1, 2]}\n",
    "grid_search = GridSearchCV(pipeline_KNN, param_grid=param_grid, scoring = 'balanced_accuracy', cv = inner_cv)"
   ]
  },
  {
   "cell_type": "code",
   "execution_count": 17,
   "id": "cc3e1ebd",
   "metadata": {},
   "outputs": [
    {
     "name": "stdout",
     "output_type": "stream",
     "text": [
      "GridSearchCV(cv=StratifiedKFold(n_splits=4, random_state=None, shuffle=False),\n",
      "             estimator=Pipeline(steps=[('scaler', StandardScaler()),\n",
      "                                       ('classifier', KNeighborsClassifier())]),\n",
      "             param_grid={'classifier__n_neighbors': [1, 2, 3, 4, 5, 6, 7, 8, 9,\n",
      "                                                     10, 11, 12, 13, 14],\n",
      "                         'classifier__p': [1, 2]},\n",
      "             scoring='balanced_accuracy'):\n",
      "\tCross-validated f1_macro: (0.66 + 0.80 + 0.60 + 0.54 + 0.71) / 5 = 0.66\n",
      "\n",
      "GridSearchCV(cv=StratifiedKFold(n_splits=4, random_state=None, shuffle=False),\n",
      "             estimator=Pipeline(steps=[('scaler', StandardScaler()),\n",
      "                                       ('classifier', KNeighborsClassifier())]),\n",
      "             param_grid={'classifier__n_neighbors': [1, 2, 3, 4, 5, 6, 7, 8, 9,\n",
      "                                                     10, 11, 12, 13, 14],\n",
      "                         'classifier__p': [1, 2]},\n",
      "             scoring='balanced_accuracy'):\n",
      "\tCross-validated balanced_accuracy: (0.67 + 0.82 + 0.63 + 0.59 + 0.73) / 5 = 0.69\n",
      "\n"
     ]
    }
   ],
   "source": [
    "do_cross_validation(grid_search)"
   ]
  },
  {
   "cell_type": "code",
   "execution_count": 18,
   "id": "0b7c4698",
   "metadata": {},
   "outputs": [
    {
     "data": {
      "text/plain": [
       "0.08059776671843952"
      ]
     },
     "execution_count": 18,
     "metadata": {},
     "output_type": "execute_result"
    }
   ],
   "source": [
    "np.std([0.67 , 0.82 , 0.63 , 0.59 , 0.73])"
   ]
  },
  {
   "cell_type": "markdown",
   "id": "2f86331b",
   "metadata": {},
   "source": [
    "## Plot a confusion matrix for the choosen classifier (RF, which has greater balanced accuracy and smaller std)"
   ]
  },
  {
   "cell_type": "code",
   "execution_count": 19,
   "id": "7566b9fb",
   "metadata": {},
   "outputs": [
    {
     "data": {
      "image/png": "[encoded data removed]",
      "text/plain": [
       "<Figure size 1800x800 with 2 Axes>"
      ]
     },
     "metadata": {},
     "output_type": "display_data"
    }
   ],
   "source": [
    "from sklearn import metrics\n",
    "from sklearn.model_selection import train_test_split\n",
    "import seaborn as sns\n",
    "import matplotlib.pyplot as plt \n",
    "\n",
    "\n",
    "X_test = test.loc[:, test.columns != 'Class']\n",
    "y_test = test['Class']\n",
    "\n",
    "param_grid={'max_features': ['sqrt'], 'n_estimators':[ 100, 200, 500, 750 ,1000]}\n",
    "RF = GridSearchCV(RandomForestClassifier(random_state=0), scoring = 'balanced_accuracy', param_grid=param_grid, cv = inner_cv, n_jobs=4)\n",
    "\n",
    "RF.fit(X,y)\n",
    "y_pred = RF.predict(X_test)\n",
    "\n",
    "#fig=plt.gcf()\n",
    "plt.figure(figsize = (18,8))\n",
    "sns.heatmap(metrics.confusion_matrix(y_test, y_pred), annot = True, xticklabels = y_test.unique(), yticklabels = y_test.unique(), cmap = 'summer')\n",
    "plt.xlabel('Predicted Labels')\n",
    "plt.ylabel('True Labels')\n",
    "\n",
    "plt.savefig('confmat.png', dpi=1500)\n",
    "plt.show()"
   ]
  },
  {
   "cell_type": "code",
   "execution_count": 20,
   "id": "4984bdb0",
   "metadata": {},
   "outputs": [],
   "source": [
    "target=[\"14\",\"27\",\"29\",\"26\",\"31\", \"25\",\"12\",\"1\",\"32\",\"24\",\"5\",\"11\",\"33\",\"9\",\"28\",\"35\",\"6\",\"15\",\"36\",\n",
    "       \"4\",\"2\", \"22\", \"13\",\"10\",\"23\",\"8\",\"7\",\"30\",\"3\",\"34\"]"
   ]
  },
  {
   "cell_type": "code",
   "execution_count": 21,
   "id": "8faa1631",
   "metadata": {},
   "outputs": [
    {
     "name": "stdout",
     "output_type": "stream",
     "text": [
      "              precision    recall  f1-score   support\n",
      "\n",
      "          14       1.00      1.00      1.00         3\n",
      "          27       0.50      1.00      0.67         2\n",
      "          29       1.00      0.50      0.67         2\n",
      "          26       1.00      0.50      0.67         2\n",
      "          31       1.00      1.00      1.00         2\n",
      "          25       1.00      1.00      1.00         2\n",
      "          12       1.00      1.00      1.00         2\n",
      "           1       1.00      1.00      1.00         2\n",
      "          32       0.50      1.00      0.67         3\n",
      "          24       1.00      0.67      0.80         3\n",
      "           5       0.75      1.00      0.86         3\n",
      "          11       1.00      1.00      1.00         2\n",
      "          33       0.60      1.00      0.75         3\n",
      "           9       0.50      0.50      0.50         2\n",
      "          28       1.00      1.00      1.00         2\n",
      "          35       0.67      1.00      0.80         2\n",
      "           6       1.00      1.00      1.00         2\n",
      "          15       0.50      0.67      0.57         3\n",
      "          36       1.00      1.00      1.00         2\n",
      "           4       0.00      0.00      0.00         2\n",
      "           2       1.00      1.00      1.00         2\n",
      "          22       0.50      0.33      0.40         3\n",
      "          13       1.00      1.00      1.00         2\n",
      "          10       1.00      1.00      1.00         3\n",
      "          23       1.00      1.00      1.00         2\n",
      "           8       0.00      0.00      0.00         2\n",
      "           7       1.00      0.50      0.67         2\n",
      "          30       1.00      1.00      1.00         2\n",
      "           3       0.50      0.50      0.50         2\n",
      "          34       1.00      0.50      0.67         2\n",
      "\n",
      "    accuracy                           0.79        68\n",
      "   macro avg       0.80      0.79      0.77        68\n",
      "weighted avg       0.79      0.79      0.77        68\n",
      "\n"
     ]
    }
   ],
   "source": [
    "from sklearn.metrics import classification_report\n",
    "print(classification_report(y_test, y_pred, zero_division=0, target_names = target ))"
   ]
  },
  {
   "cell_type": "code",
   "execution_count": 66,
   "id": "c86cec3d",
   "metadata": {},
   "outputs": [
    {
     "ename": "TypeError",
     "evalue": "'operator.itemgetter' object is not subscriptable",
     "output_type": "error",
     "traceback": [
      "\u001b[0;31m---------------------------------------------------------------------------\u001b[0m",
      "\u001b[0;31mTypeError\u001b[0m                                 Traceback (most recent call last)",
      "Cell \u001b[0;32mIn[66], line 8\u001b[0m\n\u001b[1;32m      2\u001b[0m report \u001b[38;5;241m=\u001b[39m classification_report(y_test, y_pred, output_dict\u001b[38;5;241m=\u001b[39m\u001b[38;5;28;01mTrue\u001b[39;00m, zero_division\u001b[38;5;241m=\u001b[39m\u001b[38;5;241m0\u001b[39m, target_names \u001b[38;5;241m=\u001b[39m target)\n\u001b[1;32m      4\u001b[0m \u001b[38;5;66;03m#dict(sorted(report.items(), key=lambda item: item[1]))\u001b[39;00m\n\u001b[1;32m      5\u001b[0m \n\u001b[1;32m      6\u001b[0m \u001b[38;5;66;03m#rank = OrderedDict(sorted(report.items(), key = lambda x: getitem(x[1], 'f1-score')))\u001b[39;00m\n\u001b[1;32m      7\u001b[0m \u001b[38;5;66;03m#print(str(rank))\u001b[39;00m\n\u001b[0;32m----> 8\u001b[0m \u001b[38;5;28msorted\u001b[39m(report\u001b[38;5;241m.\u001b[39mitems(), key \u001b[38;5;241m=\u001b[39m  \u001b[43moperator\u001b[49m\u001b[38;5;241;43m.\u001b[39;49m\u001b[43mitemgetter\u001b[49m\u001b[43m(\u001b[49m\u001b[38;5;241;43m1\u001b[39;49m\u001b[43m)\u001b[49m\u001b[43m[\u001b[49m\u001b[38;5;124;43m'\u001b[39;49m\u001b[38;5;124;43mf1-score\u001b[39;49m\u001b[38;5;124;43m'\u001b[39;49m\u001b[43m]\u001b[49m)\n",
      "\u001b[0;31mTypeError\u001b[0m: 'operator.itemgetter' object is not subscriptable"
     ]
    }
   ],
   "source": [
    "import operator\n",
    "report = classification_report(y_test, y_pred, output_dict=True, zero_division=0, target_names = target)\n",
    "\n",
    "#dict(sorted(report.items(), key=lambda item: item[1]))\n",
    "\n",
    "#rank = OrderedDict(sorted(report.items(), key = lambda x: getitem(x[1], 'f1-score')))\n",
    "#print(str(rank))\n",
    "sorted(report.items(), key =  operator.itemgetter(1)['f1-score'])"
   ]
  },
  {
   "cell_type": "code",
   "execution_count": 60,
   "id": "21105c7c",
   "metadata": {},
   "outputs": [
    {
     "data": {
      "text/plain": [
       "1.0"
      ]
     },
     "execution_count": 60,
     "metadata": {},
     "output_type": "execute_result"
    }
   ],
   "source": [
    "list(report.items())[0][1]['f1-score']"
   ]
  },
  {
   "cell_type": "code",
   "execution_count": 64,
   "id": "31237b9d",
   "metadata": {},
   "outputs": [
    {
     "data": {
      "text/plain": [
       "{'14': {'precision': 1.0, 'recall': 1.0, 'f1-score': 1.0, 'support': 3},\n",
       " '27': {'precision': 0.5,\n",
       "  'recall': 1.0,\n",
       "  'f1-score': 0.6666666666666666,\n",
       "  'support': 2},\n",
       " '29': {'precision': 1.0,\n",
       "  'recall': 0.5,\n",
       "  'f1-score': 0.6666666666666666,\n",
       "  'support': 2},\n",
       " '26': {'precision': 1.0,\n",
       "  'recall': 0.5,\n",
       "  'f1-score': 0.6666666666666666,\n",
       "  'support': 2},\n",
       " '31': {'precision': 1.0, 'recall': 1.0, 'f1-score': 1.0, 'support': 2},\n",
       " '25': {'precision': 1.0, 'recall': 1.0, 'f1-score': 1.0, 'support': 2},\n",
       " '12': {'precision': 1.0, 'recall': 1.0, 'f1-score': 1.0, 'support': 2},\n",
       " '1': {'precision': 1.0, 'recall': 1.0, 'f1-score': 1.0, 'support': 2},\n",
       " '32': {'precision': 0.5,\n",
       "  'recall': 1.0,\n",
       "  'f1-score': 0.6666666666666666,\n",
       "  'support': 3},\n",
       " '24': {'precision': 1.0,\n",
       "  'recall': 0.6666666666666666,\n",
       "  'f1-score': 0.8,\n",
       "  'support': 3},\n",
       " '5': {'precision': 0.75,\n",
       "  'recall': 1.0,\n",
       "  'f1-score': 0.8571428571428571,\n",
       "  'support': 3},\n",
       " '11': {'precision': 1.0, 'recall': 1.0, 'f1-score': 1.0, 'support': 2},\n",
       " '33': {'precision': 0.6,\n",
       "  'recall': 1.0,\n",
       "  'f1-score': 0.7499999999999999,\n",
       "  'support': 3},\n",
       " '9': {'precision': 0.5, 'recall': 0.5, 'f1-score': 0.5, 'support': 2},\n",
       " '28': {'precision': 1.0, 'recall': 1.0, 'f1-score': 1.0, 'support': 2},\n",
       " '35': {'precision': 0.6666666666666666,\n",
       "  'recall': 1.0,\n",
       "  'f1-score': 0.8,\n",
       "  'support': 2},\n",
       " '6': {'precision': 1.0, 'recall': 1.0, 'f1-score': 1.0, 'support': 2},\n",
       " '15': {'precision': 0.5,\n",
       "  'recall': 0.6666666666666666,\n",
       "  'f1-score': 0.5714285714285715,\n",
       "  'support': 3},\n",
       " '36': {'precision': 1.0, 'recall': 1.0, 'f1-score': 1.0, 'support': 2},\n",
       " '4': {'precision': 0.0, 'recall': 0.0, 'f1-score': 0.0, 'support': 2},\n",
       " '2': {'precision': 1.0, 'recall': 1.0, 'f1-score': 1.0, 'support': 2},\n",
       " '22': {'precision': 0.5,\n",
       "  'recall': 0.3333333333333333,\n",
       "  'f1-score': 0.4,\n",
       "  'support': 3},\n",
       " '13': {'precision': 1.0, 'recall': 1.0, 'f1-score': 1.0, 'support': 2},\n",
       " '10': {'precision': 1.0, 'recall': 1.0, 'f1-score': 1.0, 'support': 3},\n",
       " '23': {'precision': 1.0, 'recall': 1.0, 'f1-score': 1.0, 'support': 2},\n",
       " '8': {'precision': 0.0, 'recall': 0.0, 'f1-score': 0.0, 'support': 2},\n",
       " '7': {'precision': 1.0,\n",
       "  'recall': 0.5,\n",
       "  'f1-score': 0.6666666666666666,\n",
       "  'support': 2},\n",
       " '30': {'precision': 1.0, 'recall': 1.0, 'f1-score': 1.0, 'support': 2},\n",
       " '3': {'precision': 0.5, 'recall': 0.5, 'f1-score': 0.5, 'support': 2},\n",
       " '34': {'precision': 1.0,\n",
       "  'recall': 0.5,\n",
       "  'f1-score': 0.6666666666666666,\n",
       "  'support': 2},\n",
       " 'accuracy': 0.7941176470588235,\n",
       " 'macro avg': {'precision': 0.8005555555555556,\n",
       "  'recall': 0.7888888888888889,\n",
       "  'f1-score': 0.7726190476190476,\n",
       "  'support': 68},\n",
       " 'weighted avg': {'precision': 0.7924019607843137,\n",
       "  'recall': 0.7941176470588235,\n",
       "  'f1-score': 0.7706232492997199,\n",
       "  'support': 68}}"
      ]
     },
     "execution_count": 64,
     "metadata": {},
     "output_type": "execute_result"
    }
   ],
   "source": [
    "report"
   ]
  },
  {
   "cell_type": "code",
   "execution_count": null,
   "id": "9b9084d7",
   "metadata": {},
   "outputs": [],
   "source": []
  }
 ],
 "metadata": {
  "kernelspec": {
   "display_name": "Python 3 (ipykernel)",
   "language": "python",
   "name": "python3"
  },
  "language_info": {
   "codemirror_mode": {
    "name": "ipython",
    "version": 3
   },
   "file_extension": ".py",
   "mimetype": "text/x-python",
   "name": "python",
   "nbconvert_exporter": "python",
   "pygments_lexer": "ipython3",
   "version": "3.11.1"
  },
  "vscode": {
   "interpreter": {
    "hash": "9533920c7ee3feefaac535b9c7b09635a12db6b56d85f8d667a5e58c27926dfa"
   }
  }
 },
 "nbformat": 4,
 "nbformat_minor": 5
}
